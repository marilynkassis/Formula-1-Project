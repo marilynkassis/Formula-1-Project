{
 "cells": [
  {
   "cell_type": "markdown",
   "metadata": {},
   "source": [
    "#  Formula 1 Project\n",
    "\n",
    "Solving the questions based on the `f1_data.csv` dataset. \n",
    "\n",
    "\n",
    "The data is composed of the following variables:\n",
    "* `car_number`: the number of the car\n",
    "* `grid_starting_position`: the starting position of the car in the grid\n",
    "* `final_position`: the position in which that driver ended\n",
    "* `points`: the points earned by the driver in the race\n",
    "* `laps`: the number of laps completed by the driver\n",
    "* `total_race_time_ms`: the total time the driver took to complete the race in milliseconds\n",
    "* `fastest_lap`: the fastest lap completed by the driver\n",
    "* `rank`: the rank of the driver in the race\n",
    "* `fastest_lap_time`: the time taken to complete the fastest lap\n",
    "* `fastest_lap_speed`: the speed of the fastest lap\n",
    "* `year`: the year of the race\n",
    "* `race_number_season`: the number of the race in the season\n",
    "* `race_name`: the name of the race\n",
    "* `race_date`: the date of the race\n",
    "* `race_start_time`: the start time of the race\n",
    "* `circuit_name`: the name of the circuit where the race took place\n",
    "* `circuit_location`: the location of the circuit\n",
    "* `circuit_country`: the country where the circuit is located\n",
    "* `circuit_lat`: the latitude of the circuit\n",
    "* `circuit_lng`: the longitude of the circuit\n",
    "* `circuit_altitude`: the altitude of the circuit\n",
    "* `driver`: the name of the driver\n",
    "* `driver_dob`: the date of birth of the driver\n",
    "* `driver_nationality`: the nationality of the driver\n",
    "* `constructor_name`: the name of the constructor team\n",
    "* `constructor_nationality`: the nationality of the constructor team\n",
    "* `status`: the status of the driver in the race (e.g., Finished, Did Not Finish, etc.)\n",
    "\n"
   ]
  },
  {
   "cell_type": "markdown",
   "metadata": {},
   "source": [
    "### 1. Basic operations. (1 point)\n",
    "\n",
    "* Open the dataset as a pandas dataframe and show the first 10 rows\n",
    "* Show the number of rows and columns\n",
    "* Show the data types of each column\n",
    "* Calculate a column called `age` which represents the age of each driver on the date of the race:\n",
    "    * Hint1: use the `pd.to_datetime` function to convert the date columns to datetime\n",
    "    * Hint2: use the `driver_dob` and substract from it the `race_date` column\n",
    "    * Hint3: use the `dt.days` property to convert the result to days, then divide by 365.25 to get the age in years"
   ]
  },
  {
   "cell_type": "code",
   "execution_count": 2,
   "metadata": {},
   "outputs": [],
   "source": [
    "import pandas as pd\n",
    "\n",
    "# Load the dataset into a pandas dataframe\n",
    "file_path = 'f1_data.csv'\n",
    "df = pd.read_csv(file_path)"
   ]
  },
  {
   "cell_type": "code",
   "execution_count": 3,
   "metadata": {},
   "outputs": [
    {
     "name": "stdout",
     "output_type": "stream",
     "text": [
      "First 10 rows:\n"
     ]
    },
    {
     "data": {
      "text/html": [
       "<div>\n",
       "<style scoped>\n",
       "    .dataframe tbody tr th:only-of-type {\n",
       "        vertical-align: middle;\n",
       "    }\n",
       "\n",
       "    .dataframe tbody tr th {\n",
       "        vertical-align: top;\n",
       "    }\n",
       "\n",
       "    .dataframe thead th {\n",
       "        text-align: right;\n",
       "    }\n",
       "</style>\n",
       "<table border=\"1\" class=\"dataframe\">\n",
       "  <thead>\n",
       "    <tr style=\"text-align: right;\">\n",
       "      <th></th>\n",
       "      <th>car_number</th>\n",
       "      <th>grid_starting_position</th>\n",
       "      <th>final_position</th>\n",
       "      <th>points</th>\n",
       "      <th>laps</th>\n",
       "      <th>total_race_time_ms</th>\n",
       "      <th>fastest_lap</th>\n",
       "      <th>rank</th>\n",
       "      <th>fastest_lap_time</th>\n",
       "      <th>fastest_lap_speed</th>\n",
       "      <th>...</th>\n",
       "      <th>circuit_country</th>\n",
       "      <th>circuit_lat</th>\n",
       "      <th>circuit_lng</th>\n",
       "      <th>circuit_altitude</th>\n",
       "      <th>driver</th>\n",
       "      <th>driver_dob</th>\n",
       "      <th>driver_nationality</th>\n",
       "      <th>constructor_name</th>\n",
       "      <th>constructor_nationality</th>\n",
       "      <th>status</th>\n",
       "    </tr>\n",
       "  </thead>\n",
       "  <tbody>\n",
       "    <tr>\n",
       "      <th>0</th>\n",
       "      <td>22.0</td>\n",
       "      <td>1</td>\n",
       "      <td>1.0</td>\n",
       "      <td>10.0</td>\n",
       "      <td>58</td>\n",
       "      <td>5690616.0</td>\n",
       "      <td>39.0</td>\n",
       "      <td>2.0</td>\n",
       "      <td>1:27.452</td>\n",
       "      <td>218.300</td>\n",
       "      <td>...</td>\n",
       "      <td>Australia</td>\n",
       "      <td>-37.8497</td>\n",
       "      <td>144.968</td>\n",
       "      <td>10.0</td>\n",
       "      <td>Lewis Hamilton</td>\n",
       "      <td>1985-01-07</td>\n",
       "      <td>British</td>\n",
       "      <td>McLaren</td>\n",
       "      <td>British</td>\n",
       "      <td>Finished</td>\n",
       "    </tr>\n",
       "    <tr>\n",
       "      <th>1</th>\n",
       "      <td>3.0</td>\n",
       "      <td>5</td>\n",
       "      <td>2.0</td>\n",
       "      <td>8.0</td>\n",
       "      <td>58</td>\n",
       "      <td>5696094.0</td>\n",
       "      <td>41.0</td>\n",
       "      <td>3.0</td>\n",
       "      <td>1:27.739</td>\n",
       "      <td>217.586</td>\n",
       "      <td>...</td>\n",
       "      <td>Australia</td>\n",
       "      <td>-37.8497</td>\n",
       "      <td>144.968</td>\n",
       "      <td>10.0</td>\n",
       "      <td>Nick Heidfeld</td>\n",
       "      <td>1977-05-10</td>\n",
       "      <td>German</td>\n",
       "      <td>BMW Sauber</td>\n",
       "      <td>German</td>\n",
       "      <td>Finished</td>\n",
       "    </tr>\n",
       "    <tr>\n",
       "      <th>2</th>\n",
       "      <td>7.0</td>\n",
       "      <td>7</td>\n",
       "      <td>3.0</td>\n",
       "      <td>6.0</td>\n",
       "      <td>58</td>\n",
       "      <td>5698779.0</td>\n",
       "      <td>41.0</td>\n",
       "      <td>5.0</td>\n",
       "      <td>1:28.090</td>\n",
       "      <td>216.719</td>\n",
       "      <td>...</td>\n",
       "      <td>Australia</td>\n",
       "      <td>-37.8497</td>\n",
       "      <td>144.968</td>\n",
       "      <td>10.0</td>\n",
       "      <td>Nico Rosberg</td>\n",
       "      <td>1985-06-27</td>\n",
       "      <td>German</td>\n",
       "      <td>Williams</td>\n",
       "      <td>British</td>\n",
       "      <td>Finished</td>\n",
       "    </tr>\n",
       "    <tr>\n",
       "      <th>3</th>\n",
       "      <td>5.0</td>\n",
       "      <td>11</td>\n",
       "      <td>4.0</td>\n",
       "      <td>5.0</td>\n",
       "      <td>58</td>\n",
       "      <td>5707797.0</td>\n",
       "      <td>58.0</td>\n",
       "      <td>7.0</td>\n",
       "      <td>1:28.603</td>\n",
       "      <td>215.464</td>\n",
       "      <td>...</td>\n",
       "      <td>Australia</td>\n",
       "      <td>-37.8497</td>\n",
       "      <td>144.968</td>\n",
       "      <td>10.0</td>\n",
       "      <td>Fernando Alonso</td>\n",
       "      <td>1981-07-29</td>\n",
       "      <td>Spanish</td>\n",
       "      <td>Renault</td>\n",
       "      <td>French</td>\n",
       "      <td>Finished</td>\n",
       "    </tr>\n",
       "    <tr>\n",
       "      <th>4</th>\n",
       "      <td>23.0</td>\n",
       "      <td>3</td>\n",
       "      <td>5.0</td>\n",
       "      <td>4.0</td>\n",
       "      <td>58</td>\n",
       "      <td>5708630.0</td>\n",
       "      <td>43.0</td>\n",
       "      <td>1.0</td>\n",
       "      <td>1:27.418</td>\n",
       "      <td>218.385</td>\n",
       "      <td>...</td>\n",
       "      <td>Australia</td>\n",
       "      <td>-37.8497</td>\n",
       "      <td>144.968</td>\n",
       "      <td>10.0</td>\n",
       "      <td>Heikki Kovalainen</td>\n",
       "      <td>1981-10-19</td>\n",
       "      <td>Finnish</td>\n",
       "      <td>McLaren</td>\n",
       "      <td>British</td>\n",
       "      <td>Finished</td>\n",
       "    </tr>\n",
       "    <tr>\n",
       "      <th>5</th>\n",
       "      <td>8.0</td>\n",
       "      <td>13</td>\n",
       "      <td>6.0</td>\n",
       "      <td>3.0</td>\n",
       "      <td>57</td>\n",
       "      <td>NaN</td>\n",
       "      <td>50.0</td>\n",
       "      <td>14.0</td>\n",
       "      <td>1:29.639</td>\n",
       "      <td>212.974</td>\n",
       "      <td>...</td>\n",
       "      <td>Australia</td>\n",
       "      <td>-37.8497</td>\n",
       "      <td>144.968</td>\n",
       "      <td>10.0</td>\n",
       "      <td>Kazuki Nakajima</td>\n",
       "      <td>1985-01-11</td>\n",
       "      <td>Japanese</td>\n",
       "      <td>Williams</td>\n",
       "      <td>British</td>\n",
       "      <td>+1 Lap</td>\n",
       "    </tr>\n",
       "    <tr>\n",
       "      <th>6</th>\n",
       "      <td>14.0</td>\n",
       "      <td>17</td>\n",
       "      <td>7.0</td>\n",
       "      <td>2.0</td>\n",
       "      <td>55</td>\n",
       "      <td>NaN</td>\n",
       "      <td>22.0</td>\n",
       "      <td>12.0</td>\n",
       "      <td>1:29.534</td>\n",
       "      <td>213.224</td>\n",
       "      <td>...</td>\n",
       "      <td>Australia</td>\n",
       "      <td>-37.8497</td>\n",
       "      <td>144.968</td>\n",
       "      <td>10.0</td>\n",
       "      <td>Sébastien Bourdais</td>\n",
       "      <td>1979-02-28</td>\n",
       "      <td>French</td>\n",
       "      <td>Toro Rosso</td>\n",
       "      <td>Italian</td>\n",
       "      <td>Engine</td>\n",
       "    </tr>\n",
       "    <tr>\n",
       "      <th>7</th>\n",
       "      <td>1.0</td>\n",
       "      <td>15</td>\n",
       "      <td>8.0</td>\n",
       "      <td>1.0</td>\n",
       "      <td>53</td>\n",
       "      <td>NaN</td>\n",
       "      <td>20.0</td>\n",
       "      <td>4.0</td>\n",
       "      <td>1:27.903</td>\n",
       "      <td>217.180</td>\n",
       "      <td>...</td>\n",
       "      <td>Australia</td>\n",
       "      <td>-37.8497</td>\n",
       "      <td>144.968</td>\n",
       "      <td>10.0</td>\n",
       "      <td>Kimi Räikkönen</td>\n",
       "      <td>1979-10-17</td>\n",
       "      <td>Finnish</td>\n",
       "      <td>Ferrari</td>\n",
       "      <td>Italian</td>\n",
       "      <td>Engine</td>\n",
       "    </tr>\n",
       "    <tr>\n",
       "      <th>8</th>\n",
       "      <td>4.0</td>\n",
       "      <td>2</td>\n",
       "      <td>NaN</td>\n",
       "      <td>0.0</td>\n",
       "      <td>47</td>\n",
       "      <td>NaN</td>\n",
       "      <td>15.0</td>\n",
       "      <td>9.0</td>\n",
       "      <td>1:28.753</td>\n",
       "      <td>215.100</td>\n",
       "      <td>...</td>\n",
       "      <td>Australia</td>\n",
       "      <td>-37.8497</td>\n",
       "      <td>144.968</td>\n",
       "      <td>10.0</td>\n",
       "      <td>Robert Kubica</td>\n",
       "      <td>1984-12-07</td>\n",
       "      <td>Polish</td>\n",
       "      <td>BMW Sauber</td>\n",
       "      <td>German</td>\n",
       "      <td>Collision</td>\n",
       "    </tr>\n",
       "    <tr>\n",
       "      <th>9</th>\n",
       "      <td>12.0</td>\n",
       "      <td>18</td>\n",
       "      <td>NaN</td>\n",
       "      <td>0.0</td>\n",
       "      <td>43</td>\n",
       "      <td>NaN</td>\n",
       "      <td>23.0</td>\n",
       "      <td>13.0</td>\n",
       "      <td>1:29.558</td>\n",
       "      <td>213.166</td>\n",
       "      <td>...</td>\n",
       "      <td>Australia</td>\n",
       "      <td>-37.8497</td>\n",
       "      <td>144.968</td>\n",
       "      <td>10.0</td>\n",
       "      <td>Timo Glock</td>\n",
       "      <td>1982-03-18</td>\n",
       "      <td>German</td>\n",
       "      <td>Toyota</td>\n",
       "      <td>Japanese</td>\n",
       "      <td>Accident</td>\n",
       "    </tr>\n",
       "  </tbody>\n",
       "</table>\n",
       "<p>10 rows × 27 columns</p>\n",
       "</div>"
      ],
      "text/plain": [
       "   car_number  grid_starting_position  final_position  points  laps  \\\n",
       "0        22.0                       1             1.0    10.0    58   \n",
       "1         3.0                       5             2.0     8.0    58   \n",
       "2         7.0                       7             3.0     6.0    58   \n",
       "3         5.0                      11             4.0     5.0    58   \n",
       "4        23.0                       3             5.0     4.0    58   \n",
       "5         8.0                      13             6.0     3.0    57   \n",
       "6        14.0                      17             7.0     2.0    55   \n",
       "7         1.0                      15             8.0     1.0    53   \n",
       "8         4.0                       2             NaN     0.0    47   \n",
       "9        12.0                      18             NaN     0.0    43   \n",
       "\n",
       "   total_race_time_ms  fastest_lap  rank fastest_lap_time  fastest_lap_speed  \\\n",
       "0           5690616.0         39.0   2.0         1:27.452            218.300   \n",
       "1           5696094.0         41.0   3.0         1:27.739            217.586   \n",
       "2           5698779.0         41.0   5.0         1:28.090            216.719   \n",
       "3           5707797.0         58.0   7.0         1:28.603            215.464   \n",
       "4           5708630.0         43.0   1.0         1:27.418            218.385   \n",
       "5                 NaN         50.0  14.0         1:29.639            212.974   \n",
       "6                 NaN         22.0  12.0         1:29.534            213.224   \n",
       "7                 NaN         20.0   4.0         1:27.903            217.180   \n",
       "8                 NaN         15.0   9.0         1:28.753            215.100   \n",
       "9                 NaN         23.0  13.0         1:29.558            213.166   \n",
       "\n",
       "   ...  circuit_country  circuit_lat circuit_lng circuit_altitude  \\\n",
       "0  ...        Australia     -37.8497     144.968             10.0   \n",
       "1  ...        Australia     -37.8497     144.968             10.0   \n",
       "2  ...        Australia     -37.8497     144.968             10.0   \n",
       "3  ...        Australia     -37.8497     144.968             10.0   \n",
       "4  ...        Australia     -37.8497     144.968             10.0   \n",
       "5  ...        Australia     -37.8497     144.968             10.0   \n",
       "6  ...        Australia     -37.8497     144.968             10.0   \n",
       "7  ...        Australia     -37.8497     144.968             10.0   \n",
       "8  ...        Australia     -37.8497     144.968             10.0   \n",
       "9  ...        Australia     -37.8497     144.968             10.0   \n",
       "\n",
       "               driver  driver_dob driver_nationality constructor_name  \\\n",
       "0      Lewis Hamilton  1985-01-07            British          McLaren   \n",
       "1       Nick Heidfeld  1977-05-10             German       BMW Sauber   \n",
       "2        Nico Rosberg  1985-06-27             German         Williams   \n",
       "3     Fernando Alonso  1981-07-29            Spanish          Renault   \n",
       "4   Heikki Kovalainen  1981-10-19            Finnish          McLaren   \n",
       "5     Kazuki Nakajima  1985-01-11           Japanese         Williams   \n",
       "6  Sébastien Bourdais  1979-02-28             French       Toro Rosso   \n",
       "7      Kimi Räikkönen  1979-10-17            Finnish          Ferrari   \n",
       "8       Robert Kubica  1984-12-07             Polish       BMW Sauber   \n",
       "9          Timo Glock  1982-03-18             German           Toyota   \n",
       "\n",
       "   constructor_nationality     status  \n",
       "0                  British   Finished  \n",
       "1                   German   Finished  \n",
       "2                  British   Finished  \n",
       "3                   French   Finished  \n",
       "4                  British   Finished  \n",
       "5                  British     +1 Lap  \n",
       "6                  Italian     Engine  \n",
       "7                  Italian     Engine  \n",
       "8                   German  Collision  \n",
       "9                 Japanese   Accident  \n",
       "\n",
       "[10 rows x 27 columns]"
      ]
     },
     "execution_count": 3,
     "metadata": {},
     "output_type": "execute_result"
    }
   ],
   "source": [
    "# Show the first 10 rows\n",
    "print(\"First 10 rows:\")\n",
    "df.head(10)"
   ]
  },
  {
   "cell_type": "code",
   "execution_count": 4,
   "metadata": {},
   "outputs": [
    {
     "name": "stdout",
     "output_type": "stream",
     "text": [
      "Number of rows and columns:\n"
     ]
    },
    {
     "data": {
      "text/plain": [
       "(26080, 27)"
      ]
     },
     "execution_count": 4,
     "metadata": {},
     "output_type": "execute_result"
    }
   ],
   "source": [
    "# Show the number of rows and columns\n",
    "print(\"Number of rows and columns:\")\n",
    "df.shape"
   ]
  },
  {
   "cell_type": "markdown",
   "metadata": {},
   "source": [
    "Data types of each column"
   ]
  },
  {
   "cell_type": "code",
   "execution_count": 5,
   "metadata": {},
   "outputs": [
    {
     "name": "stdout",
     "output_type": "stream",
     "text": [
      "Data types of each column:\n"
     ]
    },
    {
     "data": {
      "text/plain": [
       "car_number                 float64\n",
       "grid_starting_position       int64\n",
       "final_position             float64\n",
       "points                     float64\n",
       "laps                         int64\n",
       "total_race_time_ms         float64\n",
       "fastest_lap                float64\n",
       "rank                       float64\n",
       "fastest_lap_time            object\n",
       "fastest_lap_speed          float64\n",
       "year                         int64\n",
       "race_number_season           int64\n",
       "race_name                   object\n",
       "race_date                   object\n",
       "race_start_time             object\n",
       "circuit_name                object\n",
       "circuit_location            object\n",
       "circuit_country             object\n",
       "circuit_lat                float64\n",
       "circuit_lng                float64\n",
       "circuit_altitude           float64\n",
       "driver                      object\n",
       "driver_dob                  object\n",
       "driver_nationality          object\n",
       "constructor_name            object\n",
       "constructor_nationality     object\n",
       "status                      object\n",
       "dtype: object"
      ]
     },
     "execution_count": 5,
     "metadata": {},
     "output_type": "execute_result"
    }
   ],
   "source": [
    "# Show the data types of each column\n",
    "print(\"Data types of each column:\")\n",
    "df.dtypes"
   ]
  },
  {
   "cell_type": "markdown",
   "metadata": {},
   "source": [
    "Calculate the age"
   ]
  },
  {
   "cell_type": "code",
   "execution_count": 6,
   "metadata": {},
   "outputs": [],
   "source": [
    "# Calculate the 'age' column\n",
    "df['race_date'] = pd.to_datetime(df['race_date'])\n",
    "df['driver_dob'] = pd.to_datetime(df['driver_dob'])\n",
    "\n",
    "df['age'] = ((df['race_date'] - df['driver_dob']).dt.days) / 365\n",
    "\n",
    "# Round the 'age' column to 0 decimal places\n",
    "df['age'] = df['age'].round(0)\n",
    "\n",
    "selected_columns = df[['driver', 'race_date', 'age']]"
   ]
  },
  {
   "cell_type": "code",
   "execution_count": 7,
   "metadata": {},
   "outputs": [],
   "source": [
    "# First, sort the DataFrame by 'race_date' to ensure the minimum age is selected\n",
    "df_sorted = df.sort_values(by='race_date')\n",
    "\n",
    "# Now, group by 'driver' and keep the first occurrence\n",
    "df_unique_drivers = df_sorted.groupby('driver').first().reset_index()\n",
    "\n",
    "# Select the columns you're interested in\n",
    "selected_columns = df_unique_drivers[['driver', 'race_date', 'age']]"
   ]
  },
  {
   "cell_type": "code",
   "execution_count": 8,
   "metadata": {},
   "outputs": [
    {
     "name": "stdout",
     "output_type": "stream",
     "text": [
      "Updated dataframe with 'age' column rounded to 0 decimal places:\n"
     ]
    },
    {
     "data": {
      "text/html": [
       "<div>\n",
       "<style scoped>\n",
       "    .dataframe tbody tr th:only-of-type {\n",
       "        vertical-align: middle;\n",
       "    }\n",
       "\n",
       "    .dataframe tbody tr th {\n",
       "        vertical-align: top;\n",
       "    }\n",
       "\n",
       "    .dataframe thead th {\n",
       "        text-align: right;\n",
       "    }\n",
       "</style>\n",
       "<table border=\"1\" class=\"dataframe\">\n",
       "  <thead>\n",
       "    <tr style=\"text-align: right;\">\n",
       "      <th></th>\n",
       "      <th>car_number</th>\n",
       "      <th>grid_starting_position</th>\n",
       "      <th>final_position</th>\n",
       "      <th>points</th>\n",
       "      <th>laps</th>\n",
       "      <th>total_race_time_ms</th>\n",
       "      <th>fastest_lap</th>\n",
       "      <th>rank</th>\n",
       "      <th>fastest_lap_time</th>\n",
       "      <th>fastest_lap_speed</th>\n",
       "      <th>...</th>\n",
       "      <th>circuit_lat</th>\n",
       "      <th>circuit_lng</th>\n",
       "      <th>circuit_altitude</th>\n",
       "      <th>driver</th>\n",
       "      <th>driver_dob</th>\n",
       "      <th>driver_nationality</th>\n",
       "      <th>constructor_name</th>\n",
       "      <th>constructor_nationality</th>\n",
       "      <th>status</th>\n",
       "      <th>age</th>\n",
       "    </tr>\n",
       "  </thead>\n",
       "  <tbody>\n",
       "    <tr>\n",
       "      <th>0</th>\n",
       "      <td>22.0</td>\n",
       "      <td>1</td>\n",
       "      <td>1.0</td>\n",
       "      <td>10.0</td>\n",
       "      <td>58</td>\n",
       "      <td>5690616.0</td>\n",
       "      <td>39.0</td>\n",
       "      <td>2.0</td>\n",
       "      <td>1:27.452</td>\n",
       "      <td>218.300</td>\n",
       "      <td>...</td>\n",
       "      <td>-37.8497</td>\n",
       "      <td>144.968</td>\n",
       "      <td>10.0</td>\n",
       "      <td>Lewis Hamilton</td>\n",
       "      <td>1985-01-07</td>\n",
       "      <td>British</td>\n",
       "      <td>McLaren</td>\n",
       "      <td>British</td>\n",
       "      <td>Finished</td>\n",
       "      <td>23.0</td>\n",
       "    </tr>\n",
       "    <tr>\n",
       "      <th>1</th>\n",
       "      <td>3.0</td>\n",
       "      <td>5</td>\n",
       "      <td>2.0</td>\n",
       "      <td>8.0</td>\n",
       "      <td>58</td>\n",
       "      <td>5696094.0</td>\n",
       "      <td>41.0</td>\n",
       "      <td>3.0</td>\n",
       "      <td>1:27.739</td>\n",
       "      <td>217.586</td>\n",
       "      <td>...</td>\n",
       "      <td>-37.8497</td>\n",
       "      <td>144.968</td>\n",
       "      <td>10.0</td>\n",
       "      <td>Nick Heidfeld</td>\n",
       "      <td>1977-05-10</td>\n",
       "      <td>German</td>\n",
       "      <td>BMW Sauber</td>\n",
       "      <td>German</td>\n",
       "      <td>Finished</td>\n",
       "      <td>31.0</td>\n",
       "    </tr>\n",
       "    <tr>\n",
       "      <th>2</th>\n",
       "      <td>7.0</td>\n",
       "      <td>7</td>\n",
       "      <td>3.0</td>\n",
       "      <td>6.0</td>\n",
       "      <td>58</td>\n",
       "      <td>5698779.0</td>\n",
       "      <td>41.0</td>\n",
       "      <td>5.0</td>\n",
       "      <td>1:28.090</td>\n",
       "      <td>216.719</td>\n",
       "      <td>...</td>\n",
       "      <td>-37.8497</td>\n",
       "      <td>144.968</td>\n",
       "      <td>10.0</td>\n",
       "      <td>Nico Rosberg</td>\n",
       "      <td>1985-06-27</td>\n",
       "      <td>German</td>\n",
       "      <td>Williams</td>\n",
       "      <td>British</td>\n",
       "      <td>Finished</td>\n",
       "      <td>23.0</td>\n",
       "    </tr>\n",
       "    <tr>\n",
       "      <th>3</th>\n",
       "      <td>5.0</td>\n",
       "      <td>11</td>\n",
       "      <td>4.0</td>\n",
       "      <td>5.0</td>\n",
       "      <td>58</td>\n",
       "      <td>5707797.0</td>\n",
       "      <td>58.0</td>\n",
       "      <td>7.0</td>\n",
       "      <td>1:28.603</td>\n",
       "      <td>215.464</td>\n",
       "      <td>...</td>\n",
       "      <td>-37.8497</td>\n",
       "      <td>144.968</td>\n",
       "      <td>10.0</td>\n",
       "      <td>Fernando Alonso</td>\n",
       "      <td>1981-07-29</td>\n",
       "      <td>Spanish</td>\n",
       "      <td>Renault</td>\n",
       "      <td>French</td>\n",
       "      <td>Finished</td>\n",
       "      <td>27.0</td>\n",
       "    </tr>\n",
       "    <tr>\n",
       "      <th>4</th>\n",
       "      <td>23.0</td>\n",
       "      <td>3</td>\n",
       "      <td>5.0</td>\n",
       "      <td>4.0</td>\n",
       "      <td>58</td>\n",
       "      <td>5708630.0</td>\n",
       "      <td>43.0</td>\n",
       "      <td>1.0</td>\n",
       "      <td>1:27.418</td>\n",
       "      <td>218.385</td>\n",
       "      <td>...</td>\n",
       "      <td>-37.8497</td>\n",
       "      <td>144.968</td>\n",
       "      <td>10.0</td>\n",
       "      <td>Heikki Kovalainen</td>\n",
       "      <td>1981-10-19</td>\n",
       "      <td>Finnish</td>\n",
       "      <td>McLaren</td>\n",
       "      <td>British</td>\n",
       "      <td>Finished</td>\n",
       "      <td>26.0</td>\n",
       "    </tr>\n",
       "  </tbody>\n",
       "</table>\n",
       "<p>5 rows × 28 columns</p>\n",
       "</div>"
      ],
      "text/plain": [
       "   car_number  grid_starting_position  final_position  points  laps  \\\n",
       "0        22.0                       1             1.0    10.0    58   \n",
       "1         3.0                       5             2.0     8.0    58   \n",
       "2         7.0                       7             3.0     6.0    58   \n",
       "3         5.0                      11             4.0     5.0    58   \n",
       "4        23.0                       3             5.0     4.0    58   \n",
       "\n",
       "   total_race_time_ms  fastest_lap  rank fastest_lap_time  fastest_lap_speed  \\\n",
       "0           5690616.0         39.0   2.0         1:27.452            218.300   \n",
       "1           5696094.0         41.0   3.0         1:27.739            217.586   \n",
       "2           5698779.0         41.0   5.0         1:28.090            216.719   \n",
       "3           5707797.0         58.0   7.0         1:28.603            215.464   \n",
       "4           5708630.0         43.0   1.0         1:27.418            218.385   \n",
       "\n",
       "   ...  circuit_lat  circuit_lng circuit_altitude             driver  \\\n",
       "0  ...     -37.8497      144.968             10.0     Lewis Hamilton   \n",
       "1  ...     -37.8497      144.968             10.0      Nick Heidfeld   \n",
       "2  ...     -37.8497      144.968             10.0       Nico Rosberg   \n",
       "3  ...     -37.8497      144.968             10.0    Fernando Alonso   \n",
       "4  ...     -37.8497      144.968             10.0  Heikki Kovalainen   \n",
       "\n",
       "  driver_dob driver_nationality constructor_name constructor_nationality  \\\n",
       "0 1985-01-07            British          McLaren                 British   \n",
       "1 1977-05-10             German       BMW Sauber                  German   \n",
       "2 1985-06-27             German         Williams                 British   \n",
       "3 1981-07-29            Spanish          Renault                  French   \n",
       "4 1981-10-19            Finnish          McLaren                 British   \n",
       "\n",
       "     status   age  \n",
       "0  Finished  23.0  \n",
       "1  Finished  31.0  \n",
       "2  Finished  23.0  \n",
       "3  Finished  27.0  \n",
       "4  Finished  26.0  \n",
       "\n",
       "[5 rows x 28 columns]"
      ]
     },
     "execution_count": 8,
     "metadata": {},
     "output_type": "execute_result"
    }
   ],
   "source": [
    "# Show the updated dataframe with the new 'age' column\n",
    "print(\"Updated dataframe with 'age' column rounded to 0 decimal places:\")\n",
    "df.head()"
   ]
  },
  {
   "cell_type": "code",
   "execution_count": 9,
   "metadata": {},
   "outputs": [
    {
     "data": {
      "text/html": [
       "<div>\n",
       "<style scoped>\n",
       "    .dataframe tbody tr th:only-of-type {\n",
       "        vertical-align: middle;\n",
       "    }\n",
       "\n",
       "    .dataframe tbody tr th {\n",
       "        vertical-align: top;\n",
       "    }\n",
       "\n",
       "    .dataframe thead th {\n",
       "        text-align: right;\n",
       "    }\n",
       "</style>\n",
       "<table border=\"1\" class=\"dataframe\">\n",
       "  <thead>\n",
       "    <tr style=\"text-align: right;\">\n",
       "      <th></th>\n",
       "      <th>driver</th>\n",
       "      <th>race_date</th>\n",
       "      <th>age</th>\n",
       "    </tr>\n",
       "  </thead>\n",
       "  <tbody>\n",
       "    <tr>\n",
       "      <th>0</th>\n",
       "      <td>Adolf Brudes</td>\n",
       "      <td>1952-08-03</td>\n",
       "      <td>53.0</td>\n",
       "    </tr>\n",
       "    <tr>\n",
       "      <th>1</th>\n",
       "      <td>Adolfo Cruz</td>\n",
       "      <td>1953-01-18</td>\n",
       "      <td>30.0</td>\n",
       "    </tr>\n",
       "    <tr>\n",
       "      <th>2</th>\n",
       "      <td>Adrian Sutil</td>\n",
       "      <td>2007-03-18</td>\n",
       "      <td>24.0</td>\n",
       "    </tr>\n",
       "    <tr>\n",
       "      <th>3</th>\n",
       "      <td>Adrián Campos</td>\n",
       "      <td>1987-04-12</td>\n",
       "      <td>27.0</td>\n",
       "    </tr>\n",
       "    <tr>\n",
       "      <th>4</th>\n",
       "      <td>Aguri Suzuki</td>\n",
       "      <td>1988-10-30</td>\n",
       "      <td>28.0</td>\n",
       "    </tr>\n",
       "    <tr>\n",
       "      <th>...</th>\n",
       "      <td>...</td>\n",
       "      <td>...</td>\n",
       "      <td>...</td>\n",
       "    </tr>\n",
       "    <tr>\n",
       "      <th>852</th>\n",
       "      <td>Zsolt Baumgartner</td>\n",
       "      <td>2003-08-24</td>\n",
       "      <td>23.0</td>\n",
       "    </tr>\n",
       "    <tr>\n",
       "      <th>853</th>\n",
       "      <td>Élie Bayol</td>\n",
       "      <td>1952-09-07</td>\n",
       "      <td>39.0</td>\n",
       "    </tr>\n",
       "    <tr>\n",
       "      <th>854</th>\n",
       "      <td>Éric Bernard</td>\n",
       "      <td>1989-07-09</td>\n",
       "      <td>25.0</td>\n",
       "    </tr>\n",
       "    <tr>\n",
       "      <th>855</th>\n",
       "      <td>Érik Comas</td>\n",
       "      <td>1991-03-10</td>\n",
       "      <td>27.0</td>\n",
       "    </tr>\n",
       "    <tr>\n",
       "      <th>856</th>\n",
       "      <td>Óscar González</td>\n",
       "      <td>1956-01-22</td>\n",
       "      <td>32.0</td>\n",
       "    </tr>\n",
       "  </tbody>\n",
       "</table>\n",
       "<p>857 rows × 3 columns</p>\n",
       "</div>"
      ],
      "text/plain": [
       "                driver  race_date   age\n",
       "0         Adolf Brudes 1952-08-03  53.0\n",
       "1          Adolfo Cruz 1953-01-18  30.0\n",
       "2         Adrian Sutil 2007-03-18  24.0\n",
       "3        Adrián Campos 1987-04-12  27.0\n",
       "4         Aguri Suzuki 1988-10-30  28.0\n",
       "..                 ...        ...   ...\n",
       "852  Zsolt Baumgartner 2003-08-24  23.0\n",
       "853         Élie Bayol 1952-09-07  39.0\n",
       "854       Éric Bernard 1989-07-09  25.0\n",
       "855         Érik Comas 1991-03-10  27.0\n",
       "856     Óscar González 1956-01-22  32.0\n",
       "\n",
       "[857 rows x 3 columns]"
      ]
     },
     "execution_count": 9,
     "metadata": {},
     "output_type": "execute_result"
    }
   ],
   "source": [
    "selected_columns"
   ]
  },
  {
   "cell_type": "markdown",
   "metadata": {},
   "source": [
    "### 2. Why do we have missing values in the `final_position` column? (1 point)"
   ]
  },
  {
   "cell_type": "code",
   "execution_count": 10,
   "metadata": {},
   "outputs": [
    {
     "name": "stdout",
     "output_type": "stream",
     "text": [
      "Drivers with missing final_position due to mechanical problems:\n"
     ]
    },
    {
     "data": {
      "text/html": [
       "<div>\n",
       "<style scoped>\n",
       "    .dataframe tbody tr th:only-of-type {\n",
       "        vertical-align: middle;\n",
       "    }\n",
       "\n",
       "    .dataframe tbody tr th {\n",
       "        vertical-align: top;\n",
       "    }\n",
       "\n",
       "    .dataframe thead th {\n",
       "        text-align: right;\n",
       "    }\n",
       "</style>\n",
       "<table border=\"1\" class=\"dataframe\">\n",
       "  <thead>\n",
       "    <tr style=\"text-align: right;\">\n",
       "      <th></th>\n",
       "      <th>driver</th>\n",
       "      <th>status</th>\n",
       "    </tr>\n",
       "  </thead>\n",
       "  <tbody>\n",
       "    <tr>\n",
       "      <th>8</th>\n",
       "      <td>Robert Kubica</td>\n",
       "      <td>Collision</td>\n",
       "    </tr>\n",
       "    <tr>\n",
       "      <th>9</th>\n",
       "      <td>Timo Glock</td>\n",
       "      <td>Accident</td>\n",
       "    </tr>\n",
       "    <tr>\n",
       "      <th>10</th>\n",
       "      <td>Takuma Sato</td>\n",
       "      <td>Transmission</td>\n",
       "    </tr>\n",
       "    <tr>\n",
       "      <th>11</th>\n",
       "      <td>Nelson Piquet Jr.</td>\n",
       "      <td>Clutch</td>\n",
       "    </tr>\n",
       "    <tr>\n",
       "      <th>12</th>\n",
       "      <td>Felipe Massa</td>\n",
       "      <td>Engine</td>\n",
       "    </tr>\n",
       "    <tr>\n",
       "      <th>...</th>\n",
       "      <td>...</td>\n",
       "      <td>...</td>\n",
       "    </tr>\n",
       "    <tr>\n",
       "      <th>26057</th>\n",
       "      <td>Logan Sargeant</td>\n",
       "      <td>Retired</td>\n",
       "    </tr>\n",
       "    <tr>\n",
       "      <th>26058</th>\n",
       "      <td>Esteban Ocon</td>\n",
       "      <td>Collision damage</td>\n",
       "    </tr>\n",
       "    <tr>\n",
       "      <th>26059</th>\n",
       "      <td>Pierre Gasly</td>\n",
       "      <td>Collision damage</td>\n",
       "    </tr>\n",
       "    <tr>\n",
       "      <th>26078</th>\n",
       "      <td>Carlos Sainz</td>\n",
       "      <td>Collision damage</td>\n",
       "    </tr>\n",
       "    <tr>\n",
       "      <th>26079</th>\n",
       "      <td>Oscar Piastri</td>\n",
       "      <td>Collision damage</td>\n",
       "    </tr>\n",
       "  </tbody>\n",
       "</table>\n",
       "<p>10873 rows × 2 columns</p>\n",
       "</div>"
      ],
      "text/plain": [
       "                  driver            status\n",
       "8          Robert Kubica         Collision\n",
       "9             Timo Glock          Accident\n",
       "10           Takuma Sato      Transmission\n",
       "11     Nelson Piquet Jr.            Clutch\n",
       "12          Felipe Massa            Engine\n",
       "...                  ...               ...\n",
       "26057     Logan Sargeant           Retired\n",
       "26058       Esteban Ocon  Collision damage\n",
       "26059       Pierre Gasly  Collision damage\n",
       "26078       Carlos Sainz  Collision damage\n",
       "26079      Oscar Piastri  Collision damage\n",
       "\n",
       "[10873 rows x 2 columns]"
      ]
     },
     "execution_count": 10,
     "metadata": {},
     "output_type": "execute_result"
    }
   ],
   "source": [
    "# Filter rows where 'final_position' is missing\n",
    "missing_final_position = df[df['final_position'].isnull()]\n",
    "\n",
    "# Create a new DataFrame to store the information\n",
    "missing_final_position_info = missing_final_position[['driver', 'status']]\n",
    "\n",
    "# Display the new DataFrame\n",
    "print(\"Drivers with missing final_position due to mechanical problems:\")\n",
    "missing_final_position_info\n"
   ]
  },
  {
   "cell_type": "code",
   "execution_count": 11,
   "metadata": {},
   "outputs": [
    {
     "name": "stdout",
     "output_type": "stream",
     "text": [
      "Counts of different statuses for missing final positions, we can see that the majority of missing final positions are due to mechanical problems:\n"
     ]
    },
    {
     "data": {
      "text/html": [
       "<div>\n",
       "<style scoped>\n",
       "    .dataframe tbody tr th:only-of-type {\n",
       "        vertical-align: middle;\n",
       "    }\n",
       "\n",
       "    .dataframe tbody tr th {\n",
       "        vertical-align: top;\n",
       "    }\n",
       "\n",
       "    .dataframe thead th {\n",
       "        text-align: right;\n",
       "    }\n",
       "</style>\n",
       "<table border=\"1\" class=\"dataframe\">\n",
       "  <thead>\n",
       "    <tr style=\"text-align: right;\">\n",
       "      <th></th>\n",
       "      <th>status</th>\n",
       "      <th>count</th>\n",
       "    </tr>\n",
       "  </thead>\n",
       "  <tbody>\n",
       "    <tr>\n",
       "      <th>0</th>\n",
       "      <td>Engine</td>\n",
       "      <td>1878</td>\n",
       "    </tr>\n",
       "    <tr>\n",
       "      <th>1</th>\n",
       "      <td>Did not qualify</td>\n",
       "      <td>1025</td>\n",
       "    </tr>\n",
       "    <tr>\n",
       "      <th>2</th>\n",
       "      <td>Accident</td>\n",
       "      <td>976</td>\n",
       "    </tr>\n",
       "    <tr>\n",
       "      <th>3</th>\n",
       "      <td>Collision</td>\n",
       "      <td>790</td>\n",
       "    </tr>\n",
       "    <tr>\n",
       "      <th>4</th>\n",
       "      <td>Gearbox</td>\n",
       "      <td>770</td>\n",
       "    </tr>\n",
       "    <tr>\n",
       "      <th>...</th>\n",
       "      <td>...</td>\n",
       "      <td>...</td>\n",
       "    </tr>\n",
       "    <tr>\n",
       "      <th>114</th>\n",
       "      <td>Crankshaft</td>\n",
       "      <td>1</td>\n",
       "    </tr>\n",
       "    <tr>\n",
       "      <th>115</th>\n",
       "      <td>Not restarted</td>\n",
       "      <td>1</td>\n",
       "    </tr>\n",
       "    <tr>\n",
       "      <th>116</th>\n",
       "      <td>+4 Laps</td>\n",
       "      <td>1</td>\n",
       "    </tr>\n",
       "    <tr>\n",
       "      <th>117</th>\n",
       "      <td>Underweight</td>\n",
       "      <td>1</td>\n",
       "    </tr>\n",
       "    <tr>\n",
       "      <th>118</th>\n",
       "      <td>Engine fire</td>\n",
       "      <td>1</td>\n",
       "    </tr>\n",
       "  </tbody>\n",
       "</table>\n",
       "<p>119 rows × 2 columns</p>\n",
       "</div>"
      ],
      "text/plain": [
       "              status  count\n",
       "0             Engine   1878\n",
       "1    Did not qualify   1025\n",
       "2           Accident    976\n",
       "3          Collision    790\n",
       "4            Gearbox    770\n",
       "..               ...    ...\n",
       "114       Crankshaft      1\n",
       "115    Not restarted      1\n",
       "116          +4 Laps      1\n",
       "117      Underweight      1\n",
       "118      Engine fire      1\n",
       "\n",
       "[119 rows x 2 columns]"
      ]
     },
     "execution_count": 11,
     "metadata": {},
     "output_type": "execute_result"
    }
   ],
   "source": [
    "# Count occurrences of different statuses for missing final positions\n",
    "status_counts = missing_final_position_info['status'].value_counts().reset_index()\n",
    "status_counts.columns = ['status', 'count']\n",
    "\n",
    "print(\"Counts of different statuses for missing final positions, we can see that the majority of missing final positions are due to mechanical problems:\")\n",
    "status_counts"
   ]
  },
  {
   "cell_type": "markdown",
   "metadata": {},
   "source": [
    "### 3. Constructor analytics (3 points)\n",
    "\n",
    "* Which constructor has the most race wins? (0.5 points)\n",
    "* Which constructor has the most podiums (position 1, 2, or 3)? (0.5 points)\n",
    "* Which constructor has the biggest probability of not finishing a race, according to the dataset? (0.5 points)\n",
    "* Which country has the most successful constructors in terms of race victories? (0.5 points)\n",
    "* Which are the current constructors (from 2023) with the longest history in Formula 1? (0.5 points)\n",
    "* Which is the constructor with the most drivers in Formula 1 across its history? (0.5 points)"
   ]
  },
  {
   "cell_type": "code",
   "execution_count": 12,
   "metadata": {},
   "outputs": [
    {
     "name": "stdout",
     "output_type": "stream",
     "text": [
      "The constructor with the most race wins is: Ferrari\n",
      "The constructor with the most podiums is: Ferrari\n",
      "The country with the most successful constructors in terms of race victories is: British\n",
      "The current constructor with the longest history in Formula 1 is: Ferrari\n",
      "The constructor with the most drivers in Formula 1 across its history is: Ferrari\n"
     ]
    }
   ],
   "source": [
    "import plotly.express as px\n",
    "\n",
    "# Ensure 'final_position' is numeric\n",
    "df['fastest_lap_time'] = pd.to_datetime(df['fastest_lap_time'], format='%M:%S.%f')\n",
    "\n",
    "# Which constructor has the most race wins?\n",
    "most_wins_constructor = df[df['final_position'] == 1]['constructor_name'].value_counts().idxmax()\n",
    "print(f\"The constructor with the most race wins is: {most_wins_constructor}\")\n",
    "\n",
    "# Which constructor has the most podiums?\n",
    "most_podiums_constructor = df[df['final_position'].isin([1, 2, 3])]['constructor_name'].value_counts().idxmax()\n",
    "print(f\"The constructor with the most podiums is: {most_podiums_constructor}\")\n",
    "\n",
    "# Which country has the most successful constructors in terms of race victories?\n",
    "most_successful_country = df[df['final_position'] == 1].groupby('driver_nationality')['constructor_name'].nunique().idxmax()\n",
    "print(f\"The country with the most successful constructors in terms of race victories is: {most_successful_country}\")\n",
    "\n",
    "# Which are the current constructors (from 2023) with the longest history in Formula 1?\n",
    "current_constructors = df[df['year'] == 2023]['constructor_name'].unique()\n",
    "longest_history_constructor = df[df['constructor_name'].isin(current_constructors)].groupby('constructor_name')['year'].nunique().idxmax()\n",
    "print(f\"The current constructor with the longest history in Formula 1 is: {longest_history_constructor}\")\n",
    "\n",
    "# Which is the constructor with the most drivers in Formula 1 across its history?\n",
    "most_drivers_constructor = df.groupby('constructor_name')['driver'].nunique().idxmax()\n",
    "print(f\"The constructor with the most drivers in Formula 1 across its history is: {most_drivers_constructor}\")"
   ]
  },
  {
   "cell_type": "markdown",
   "metadata": {},
   "source": [
    "* Which constructor has the biggest probability of not finishing a race, according to the dataset?"
   ]
  },
  {
   "cell_type": "code",
   "execution_count": 13,
   "metadata": {},
   "outputs": [
    {
     "data": {
      "text/html": [
       "<div>\n",
       "<style scoped>\n",
       "    .dataframe tbody tr th:only-of-type {\n",
       "        vertical-align: middle;\n",
       "    }\n",
       "\n",
       "    .dataframe tbody tr th {\n",
       "        vertical-align: top;\n",
       "    }\n",
       "\n",
       "    .dataframe thead th {\n",
       "        text-align: right;\n",
       "    }\n",
       "</style>\n",
       "<table border=\"1\" class=\"dataframe\">\n",
       "  <thead>\n",
       "    <tr style=\"text-align: right;\">\n",
       "      <th></th>\n",
       "      <th>Constructor</th>\n",
       "      <th>Non-Finish Probability</th>\n",
       "    </tr>\n",
       "  </thead>\n",
       "  <tbody>\n",
       "    <tr>\n",
       "      <th>147</th>\n",
       "      <td>Olson</td>\n",
       "      <td>1.0</td>\n",
       "    </tr>\n",
       "    <tr>\n",
       "      <th>122</th>\n",
       "      <td>Maki</td>\n",
       "      <td>1.0</td>\n",
       "    </tr>\n",
       "    <tr>\n",
       "      <th>65</th>\n",
       "      <td>Elder</td>\n",
       "      <td>1.0</td>\n",
       "    </tr>\n",
       "    <tr>\n",
       "      <th>33</th>\n",
       "      <td>Bugatti</td>\n",
       "      <td>1.0</td>\n",
       "    </tr>\n",
       "    <tr>\n",
       "      <th>35</th>\n",
       "      <td>Christensen</td>\n",
       "      <td>1.0</td>\n",
       "    </tr>\n",
       "  </tbody>\n",
       "</table>\n",
       "</div>"
      ],
      "text/plain": [
       "     Constructor  Non-Finish Probability\n",
       "147        Olson                     1.0\n",
       "122         Maki                     1.0\n",
       "65         Elder                     1.0\n",
       "33       Bugatti                     1.0\n",
       "35   Christensen                     1.0"
      ]
     },
     "execution_count": 13,
     "metadata": {},
     "output_type": "execute_result"
    }
   ],
   "source": [
    "# Filter rows where the race did not finish\n",
    "non_finished_races = df[~df['status'].str.lower().str.contains('lap') & (df['status'] != 'Finished')]\n",
    "\n",
    "# Count the number of occurrences for each constructor\n",
    "non_finish_count_by_constructor = non_finished_races['constructor_name'].value_counts()\n",
    "\n",
    "# Calculate the probability of not finishing for each constructor\n",
    "total_races_by_constructor = df['constructor_name'].value_counts()\n",
    "probability_of_non_finish = non_finish_count_by_constructor / total_races_by_constructor\n",
    "\n",
    "# Create a pandas dataframe with the results\n",
    "non_finish_probability_table = pd.DataFrame({\n",
    "    'Constructor': probability_of_non_finish.index,\n",
    "    'Non-Finish Probability': probability_of_non_finish.values\n",
    "})\n",
    "\n",
    "# Print the table\n",
    "non_finish_probability_table.sort_values('Non-Finish Probability', ascending=False).head(5)\n"
   ]
  },
  {
   "cell_type": "code",
   "execution_count": 14,
   "metadata": {},
   "outputs": [
    {
     "data": {
      "application/vnd.plotly.v1+json": {
       "config": {
        "plotlyServerURL": "https://plot.ly"
       },
       "data": [
        {
         "alignmentgroup": "True",
         "hovertemplate": "Constructor=%{x}<br>Non-Finish Probability=%{y}<extra></extra>",
         "legendgroup": "",
         "marker": {
          "color": "#636efa",
          "pattern": {
           "shape": ""
          }
         },
         "name": "",
         "offsetgroup": "",
         "orientation": "v",
         "showlegend": false,
         "textposition": "auto",
         "type": "bar",
         "x": [
          "AFM",
          "AGS",
          "ATS",
          "Adams",
          "Alfa Romeo",
          "AlphaTauri",
          "Alpine F1 Team",
          "Alta",
          "Amon",
          "Andrea Moda",
          "Apollon",
          "Arrows",
          "Arzani-Volpini",
          "Aston Butterworth",
          "Aston Martin",
          "BAR",
          "BMW",
          "BMW Sauber",
          "BRM",
          "BRM-Ford",
          "BRP",
          "Behra-Porsche",
          "Bellasi",
          "Benetton",
          "Boro",
          "Brabham",
          "Brabham-Alfa Romeo",
          "Brabham-BRM",
          "Brabham-Climax",
          "Brabham-Ford",
          "Brabham-Repco",
          "Brawn",
          "Bromme",
          "Bugatti",
          "Caterham",
          "Christensen",
          "Cisitalia",
          "Coloni",
          "Connaught",
          "Connew",
          "Cooper",
          "Cooper-ATS",
          "Cooper-Alfa Romeo",
          "Cooper-BRM",
          "Cooper-Borgward",
          "Cooper-Castellotti",
          "Cooper-Climax",
          "Cooper-Ferrari",
          "Cooper-Ford",
          "Cooper-Maserati",
          "Cooper-OSCA",
          "Dallara",
          "De Tomaso",
          "De Tomaso-Alfa Romeo",
          "De Tomaso-Ferrari",
          "De Tomaso-Osca",
          "Deidt",
          "Del Roy",
          "Derrington",
          "Dunn",
          "EMW",
          "ENB",
          "ERA",
          "Eagle-Climax",
          "Eagle-Weslake",
          "Elder",
          "Embassy Hill",
          "Emeryson",
          "Ensign",
          "Epperly",
          "Euro Brun",
          "Ewing",
          "Ferguson",
          "Ferrari",
          "Fittipaldi",
          "Fondmetal",
          "Footwork",
          "Force India",
          "Forti",
          "Frazer Nash",
          "Fry",
          "Gilby",
          "Gordini",
          "HRT",
          "HWM",
          "Haas F1 Team",
          "Hall",
          "Hesketh",
          "Honda",
          "Iso Marlboro",
          "JBW",
          "Jaguar",
          "Jordan",
          "Kauhsen",
          "Klenk",
          "Kojima",
          "Kurtis Kraft",
          "Kuzma",
          "LDS",
          "LDS-Alfa Romeo",
          "LDS-Climax",
          "LEC",
          "Lambo",
          "Lancia",
          "Langley",
          "Larrousse",
          "Lesovsky",
          "Leyton House",
          "Life",
          "Ligier",
          "Lola",
          "Lotus",
          "Lotus F1",
          "Lotus-BRM",
          "Lotus-Borgward",
          "Lotus-Climax",
          "Lotus-Ford",
          "Lotus-Maserati",
          "Lotus-Pratt &amp; Whitney",
          "Lyncar",
          "MBM",
          "MF1",
          "Maki",
          "Manor Marussia",
          "March",
          "March-Alfa Romeo",
          "March-Ford",
          "Marchese",
          "Martini",
          "Marussia",
          "Maserati",
          "Matra",
          "Matra-Ford",
          "McGuire",
          "McLaren",
          "McLaren-Alfa Romeo",
          "McLaren-BRM",
          "McLaren-Ford",
          "McLaren-Serenissima",
          "Mercedes",
          "Merzario",
          "Meskowski",
          "Milano",
          "Minardi",
          "Moore",
          "Nichels",
          "OSCA",
          "Olson",
          "Onyx",
          "Osella",
          "Pacific",
          "Pankratz",
          "Parnelli",
          "Pawl",
          "Penske",
          "Phillips",
          "Politoys",
          "Porsche",
          "Prost",
          "Protos",
          "RAM",
          "RE",
          "Racing Point",
          "Rae",
          "Rebaque",
          "Red Bull",
          "Renault",
          "Rial",
          "Sauber",
          "Scarab",
          "Schroeder",
          "Scirocco",
          "Shadow",
          "Shadow-Ford",
          "Shadow-Matra",
          "Shannon",
          "Sherman",
          "Simca",
          "Simtek",
          "Snowberger",
          "Spirit",
          "Spyker",
          "Spyker MF1",
          "Stebro",
          "Stevens",
          "Stewart",
          "Super Aguri",
          "Surtees",
          "Sutton",
          "Talbot-Lago",
          "Team Lotus",
          "Tec-Mec",
          "Tecno",
          "Theodore",
          "Token",
          "Toleman",
          "Toro Rosso",
          "Toyota",
          "Trevis",
          "Trojan",
          "Turner",
          "Tyrrell",
          "Vanwall",
          "Veritas",
          "Virgin",
          "Watson",
          "Wetteroth",
          "Williams",
          "Wolf",
          "Zakspeed"
         ],
         "xaxis": "x",
         "y": [
          0.7142857142857143,
          0.8373983739837398,
          0.7222222222222222,
          1,
          0.4060324825986079,
          0.1643835616438356,
          0.17857142857142858,
          0.6666666666666666,
          1,
          1,
          1,
          0.5474576271186441,
          1,
          1,
          0.17886178861788618,
          0.4322033898305085,
          0.5,
          0.16428571428571428,
          0.5533807829181495,
          1,
          0.5263157894736842,
          null,
          1,
          0.38076923076923075,
          0.75,
          0.5770392749244713,
          0.6949152542372882,
          0.4634146341463415,
          0.5483870967741935,
          0.5862068965517241,
          0.5064935064935064,
          0.058823529411764705,
          1,
          1,
          0.22321428571428573,
          1,
          1,
          0.9506172839506173,
          0.6851851851851852,
          1,
          0.4077669902912621,
          1,
          1,
          0.6190476190476191,
          0.3333333333333333,
          0.5,
          0.4701492537313433,
          0.5,
          1,
          0.582089552238806,
          1,
          0.5902777777777778,
          1,
          1,
          1,
          1,
          0.625,
          1,
          1,
          0.6666666666666666,
          1,
          null,
          0.6153846153846154,
          0.8461538461538461,
          0.8571428571428571,
          1,
          0.47368421052631576,
          0.9090909090909091,
          0.7272727272727273,
          0.29411764705882354,
          0.8947368421052632,
          0.6666666666666666,
          1,
          0.30746520455504006,
          0.567741935483871,
          0.8809523809523809,
          0.6030927835051546,
          0.20754716981132076,
          0.7222222222222222,
          0.5,
          1,
          0.8571428571428571,
          0.6176470588235294,
          0.3103448275862069,
          0.6170212765957447,
          0.21794871794871795,
          1,
          0.6288659793814433,
          0.34868421052631576,
          0.6363636363636364,
          0.8333333333333334,
          0.4588235294117647,
          0.48,
          1,
          1,
          0.3333333333333333,
          0.5176991150442478,
          0.48717948717948717,
          0.75,
          0.5,
          1,
          0.6,
          0.90625,
          0.7272727272727273,
          null,
          0.625,
          0.4,
          0.703125,
          1,
          0.5220949263502455,
          0.6606060606060606,
          0.34210526315789475,
          0.2727272727272727,
          0.6942148760330579,
          1,
          0.5622317596566524,
          0.5859375,
          1,
          0.6666666666666666,
          1,
          1,
          0.42857142857142855,
          1,
          0.15384615384615385,
          0.6335877862595419,
          0.6,
          0.627906976744186,
          0.5,
          0.5,
          0.1559633027522936,
          0.5435779816513762,
          0.43661971830985913,
          0.325,
          1,
          0.31913746630727763,
          0.8181818181818182,
          0.6428571428571429,
          0.42528735632183906,
          0.5,
          0.11643835616438356,
          0.96875,
          null,
          1,
          0.5699404761904762,
          null,
          0.75,
          0.625,
          1,
          0.8846153846153846,
          0.873015873015873,
          0.9090909090909091,
          0.5,
          0.625,
          1,
          0.43478260869565216,
          0.2857142857142857,
          1,
          0.36904761904761907,
          0.4909090909090909,
          0.5,
          0.8028169014084507,
          1,
          0.17105263157894737,
          null,
          1,
          0.18333333333333332,
          0.3545108005082592,
          0.8541666666666666,
          0.34347275031685676,
          0.8888888888888888,
          0.75,
          1,
          0.5687203791469194,
          0.6923076923076923,
          1,
          1,
          null,
          0.7241379310344828,
          0.625,
          1,
          0.64,
          0.47058823529411764,
          0.375,
          0.5,
          0.3,
          0.6428571428571429,
          0.41025641025641024,
          0.5769230769230769,
          1,
          0.4878048780487805,
          0.5407577497129736,
          1,
          0.9090909090909091,
          0.703125,
          0.75,
          0.8244274809160306,
          0.27425373134328357,
          0.2892857142857143,
          0.3333333333333333,
          0.75,
          1,
          0.5051078320090806,
          0.6197183098591549,
          0.6111111111111112,
          0.32894736842105265,
          0.5454545454545454,
          null,
          0.3064014916096955,
          0.569620253164557,
          0.8345864661654135
         ],
         "yaxis": "y"
        }
       ],
       "layout": {
        "barmode": "relative",
        "legend": {
         "tracegroupgap": 0,
         "traceorder": "normal"
        },
        "template": {
         "data": {
          "bar": [
           {
            "error_x": {
             "color": "#2a3f5f"
            },
            "error_y": {
             "color": "#2a3f5f"
            },
            "marker": {
             "line": {
              "color": "#E5ECF6",
              "width": 0.5
             },
             "pattern": {
              "fillmode": "overlay",
              "size": 10,
              "solidity": 0.2
             }
            },
            "type": "bar"
           }
          ],
          "barpolar": [
           {
            "marker": {
             "line": {
              "color": "#E5ECF6",
              "width": 0.5
             },
             "pattern": {
              "fillmode": "overlay",
              "size": 10,
              "solidity": 0.2
             }
            },
            "type": "barpolar"
           }
          ],
          "carpet": [
           {
            "aaxis": {
             "endlinecolor": "#2a3f5f",
             "gridcolor": "white",
             "linecolor": "white",
             "minorgridcolor": "white",
             "startlinecolor": "#2a3f5f"
            },
            "baxis": {
             "endlinecolor": "#2a3f5f",
             "gridcolor": "white",
             "linecolor": "white",
             "minorgridcolor": "white",
             "startlinecolor": "#2a3f5f"
            },
            "type": "carpet"
           }
          ],
          "choropleth": [
           {
            "colorbar": {
             "outlinewidth": 0,
             "ticks": ""
            },
            "type": "choropleth"
           }
          ],
          "contour": [
           {
            "colorbar": {
             "outlinewidth": 0,
             "ticks": ""
            },
            "colorscale": [
             [
              0,
              "#0d0887"
             ],
             [
              0.1111111111111111,
              "#46039f"
             ],
             [
              0.2222222222222222,
              "#7201a8"
             ],
             [
              0.3333333333333333,
              "#9c179e"
             ],
             [
              0.4444444444444444,
              "#bd3786"
             ],
             [
              0.5555555555555556,
              "#d8576b"
             ],
             [
              0.6666666666666666,
              "#ed7953"
             ],
             [
              0.7777777777777778,
              "#fb9f3a"
             ],
             [
              0.8888888888888888,
              "#fdca26"
             ],
             [
              1,
              "#f0f921"
             ]
            ],
            "type": "contour"
           }
          ],
          "contourcarpet": [
           {
            "colorbar": {
             "outlinewidth": 0,
             "ticks": ""
            },
            "type": "contourcarpet"
           }
          ],
          "heatmap": [
           {
            "colorbar": {
             "outlinewidth": 0,
             "ticks": ""
            },
            "colorscale": [
             [
              0,
              "#0d0887"
             ],
             [
              0.1111111111111111,
              "#46039f"
             ],
             [
              0.2222222222222222,
              "#7201a8"
             ],
             [
              0.3333333333333333,
              "#9c179e"
             ],
             [
              0.4444444444444444,
              "#bd3786"
             ],
             [
              0.5555555555555556,
              "#d8576b"
             ],
             [
              0.6666666666666666,
              "#ed7953"
             ],
             [
              0.7777777777777778,
              "#fb9f3a"
             ],
             [
              0.8888888888888888,
              "#fdca26"
             ],
             [
              1,
              "#f0f921"
             ]
            ],
            "type": "heatmap"
           }
          ],
          "heatmapgl": [
           {
            "colorbar": {
             "outlinewidth": 0,
             "ticks": ""
            },
            "colorscale": [
             [
              0,
              "#0d0887"
             ],
             [
              0.1111111111111111,
              "#46039f"
             ],
             [
              0.2222222222222222,
              "#7201a8"
             ],
             [
              0.3333333333333333,
              "#9c179e"
             ],
             [
              0.4444444444444444,
              "#bd3786"
             ],
             [
              0.5555555555555556,
              "#d8576b"
             ],
             [
              0.6666666666666666,
              "#ed7953"
             ],
             [
              0.7777777777777778,
              "#fb9f3a"
             ],
             [
              0.8888888888888888,
              "#fdca26"
             ],
             [
              1,
              "#f0f921"
             ]
            ],
            "type": "heatmapgl"
           }
          ],
          "histogram": [
           {
            "marker": {
             "pattern": {
              "fillmode": "overlay",
              "size": 10,
              "solidity": 0.2
             }
            },
            "type": "histogram"
           }
          ],
          "histogram2d": [
           {
            "colorbar": {
             "outlinewidth": 0,
             "ticks": ""
            },
            "colorscale": [
             [
              0,
              "#0d0887"
             ],
             [
              0.1111111111111111,
              "#46039f"
             ],
             [
              0.2222222222222222,
              "#7201a8"
             ],
             [
              0.3333333333333333,
              "#9c179e"
             ],
             [
              0.4444444444444444,
              "#bd3786"
             ],
             [
              0.5555555555555556,
              "#d8576b"
             ],
             [
              0.6666666666666666,
              "#ed7953"
             ],
             [
              0.7777777777777778,
              "#fb9f3a"
             ],
             [
              0.8888888888888888,
              "#fdca26"
             ],
             [
              1,
              "#f0f921"
             ]
            ],
            "type": "histogram2d"
           }
          ],
          "histogram2dcontour": [
           {
            "colorbar": {
             "outlinewidth": 0,
             "ticks": ""
            },
            "colorscale": [
             [
              0,
              "#0d0887"
             ],
             [
              0.1111111111111111,
              "#46039f"
             ],
             [
              0.2222222222222222,
              "#7201a8"
             ],
             [
              0.3333333333333333,
              "#9c179e"
             ],
             [
              0.4444444444444444,
              "#bd3786"
             ],
             [
              0.5555555555555556,
              "#d8576b"
             ],
             [
              0.6666666666666666,
              "#ed7953"
             ],
             [
              0.7777777777777778,
              "#fb9f3a"
             ],
             [
              0.8888888888888888,
              "#fdca26"
             ],
             [
              1,
              "#f0f921"
             ]
            ],
            "type": "histogram2dcontour"
           }
          ],
          "mesh3d": [
           {
            "colorbar": {
             "outlinewidth": 0,
             "ticks": ""
            },
            "type": "mesh3d"
           }
          ],
          "parcoords": [
           {
            "line": {
             "colorbar": {
              "outlinewidth": 0,
              "ticks": ""
             }
            },
            "type": "parcoords"
           }
          ],
          "pie": [
           {
            "automargin": true,
            "type": "pie"
           }
          ],
          "scatter": [
           {
            "fillpattern": {
             "fillmode": "overlay",
             "size": 10,
             "solidity": 0.2
            },
            "type": "scatter"
           }
          ],
          "scatter3d": [
           {
            "line": {
             "colorbar": {
              "outlinewidth": 0,
              "ticks": ""
             }
            },
            "marker": {
             "colorbar": {
              "outlinewidth": 0,
              "ticks": ""
             }
            },
            "type": "scatter3d"
           }
          ],
          "scattercarpet": [
           {
            "marker": {
             "colorbar": {
              "outlinewidth": 0,
              "ticks": ""
             }
            },
            "type": "scattercarpet"
           }
          ],
          "scattergeo": [
           {
            "marker": {
             "colorbar": {
              "outlinewidth": 0,
              "ticks": ""
             }
            },
            "type": "scattergeo"
           }
          ],
          "scattergl": [
           {
            "marker": {
             "colorbar": {
              "outlinewidth": 0,
              "ticks": ""
             }
            },
            "type": "scattergl"
           }
          ],
          "scattermapbox": [
           {
            "marker": {
             "colorbar": {
              "outlinewidth": 0,
              "ticks": ""
             }
            },
            "type": "scattermapbox"
           }
          ],
          "scatterpolar": [
           {
            "marker": {
             "colorbar": {
              "outlinewidth": 0,
              "ticks": ""
             }
            },
            "type": "scatterpolar"
           }
          ],
          "scatterpolargl": [
           {
            "marker": {
             "colorbar": {
              "outlinewidth": 0,
              "ticks": ""
             }
            },
            "type": "scatterpolargl"
           }
          ],
          "scatterternary": [
           {
            "marker": {
             "colorbar": {
              "outlinewidth": 0,
              "ticks": ""
             }
            },
            "type": "scatterternary"
           }
          ],
          "surface": [
           {
            "colorbar": {
             "outlinewidth": 0,
             "ticks": ""
            },
            "colorscale": [
             [
              0,
              "#0d0887"
             ],
             [
              0.1111111111111111,
              "#46039f"
             ],
             [
              0.2222222222222222,
              "#7201a8"
             ],
             [
              0.3333333333333333,
              "#9c179e"
             ],
             [
              0.4444444444444444,
              "#bd3786"
             ],
             [
              0.5555555555555556,
              "#d8576b"
             ],
             [
              0.6666666666666666,
              "#ed7953"
             ],
             [
              0.7777777777777778,
              "#fb9f3a"
             ],
             [
              0.8888888888888888,
              "#fdca26"
             ],
             [
              1,
              "#f0f921"
             ]
            ],
            "type": "surface"
           }
          ],
          "table": [
           {
            "cells": {
             "fill": {
              "color": "#EBF0F8"
             },
             "line": {
              "color": "white"
             }
            },
            "header": {
             "fill": {
              "color": "#C8D4E3"
             },
             "line": {
              "color": "white"
             }
            },
            "type": "table"
           }
          ]
         },
         "layout": {
          "annotationdefaults": {
           "arrowcolor": "#2a3f5f",
           "arrowhead": 0,
           "arrowwidth": 1
          },
          "autotypenumbers": "strict",
          "coloraxis": {
           "colorbar": {
            "outlinewidth": 0,
            "ticks": ""
           }
          },
          "colorscale": {
           "diverging": [
            [
             0,
             "#8e0152"
            ],
            [
             0.1,
             "#c51b7d"
            ],
            [
             0.2,
             "#de77ae"
            ],
            [
             0.3,
             "#f1b6da"
            ],
            [
             0.4,
             "#fde0ef"
            ],
            [
             0.5,
             "#f7f7f7"
            ],
            [
             0.6,
             "#e6f5d0"
            ],
            [
             0.7,
             "#b8e186"
            ],
            [
             0.8,
             "#7fbc41"
            ],
            [
             0.9,
             "#4d9221"
            ],
            [
             1,
             "#276419"
            ]
           ],
           "sequential": [
            [
             0,
             "#0d0887"
            ],
            [
             0.1111111111111111,
             "#46039f"
            ],
            [
             0.2222222222222222,
             "#7201a8"
            ],
            [
             0.3333333333333333,
             "#9c179e"
            ],
            [
             0.4444444444444444,
             "#bd3786"
            ],
            [
             0.5555555555555556,
             "#d8576b"
            ],
            [
             0.6666666666666666,
             "#ed7953"
            ],
            [
             0.7777777777777778,
             "#fb9f3a"
            ],
            [
             0.8888888888888888,
             "#fdca26"
            ],
            [
             1,
             "#f0f921"
            ]
           ],
           "sequentialminus": [
            [
             0,
             "#0d0887"
            ],
            [
             0.1111111111111111,
             "#46039f"
            ],
            [
             0.2222222222222222,
             "#7201a8"
            ],
            [
             0.3333333333333333,
             "#9c179e"
            ],
            [
             0.4444444444444444,
             "#bd3786"
            ],
            [
             0.5555555555555556,
             "#d8576b"
            ],
            [
             0.6666666666666666,
             "#ed7953"
            ],
            [
             0.7777777777777778,
             "#fb9f3a"
            ],
            [
             0.8888888888888888,
             "#fdca26"
            ],
            [
             1,
             "#f0f921"
            ]
           ]
          },
          "colorway": [
           "#636efa",
           "#EF553B",
           "#00cc96",
           "#ab63fa",
           "#FFA15A",
           "#19d3f3",
           "#FF6692",
           "#B6E880",
           "#FF97FF",
           "#FECB52"
          ],
          "font": {
           "color": "#2a3f5f"
          },
          "geo": {
           "bgcolor": "white",
           "lakecolor": "white",
           "landcolor": "#E5ECF6",
           "showlakes": true,
           "showland": true,
           "subunitcolor": "white"
          },
          "hoverlabel": {
           "align": "left"
          },
          "hovermode": "closest",
          "mapbox": {
           "style": "light"
          },
          "paper_bgcolor": "white",
          "plot_bgcolor": "#E5ECF6",
          "polar": {
           "angularaxis": {
            "gridcolor": "white",
            "linecolor": "white",
            "ticks": ""
           },
           "bgcolor": "#E5ECF6",
           "radialaxis": {
            "gridcolor": "white",
            "linecolor": "white",
            "ticks": ""
           }
          },
          "scene": {
           "xaxis": {
            "backgroundcolor": "#E5ECF6",
            "gridcolor": "white",
            "gridwidth": 2,
            "linecolor": "white",
            "showbackground": true,
            "ticks": "",
            "zerolinecolor": "white"
           },
           "yaxis": {
            "backgroundcolor": "#E5ECF6",
            "gridcolor": "white",
            "gridwidth": 2,
            "linecolor": "white",
            "showbackground": true,
            "ticks": "",
            "zerolinecolor": "white"
           },
           "zaxis": {
            "backgroundcolor": "#E5ECF6",
            "gridcolor": "white",
            "gridwidth": 2,
            "linecolor": "white",
            "showbackground": true,
            "ticks": "",
            "zerolinecolor": "white"
           }
          },
          "shapedefaults": {
           "line": {
            "color": "#2a3f5f"
           }
          },
          "ternary": {
           "aaxis": {
            "gridcolor": "white",
            "linecolor": "white",
            "ticks": ""
           },
           "baxis": {
            "gridcolor": "white",
            "linecolor": "white",
            "ticks": ""
           },
           "bgcolor": "#E5ECF6",
           "caxis": {
            "gridcolor": "white",
            "linecolor": "white",
            "ticks": ""
           }
          },
          "title": {
           "x": 0.05
          },
          "xaxis": {
           "automargin": true,
           "gridcolor": "white",
           "linecolor": "white",
           "ticks": "",
           "title": {
            "standoff": 15
           },
           "zerolinecolor": "white",
           "zerolinewidth": 2
          },
          "yaxis": {
           "automargin": true,
           "gridcolor": "white",
           "linecolor": "white",
           "ticks": "",
           "title": {
            "standoff": 15
           },
           "zerolinecolor": "white",
           "zerolinewidth": 2
          }
         }
        },
        "title": {
         "text": "Constructor Non-Finish Probability"
        },
        "xaxis": {
         "anchor": "y",
         "domain": [
          0,
          1
         ],
         "title": {
          "text": "Constructor"
         }
        },
        "yaxis": {
         "anchor": "x",
         "domain": [
          0,
          1
         ],
         "title": {
          "text": "Non-Finish Probability"
         }
        }
       }
      }
     },
     "metadata": {},
     "output_type": "display_data"
    }
   ],
   "source": [
    "# Filter rows where the race did not finish\n",
    "non_finished_races = df[~df['status'].str.lower().str.contains('lap') & (df['status'] != 'Finished')]\n",
    "\n",
    "# Count the number of retirements for each constructor\n",
    "retirements_by_constructor = non_finished_races['constructor_name'].value_counts()\n",
    "\n",
    "# Calculate the probability of not finishing for each constructor\n",
    "total_races_by_constructor = df['constructor_name'].value_counts()\n",
    "probability_of_non_finish = retirements_by_constructor / total_races_by_constructor\n",
    "\n",
    "# Reset index for the Series to ensure proper alignment\n",
    "probability_of_non_finish = probability_of_non_finish.reset_index()\n",
    "\n",
    "# Rename the columns for clarity\n",
    "probability_of_non_finish.columns = ['Constructor', 'Non-Finish Probability']\n",
    "\n",
    "# Create a bar chart using Plotly Express\n",
    "fig = px.bar(probability_of_non_finish, \n",
    "             x='Constructor',\n",
    "             y='Non-Finish Probability',\n",
    "             labels={'Non-Finish Probability': 'Non-Finish Probability'},\n",
    "             title='Constructor Non-Finish Probability')\n",
    "\n",
    "# Update legend settings to show all teams\n",
    "fig.update_layout(legend=dict(traceorder='normal'))\n",
    "\n",
    "# Show the interactive plot\n",
    "fig.show()"
   ]
  },
  {
   "cell_type": "markdown",
   "metadata": {},
   "source": [
    "### 4. Driver analytics (3 points)\n",
    "\n",
    "* With the data available, who is the fastest driver in Formula 1? (0.5 point)\n",
    "* Which is the driver with the most podiums without a win (position 2 or 3)? (0.5 point)\n",
    "* Calculate the historical probability of each country of having a driver in the podium (0.5 point)\n",
    "* Calculate the historical probability of each country of having a driver win a race (0.5 point)\n",
    "* Which driver was the youngest to win a race? (0.5 point)\n",
    "* Which drivers are the current ones with the longest history in Formula 1? (0.5 point)\n",
    "\n",
    "Hint: remember that a probability is calculated as the number of times an event happened divided by the total number of events"
   ]
  },
  {
   "cell_type": "markdown",
   "metadata": {},
   "source": [
    "Which is the driver with the most podiums without a win (position 2 or 3)?\n"
   ]
  },
  {
   "cell_type": "markdown",
   "metadata": {},
   "source": [
    "* With the data available, who is the fastest driver in Formula 1?"
   ]
  },
  {
   "cell_type": "code",
   "execution_count": 15,
   "metadata": {},
   "outputs": [
    {
     "data": {
      "text/html": [
       "<div>\n",
       "<style scoped>\n",
       "    .dataframe tbody tr th:only-of-type {\n",
       "        vertical-align: middle;\n",
       "    }\n",
       "\n",
       "    .dataframe tbody tr th {\n",
       "        vertical-align: top;\n",
       "    }\n",
       "\n",
       "    .dataframe thead th {\n",
       "        text-align: right;\n",
       "    }\n",
       "</style>\n",
       "<table border=\"1\" class=\"dataframe\">\n",
       "  <thead>\n",
       "    <tr style=\"text-align: right;\">\n",
       "      <th></th>\n",
       "      <th>Driver</th>\n",
       "      <th>Fastest Laps Count</th>\n",
       "    </tr>\n",
       "  </thead>\n",
       "  <tbody>\n",
       "    <tr>\n",
       "      <th>0</th>\n",
       "      <td>Lewis Hamilton</td>\n",
       "      <td>63</td>\n",
       "    </tr>\n",
       "    <tr>\n",
       "      <th>1</th>\n",
       "      <td>Kimi Räikkönen</td>\n",
       "      <td>42</td>\n",
       "    </tr>\n",
       "    <tr>\n",
       "      <th>2</th>\n",
       "      <td>Sebastian Vettel</td>\n",
       "      <td>38</td>\n",
       "    </tr>\n",
       "    <tr>\n",
       "      <th>3</th>\n",
       "      <td>Max Verstappen</td>\n",
       "      <td>27</td>\n",
       "    </tr>\n",
       "    <tr>\n",
       "      <th>4</th>\n",
       "      <td>Fernando Alonso</td>\n",
       "      <td>22</td>\n",
       "    </tr>\n",
       "    <tr>\n",
       "      <th>5</th>\n",
       "      <td>Michael Schumacher</td>\n",
       "      <td>21</td>\n",
       "    </tr>\n",
       "    <tr>\n",
       "      <th>6</th>\n",
       "      <td>Nico Rosberg</td>\n",
       "      <td>20</td>\n",
       "    </tr>\n",
       "    <tr>\n",
       "      <th>7</th>\n",
       "      <td>Valtteri Bottas</td>\n",
       "      <td>19</td>\n",
       "    </tr>\n",
       "    <tr>\n",
       "      <th>8</th>\n",
       "      <td>Mark Webber</td>\n",
       "      <td>19</td>\n",
       "    </tr>\n",
       "    <tr>\n",
       "      <th>9</th>\n",
       "      <td>Daniel Ricciardo</td>\n",
       "      <td>16</td>\n",
       "    </tr>\n",
       "  </tbody>\n",
       "</table>\n",
       "</div>"
      ],
      "text/plain": [
       "               Driver  Fastest Laps Count\n",
       "0      Lewis Hamilton                  63\n",
       "1      Kimi Räikkönen                  42\n",
       "2    Sebastian Vettel                  38\n",
       "3      Max Verstappen                  27\n",
       "4     Fernando Alonso                  22\n",
       "5  Michael Schumacher                  21\n",
       "6        Nico Rosberg                  20\n",
       "7     Valtteri Bottas                  19\n",
       "8         Mark Webber                  19\n",
       "9    Daniel Ricciardo                  16"
      ]
     },
     "execution_count": 15,
     "metadata": {},
     "output_type": "execute_result"
    }
   ],
   "source": [
    "import pandas as pd\n",
    "\n",
    "# Assuming df is your DataFrame containing the racing data\n",
    "\n",
    "# Parse data to datetime format\n",
    "df['fastest_lap_time'] = pd.to_datetime(df['fastest_lap_time'], format='%M:%S.%f')\n",
    "\n",
    "# Drop rows with missing values in 'fastest_lap_time' column\n",
    "df = df.dropna(subset=['fastest_lap_time'])\n",
    "\n",
    "# Find the unique fastest lap for each race\n",
    "unique_fastest_laps = df.groupby(['race_name', 'year'])['fastest_lap_time'].idxmin()\n",
    "\n",
    "# Extract the corresponding rows from the original dataframe\n",
    "fastest_driver_per_race = df.loc[unique_fastest_laps]\n",
    "\n",
    "# Count the number of fastest laps for each driver\n",
    "fastest_laps_count = fastest_driver_per_race['driver'].value_counts()\n",
    "\n",
    "# Create a pandas dataframe with the results\n",
    "fastest_laps_table = pd.DataFrame({'Driver': fastest_laps_count.index, 'Fastest Laps Count': fastest_laps_count.values})\n",
    "\n",
    "# Print the table\n",
    "\n",
    "\n",
    "fastest_laps_table.head(10)"
   ]
  },
  {
   "cell_type": "markdown",
   "metadata": {},
   "source": [
    "Which is the driver with the most podiums without a win (position 2 or 3)?"
   ]
  },
  {
   "cell_type": "code",
   "execution_count": 16,
   "metadata": {},
   "outputs": [
    {
     "name": "stdout",
     "output_type": "stream",
     "text": [
      "The  driver with most podiums without a win in Formula 1 is: Nick Heidfeld\n",
      "\n",
      "Top 5 Drivers with Most Podium Finishes Without Winning a Race:\n"
     ]
    },
    {
     "data": {
      "text/plain": [
       "driver\n",
       "Nick Heidfeld      12\n",
       "Romain Grosjean    10\n",
       "Lando Norris        8\n",
       "Ralf Schumacher     4\n",
       "Timo Glock          3\n",
       "Name: count, dtype: int64"
      ]
     },
     "execution_count": 16,
     "metadata": {},
     "output_type": "execute_result"
    }
   ],
   "source": [
    "# Find drivers who have final_position equal to 1 at least once\n",
    "winning_drivers = df[df['final_position'] == 1]['driver'].unique()\n",
    "\n",
    "# Remove rows where the driver has final_position equal to 1\n",
    "filtered_df = df[~df['driver'].isin(winning_drivers)]\n",
    "\n",
    "# Count the total number of podium finishes (final_position == 2 or 3) per driver\n",
    "podium_counts = filtered_df[filtered_df['final_position'].isin([2, 3])]['driver'].value_counts()\n",
    "\n",
    "most_driver = podium_counts.idxmax()\n",
    "print(f\"The  driver with most podiums without a win in Formula 1 is: {most_driver}\")\n",
    "print(\"\\n\"\"Top 5 Drivers with Most Podium Finishes Without Winning a Race:\")\n",
    "podium_counts.head()\n"
   ]
  },
  {
   "cell_type": "markdown",
   "metadata": {},
   "source": [
    "Which drivers are the current ones with the longest history in Formula 1?\n"
   ]
  },
  {
   "cell_type": "code",
   "execution_count": 17,
   "metadata": {},
   "outputs": [
    {
     "name": "stdout",
     "output_type": "stream",
     "text": [
      "Top 5 Drivers with most seasons in Formula 1 (as of 2023):\n",
      "driver\n",
      "Fernando Alonso     20\n",
      "Lewis Hamilton      17\n",
      "Daniel Ricciardo    13\n",
      "Sergio Pérez        13\n",
      "Nico Hülkenberg     12\n",
      "Name: year, dtype: int64\n"
     ]
    }
   ],
   "source": [
    "# Load the dataset into a pandas dataframe\n",
    "file_path = 'f1_data.csv'\n",
    "df = pd.read_csv(file_path)\n",
    "\n",
    "# Identify the current driver with the longest history in Formula 1\n",
    "current_year = 2023\n",
    "current_drivers = df[df['year'] == current_year]['driver'].unique()\n",
    "\n",
    "# Calculate the total number of seasons for each driver\n",
    "total_seasons_per_driver = df[df['driver'].isin(current_drivers)].groupby('driver')['year'].nunique()\n",
    "\n",
    "# Find the top 5 drivers with the longest history\n",
    "top_5_drivers = total_seasons_per_driver.nlargest(5)\n",
    "\n",
    "print(f\"Top 5 Drivers with most seasons in Formula 1 (as of {current_year}):\\n{top_5_drivers}\")"
   ]
  },
  {
   "cell_type": "markdown",
   "metadata": {},
   "source": [
    "Historical probability of each country having a driver win a race"
   ]
  },
  {
   "cell_type": "code",
   "execution_count": 18,
   "metadata": {},
   "outputs": [
    {
     "data": {
      "text/plain": [
       "driver_nationality\n",
       "Venezuelan       0.008333\n",
       "Polish           0.010101\n",
       "Italian          0.012580\n",
       "Swiss            0.014113\n",
       "Mexican          0.018433\n",
       "Belgian          0.018613\n",
       "Swedish          0.023529\n",
       "American         0.025562\n",
       "French           0.026750\n",
       "New Zealander    0.030303\n",
       "Monegasque       0.034722\n",
       "Canadian         0.036638\n",
       "Spanish          0.039007\n",
       "South African    0.047619\n",
       "Finnish          0.049180\n",
       "Australian       0.051497\n",
       "Brazilian        0.051715\n",
       "Colombian        0.056000\n",
       "Austrian         0.059420\n",
       "British          0.069376\n",
       "German           0.074708\n",
       "Dutch            0.089641\n",
       "Argentine        0.101877\n",
       "dtype: float64"
      ]
     },
     "execution_count": 18,
     "metadata": {},
     "output_type": "execute_result"
    }
   ],
   "source": [
    "# Calculate the historical probability of each country having a driver win a race\n",
    "wins_by_country = df[df['final_position'] == 1].groupby('driver_nationality').size()\n",
    "\n",
    "# Calculate the total number of races for each country\n",
    "total_races_by_country = df.groupby('driver_nationality').size()\n",
    "\n",
    "# Calculate the probability of winning for each country\n",
    "probability_of_winning = wins_by_country / total_races_by_country\n",
    "\n",
    "# Filter out countries with no wins\n",
    "probability_of_winning = probability_of_winning[probability_of_winning > 0]\n",
    "\n",
    "# Sort the data by probability in ascending order\n",
    "probability_of_winning = probability_of_winning.sort_values()\n",
    "\n",
    "\n",
    "probability_of_winning"
   ]
  },
  {
   "cell_type": "code",
   "execution_count": 19,
   "metadata": {},
   "outputs": [
    {
     "data": {
      "image/png": "[encoded data removed]",
      "text/plain": [
       "<Figure size 1200x800 with 1 Axes>"
      ]
     },
     "metadata": {},
     "output_type": "display_data"
    }
   ],
   "source": [
    "import matplotlib.pyplot as plt\n",
    "import seaborn as sns\n",
    "\n",
    "# Calculate the historical probability of each country having a driver win a race\n",
    "wins_by_country = df[df['final_position'] == 1].groupby('driver_nationality').size()\n",
    "\n",
    "# Calculate the total number of races for each country\n",
    "total_races_by_country = df.groupby('driver_nationality').size()\n",
    "\n",
    "# Calculate the probability of winning for each country\n",
    "probability_of_winning = wins_by_country / total_races_by_country\n",
    "\n",
    "# Filter out countries with no wins\n",
    "probability_of_winning = probability_of_winning[probability_of_winning > 0]\n",
    "\n",
    "# Sort the data by probability in ascending order\n",
    "probability_of_winning = probability_of_winning.sort_values()\n",
    "\n",
    "# Set seaborn style for a cooler appearance\n",
    "sns.set(style=\"whitegrid\")\n",
    "\n",
    "# Create a scatter plot with the size of the markers representing the number of wins\n",
    "plt.figure(figsize=(12, 8))\n",
    "plt.scatter(probability_of_winning.index, probability_of_winning.values, s=wins_by_country[probability_of_winning.index] * 30, color='#e74c3c', alpha=0.7)  # Adjust the size scaling factor\n",
    "\n",
    "plt.title('Historical Probability of Each Country Having a Driver Win a Race', fontsize=16)\n",
    "plt.xlabel('Country', fontsize=14)\n",
    "plt.ylabel('Probability of Winning', fontsize=14)\n",
    "plt.xticks(rotation=45, ha='right', fontsize=12)  # Adjust rotation and font size for better visibility\n",
    "plt.yticks(fontsize=12)\n",
    "\n",
    "# Display the plot\n",
    "plt.show()\n"
   ]
  },
  {
   "cell_type": "markdown",
   "metadata": {},
   "source": [
    "Historical probability of each country having a driver on the podium"
   ]
  },
  {
   "cell_type": "code",
   "execution_count": 20,
   "metadata": {},
   "outputs": [
    {
     "name": "stdout",
     "output_type": "stream",
     "text": [
      "\n",
      "Historical probability of each country having a driver in the podium:\n",
      "driver_nationality\n",
      "American             0.099923\n",
      "American-Italian          NaN\n",
      "Argentine            0.262735\n",
      "Argentine-Italian         NaN\n",
      "Australian           0.155689\n",
      "Austrian             0.171014\n",
      "Belgian              0.076142\n",
      "Brazilian            0.150026\n",
      "British              0.167041\n",
      "Canadian             0.084052\n",
      "Chilean                   NaN\n",
      "Chinese                   NaN\n",
      "Colombian            0.240000\n",
      "Czech                     NaN\n",
      "Danish               0.005291\n",
      "Dutch                0.181275\n",
      "East German               NaN\n",
      "Finnish              0.211389\n",
      "French               0.102048\n",
      "German               0.173205\n",
      "Hungarian                 NaN\n",
      "Indian                    NaN\n",
      "Indonesian                NaN\n",
      "Irish                     NaN\n",
      "Italian              0.060562\n",
      "Japanese             0.004637\n",
      "Liechtensteiner           NaN\n",
      "Malaysian                 NaN\n",
      "Mexican              0.092166\n",
      "Monegasque           0.194444\n",
      "New Zealander        0.179293\n",
      "Polish               0.121212\n",
      "Portuguese           0.011494\n",
      "Rhodesian            0.055556\n",
      "Russian              0.018779\n",
      "South African        0.171429\n",
      "Spanish              0.143026\n",
      "Swedish              0.086275\n",
      "Swiss                0.072581\n",
      "Thai                 0.022222\n",
      "Uruguayan                 NaN\n",
      "Venezuelan           0.008333\n",
      "dtype: float64\n"
     ]
    }
   ],
   "source": [
    "# Calculate the historical probability of each country having a driver in the podium\n",
    "podiums_by_country = df[df['final_position'].isin([1, 2, 3])].groupby('driver_nationality').size() / df.groupby('driver_nationality').size()\n",
    "print(\"\\nHistorical probability of each country having a driver in the podium:\")\n",
    "print(podiums_by_country)"
   ]
  },
  {
   "cell_type": "code",
   "execution_count": 21,
   "metadata": {},
   "outputs": [
    {
     "data": {
      "image/png": "[encoded data removed]",
      "text/plain": [
       "<Figure size 1200x800 with 1 Axes>"
      ]
     },
     "metadata": {},
     "output_type": "display_data"
    }
   ],
   "source": [
    "# Filter out rows where the final_position is in podium positions\n",
    "podium_df = df[df['final_position'].isin([1, 2, 3])]\n",
    "\n",
    "# Calculate the historical probability of each country having a driver on the podium\n",
    "podium_probabilities = podium_df.groupby('driver_nationality').size() / df.groupby('driver_nationality').size()\n",
    "\n",
    "# Filter out nationalities that don't have a podium\n",
    "podium_probabilities = podium_probabilities[podium_probabilities > 0]\n",
    "\n",
    "# Sort the data by probability in ascending order\n",
    "podium_probabilities = podium_probabilities.sort_values()\n",
    "\n",
    "# Calculate the number of podiums for each country\n",
    "podium_counts = podium_df['driver_nationality'].value_counts()\n",
    "\n",
    "# Align indices to ensure proper matching\n",
    "aligned_counts = podium_counts.reindex(podium_probabilities.index, fill_value=0)\n",
    "\n",
    "# Set seaborn style for a cooler appearance\n",
    "sns.set(style=\"whitegrid\")\n",
    "\n",
    "# Create a scatter plot with the size of the markers representing the number of podiums\n",
    "plt.figure(figsize=(12, 8))\n",
    "plt.scatter(podium_probabilities.index, podium_probabilities.values, s=aligned_counts.values * 10, color='#3498db', alpha=0.65)  # Use a cool blue color\n",
    "\n",
    "plt.title('Historical Probability of Each Country Having a Driver on the Podium', fontsize=16)\n",
    "plt.xlabel('Country', fontsize=14)\n",
    "plt.ylabel('Probability', fontsize=14)\n",
    "plt.xticks(rotation=45, ha='right', fontsize=12)  # Adjust rotation and font size for better visibility\n",
    "plt.yticks(fontsize=12)\n",
    "\n",
    "# Display the plot\n",
    "plt.show()\n"
   ]
  },
  {
   "cell_type": "markdown",
   "metadata": {},
   "source": [
    "### 5. Circuit analytics (2 points)\n",
    "\n",
    "* Which would you say is the toughest circuit in Formula 1? (0.5 point)\n",
    "* Which circuit requires the most f1 experience to win? (0.5 point)\n",
    "* Which circuit and year saw the most number of non-finishers? (0.5 point)\n",
    "* For each constructor, which is their best circuit in terms of amount of podiums? (0.5 point)"
   ]
  },
  {
   "cell_type": "code",
   "execution_count": 22,
   "metadata": {},
   "outputs": [
    {
     "name": "stdout",
     "output_type": "stream",
     "text": [
      "Percentage of the grid expected to crash (sorted from higher to smaller):\n",
      "                        race_name  Percentage\n",
      "28            Moroccan Grand Prix    0.200000\n",
      "29             Pescara Grand Prix    0.125000\n",
      "41  United States Grand Prix West    0.122727\n",
      "21               Indianapolis 500    0.116049\n",
      "13             Detroit Grand Prix    0.104712\n",
      "27              Monaco Grand Prix    0.072384\n",
      "35           Singapore Grand Prix    0.061151\n",
      "14               Dutch Grand Prix    0.060523\n",
      "6              Belgian Grand Prix    0.057705\n",
      "39               Swiss Grand Prix    0.054264\n",
      "36       South African Grand Prix    0.053356\n",
      "10            Canadian Grand Prix    0.050354\n",
      "38             Swedish Grand Prix    0.050314\n",
      "32              Sakhir Grand Prix    0.050000\n",
      "4           Azerbaijan Grand Prix    0.050000\n",
      "18              German Grand Prix    0.048155\n",
      "40       United States Grand Prix    0.043608\n",
      "1            Argentine Grand Prix    0.040179\n",
      "3             Austrian Grand Prix    0.039489\n",
      "7            Brazilian Grand Prix    0.038693\n",
      "12              Dallas Grand Prix    0.038462\n",
      "2           Australian Grand Prix    0.035632\n",
      "23            Japanese Grand Prix    0.034442\n",
      "9       Caesars Palace Grand Prix    0.033333\n",
      "34       Saudi Arabian Grand Prix    0.033333\n",
      "30          Portuguese Grand Prix    0.033113\n",
      "24              Korean Grand Prix    0.031915\n",
      "8              British Grand Prix    0.031301\n",
      "22             Italian Grand Prix    0.030154\n",
      "17              French Grand Prix    0.028976\n",
      "20              Indian Grand Prix    0.028571\n",
      "16            European Grand Prix    0.028409\n",
      "37             Spanish Grand Prix    0.027866\n",
      "19           Hungarian Grand Prix    0.019080\n",
      "26             Mexican Grand Prix    0.018828\n",
      "31             Russian Grand Prix    0.018405\n",
      "11             Chinese Grand Prix    0.017544\n",
      "15      Emilia Romagna Grand Prix    0.016667\n",
      "33          San Marino Grand Prix    0.013493\n",
      "25           Malaysian Grand Prix    0.009709\n",
      "0            Abu Dhabi Grand Prix    0.006757\n",
      "5              Bahrain Grand Prix    0.005000\n",
      "The number of average crashes per track says that the Moroccan GP is the most tough or dangerous race in Formula 1.\n"
     ]
    }
   ],
   "source": [
    "# Filter rows with \"accident\" in the \"status\" column\n",
    "accident_df = df[df['status'].str.lower().str.contains('accident')]\n",
    "\n",
    "# Group by \"race_name\" and count the number of accidents\n",
    "accident_counts = accident_df.groupby('race_name').size().reset_index(name='accident_count')\n",
    "\n",
    "# Group by \"race_name\" and count the total number of races\n",
    "total_races = df.groupby('race_name').size().reset_index(name='total_races')\n",
    "\n",
    "# Merge the accident counts and total races dataframes\n",
    "merged_df = pd.merge(accident_counts, total_races, on='race_name')\n",
    "\n",
    "# Calculate the average number of accidents per race\n",
    "merged_df['Percentage'] = merged_df['accident_count'] / merged_df['total_races']\n",
    "\n",
    "# Sort the dataframe by the average number of accidents per race in descending order\n",
    "merged_df = merged_df.sort_values(by='Percentage', ascending=False)\n",
    "\n",
    "# Display the results\n",
    "print(\"Percentage of the grid expected to crash (sorted from higher to smaller):\")\n",
    "print(merged_df[['race_name', 'Percentage']])\n",
    "print(\"The number of average crashes per track says that the Moroccan GP is the most tough or dangerous race in Formula 1.\")"
   ]
  },
  {
   "cell_type": "markdown",
   "metadata": {},
   "source": [
    "Which circuit requires the most f1 experience to win?"
   ]
  },
  {
   "cell_type": "code",
   "execution_count": 23,
   "metadata": {},
   "outputs": [
    {
     "name": "stdout",
     "output_type": "stream",
     "text": [
      "Top 10 F1 races that need the most experience to win:\n",
      "                   Race Name  Average Races Before Win\n",
      "0           Qatar Grand Prix                101.000000\n",
      "1       São Paulo Grand Prix                100.000000\n",
      "2           Eifel Grand Prix                 90.000000\n",
      "3          Tuscan Grand Prix                 89.000000\n",
      "4         Pacific Grand Prix                 80.500000\n",
      "5         Styrian Grand Prix                 48.500000\n",
      "6         Russian Grand Prix                 43.125000\n",
      "7   Saudi Arabian Grand Prix                 42.000000\n",
      "8  Emilia Romagna Grand Prix                 41.000000\n",
      "9         Bahrain Grand Prix                 30.052632\n",
      "\n",
      "The race that needs the most experience in F1 to win is Qatar Grand Prix with an average of 101.00 races started before winning.\n"
     ]
    }
   ],
   "source": [
    "# Identify the unique driver-season combinations for the winners\n",
    "winners_df = df[df['final_position'] == 1]\n",
    "df.loc[winners_df.index, 'races_before_win'] = df.loc[winners_df.index].groupby('driver')['race_name'].cumcount()\n",
    "\n",
    "# Calculate the average number of races done before winning for each race_name\n",
    "average_races_before_win_by_race = df.groupby('race_name')['races_before_win'].mean()\n",
    "\n",
    "# Find the top 10 races with the highest average number of races done before winning\n",
    "top_races = average_races_before_win_by_race.nlargest(10)\n",
    "top_races_info = pd.DataFrame({'Race Name': top_races.index, 'Average Races Before Win': top_races.values})\n",
    "\n",
    "print(\"Top 10 F1 races that need the most experience to win:\")\n",
    "print(top_races_info)\n",
    "\n",
    "most_experienced_race = top_races.idxmax()\n",
    "highest_average_races_before_win = top_races.max()\n",
    "\n",
    "print(f\"\\nThe race that needs the most experience in F1 to win is {most_experienced_race} with an average of {highest_average_races_before_win:.2f} races started before winning.\")"
   ]
  },
  {
   "cell_type": "markdown",
   "metadata": {},
   "source": [
    "Which circuit and year saw the most number of non-finishers?\n",
    "\n"
   ]
  },
  {
   "cell_type": "code",
   "execution_count": 24,
   "metadata": {},
   "outputs": [
    {
     "name": "stdout",
     "output_type": "stream",
     "text": [
      "The race with the most number of non-finishers (excluding backmarkers) is Canadian Grand Prix in 1989 with 32 non-finishers.\n"
     ]
    }
   ],
   "source": [
    "# Exclude drivers with \"status\" containing the word \"lap\" from the list of non-finishers\n",
    "filtered_non_finishers = df[\n",
    "    (df['total_race_time_ms'].isnull()) & ~df['status'].str.contains('lap', case=False)\n",
    "].groupby(['year', 'race_name']).size()\n",
    "\n",
    "# Identify the race_name with the most number of non-finishers\n",
    "most_non_finishers_race_info = filtered_non_finishers.idxmax()\n",
    "most_non_finishers_race = most_non_finishers_race_info[1]\n",
    "most_non_finishers_year = most_non_finishers_race_info[0]\n",
    "most_non_finishers_count = filtered_non_finishers.max()\n",
    "\n",
    "print(f\"The race with the most number of non-finishers (excluding backmarkers) is {most_non_finishers_race} in {most_non_finishers_year} with {most_non_finishers_count} non-finishers.\")"
   ]
  },
  {
   "cell_type": "markdown",
   "metadata": {},
   "source": [
    "For each constructor, which is their best circuit in terms of amount of podiums?"
   ]
  },
  {
   "cell_type": "code",
   "execution_count": 25,
   "metadata": {},
   "outputs": [
    {
     "data": {
      "text/html": [
       "<div>\n",
       "<style scoped>\n",
       "    .dataframe tbody tr th:only-of-type {\n",
       "        vertical-align: middle;\n",
       "    }\n",
       "\n",
       "    .dataframe tbody tr th {\n",
       "        vertical-align: top;\n",
       "    }\n",
       "\n",
       "    .dataframe thead th {\n",
       "        text-align: right;\n",
       "    }\n",
       "</style>\n",
       "<table border=\"1\" class=\"dataframe\">\n",
       "  <thead>\n",
       "    <tr style=\"text-align: right;\">\n",
       "      <th></th>\n",
       "      <th>5</th>\n",
       "      <th>10</th>\n",
       "      <th>12</th>\n",
       "      <th>18</th>\n",
       "      <th>22</th>\n",
       "      <th>34</th>\n",
       "      <th>47</th>\n",
       "      <th>63</th>\n",
       "      <th>72</th>\n",
       "      <th>89</th>\n",
       "      <th>...</th>\n",
       "      <th>547</th>\n",
       "      <th>566</th>\n",
       "      <th>574</th>\n",
       "      <th>577</th>\n",
       "      <th>580</th>\n",
       "      <th>591</th>\n",
       "      <th>610</th>\n",
       "      <th>620</th>\n",
       "      <th>628</th>\n",
       "      <th>655</th>\n",
       "    </tr>\n",
       "  </thead>\n",
       "  <tbody>\n",
       "    <tr>\n",
       "      <th>constructor_name</th>\n",
       "      <td>Alfa Romeo</td>\n",
       "      <td>AlphaTauri</td>\n",
       "      <td>Alpine F1 Team</td>\n",
       "      <td>Arrows</td>\n",
       "      <td>Aston Martin</td>\n",
       "      <td>BAR</td>\n",
       "      <td>BMW Sauber</td>\n",
       "      <td>BRM</td>\n",
       "      <td>Benetton</td>\n",
       "      <td>Brabham</td>\n",
       "      <td>...</td>\n",
       "      <td>Talbot-Lago</td>\n",
       "      <td>Team Lotus</td>\n",
       "      <td>Toleman</td>\n",
       "      <td>Toro Rosso</td>\n",
       "      <td>Toyota</td>\n",
       "      <td>Tyrrell</td>\n",
       "      <td>Vanwall</td>\n",
       "      <td>Watson</td>\n",
       "      <td>Williams</td>\n",
       "      <td>Wolf</td>\n",
       "    </tr>\n",
       "    <tr>\n",
       "      <th>race_name</th>\n",
       "      <td>Italian Grand Prix</td>\n",
       "      <td>Azerbaijan Grand Prix</td>\n",
       "      <td>Hungarian Grand Prix</td>\n",
       "      <td>San Marino Grand Prix</td>\n",
       "      <td>Australian Grand Prix</td>\n",
       "      <td>German Grand Prix</td>\n",
       "      <td>Canadian Grand Prix</td>\n",
       "      <td>Monaco Grand Prix</td>\n",
       "      <td>Canadian Grand Prix</td>\n",
       "      <td>Austrian Grand Prix</td>\n",
       "      <td>...</td>\n",
       "      <td>Belgian Grand Prix</td>\n",
       "      <td>Monaco Grand Prix</td>\n",
       "      <td>British Grand Prix</td>\n",
       "      <td>Brazilian Grand Prix</td>\n",
       "      <td>Australian Grand Prix</td>\n",
       "      <td>Belgian Grand Prix</td>\n",
       "      <td>Belgian Grand Prix</td>\n",
       "      <td>Indianapolis 500</td>\n",
       "      <td>British Grand Prix</td>\n",
       "      <td>Canadian Grand Prix</td>\n",
       "    </tr>\n",
       "    <tr>\n",
       "      <th>podium_count</th>\n",
       "      <td>5</td>\n",
       "      <td>1</td>\n",
       "      <td>1</td>\n",
       "      <td>2</td>\n",
       "      <td>1</td>\n",
       "      <td>3</td>\n",
       "      <td>3</td>\n",
       "      <td>10</td>\n",
       "      <td>11</td>\n",
       "      <td>7</td>\n",
       "      <td>...</td>\n",
       "      <td>1</td>\n",
       "      <td>10</td>\n",
       "      <td>1</td>\n",
       "      <td>1</td>\n",
       "      <td>2</td>\n",
       "      <td>7</td>\n",
       "      <td>2</td>\n",
       "      <td>5</td>\n",
       "      <td>22</td>\n",
       "      <td>2</td>\n",
       "    </tr>\n",
       "  </tbody>\n",
       "</table>\n",
       "<p>3 rows × 76 columns</p>\n",
       "</div>"
      ],
      "text/plain": [
       "                                 5                      10   \\\n",
       "constructor_name          Alfa Romeo             AlphaTauri   \n",
       "race_name         Italian Grand Prix  Azerbaijan Grand Prix   \n",
       "podium_count                       5                      1   \n",
       "\n",
       "                                   12                     18   \\\n",
       "constructor_name        Alpine F1 Team                 Arrows   \n",
       "race_name         Hungarian Grand Prix  San Marino Grand Prix   \n",
       "podium_count                         1                      2   \n",
       "\n",
       "                                    22                 34   \\\n",
       "constructor_name           Aston Martin                BAR   \n",
       "race_name         Australian Grand Prix  German Grand Prix   \n",
       "podium_count                          1                  3   \n",
       "\n",
       "                                  47                 63                   72   \\\n",
       "constructor_name           BMW Sauber                BRM             Benetton   \n",
       "race_name         Canadian Grand Prix  Monaco Grand Prix  Canadian Grand Prix   \n",
       "podium_count                        3                 10                   11   \n",
       "\n",
       "                                  89   ...                 547  \\\n",
       "constructor_name              Brabham  ...         Talbot-Lago   \n",
       "race_name         Austrian Grand Prix  ...  Belgian Grand Prix   \n",
       "podium_count                        7  ...                   1   \n",
       "\n",
       "                                566                 574                   577  \\\n",
       "constructor_name         Team Lotus             Toleman            Toro Rosso   \n",
       "race_name         Monaco Grand Prix  British Grand Prix  Brazilian Grand Prix   \n",
       "podium_count                     10                   1                     1   \n",
       "\n",
       "                                    580                 591  \\\n",
       "constructor_name                 Toyota             Tyrrell   \n",
       "race_name         Australian Grand Prix  Belgian Grand Prix   \n",
       "podium_count                          2                   7   \n",
       "\n",
       "                                 610               620                 628  \\\n",
       "constructor_name             Vanwall            Watson            Williams   \n",
       "race_name         Belgian Grand Prix  Indianapolis 500  British Grand Prix   \n",
       "podium_count                       2                 5                  22   \n",
       "\n",
       "                                  655  \n",
       "constructor_name                 Wolf  \n",
       "race_name         Canadian Grand Prix  \n",
       "podium_count                        2  \n",
       "\n",
       "[3 rows x 76 columns]"
      ]
     },
     "execution_count": 25,
     "metadata": {},
     "output_type": "execute_result"
    }
   ],
   "source": [
    "# Filter out rows where the final_position is in podium positions\n",
    "podium_df = df[df['final_position'].isin([1, 2, 3])]\n",
    "\n",
    "# Identify the race_name where each constructor has the most podiums\n",
    "constructor_most_podiums_race = podium_df.groupby(['constructor_name', 'race_name']).size().reset_index(name='podium_count')\n",
    "constructor_most_podiums_race = constructor_most_podiums_race.loc[constructor_most_podiums_race.groupby('constructor_name')['podium_count'].idxmax()]\n",
    "constructor_most_podiums_race.T\n"
   ]
  },
  {
   "cell_type": "markdown",
   "metadata": {},
   "source": [
    "## Code for the presentation goes here\n",
    "\n",
    "Build a data-based history about a driver/circuit/constructor and present it using your preferred format. You can use any of the data available in the dataset."
   ]
  },
  {
   "cell_type": "markdown",
   "metadata": {},
   "source": [
    "# 2015"
   ]
  },
  {
   "cell_type": "code",
   "execution_count": 26,
   "metadata": {},
   "outputs": [
    {
     "data": {
      "application/vnd.plotly.v1+json": {
       "config": {
        "plotlyServerURL": "https://plot.ly"
       },
       "data": [
        {
         "hovertemplate": "driver=Carlos Sainz<br>Race Name=%{x}<br>Final Position=%{y}<extra></extra>",
         "legendgroup": "Carlos Sainz",
         "line": {
          "color": "blue",
          "dash": "solid"
         },
         "marker": {
          "symbol": "circle"
         },
         "mode": "lines",
         "name": "Carlos Sainz",
         "orientation": "v",
         "showlegend": true,
         "type": "scatter",
         "x": [
          "Australian Grand Prix",
          "Malaysian Grand Prix",
          "Chinese Grand Prix",
          "Bahrain Grand Prix",
          "Spanish Grand Prix",
          "Monaco Grand Prix",
          "Canadian Grand Prix",
          "Austrian Grand Prix",
          "British Grand Prix",
          "Hungarian Grand Prix",
          "Belgian Grand Prix",
          "Italian Grand Prix",
          "Singapore Grand Prix",
          "Japanese Grand Prix",
          "Russian Grand Prix",
          "United States Grand Prix",
          "Mexican Grand Prix",
          "Brazilian Grand Prix",
          "Abu Dhabi Grand Prix"
         ],
         "xaxis": "x",
         "y": [
          9,
          8,
          13,
          null,
          9,
          10,
          12,
          null,
          null,
          null,
          null,
          11,
          9,
          10,
          null,
          7,
          13,
          null,
          11
         ],
         "yaxis": "y"
        },
        {
         "hovertemplate": "driver=Max Verstappen<br>Race Name=%{x}<br>Final Position=%{y}<extra></extra>",
         "legendgroup": "Max Verstappen",
         "line": {
          "color": "orange",
          "dash": "solid"
         },
         "marker": {
          "symbol": "circle"
         },
         "mode": "lines",
         "name": "Max Verstappen",
         "orientation": "v",
         "showlegend": true,
         "type": "scatter",
         "x": [
          "Australian Grand Prix",
          "Malaysian Grand Prix",
          "Chinese Grand Prix",
          "Bahrain Grand Prix",
          "Spanish Grand Prix",
          "Monaco Grand Prix",
          "Canadian Grand Prix",
          "Austrian Grand Prix",
          "British Grand Prix",
          "Hungarian Grand Prix",
          "Belgian Grand Prix",
          "Italian Grand Prix",
          "Singapore Grand Prix",
          "Japanese Grand Prix",
          "Russian Grand Prix",
          "United States Grand Prix",
          "Mexican Grand Prix",
          "Brazilian Grand Prix",
          "Abu Dhabi Grand Prix"
         ],
         "xaxis": "x",
         "y": [
          null,
          7,
          17,
          null,
          11,
          null,
          15,
          8,
          null,
          4,
          8,
          12,
          8,
          9,
          10,
          4,
          9,
          9,
          16
         ],
         "yaxis": "y"
        }
       ],
       "layout": {
        "font": {
         "color": "black"
        },
        "height": 600,
        "legend": {
         "title": {
          "text": "Driver"
         },
         "tracegroupgap": 0,
         "traceorder": "normal"
        },
        "paper_bgcolor": "lightgrey",
        "plot_bgcolor": "lightgrey",
        "template": {
         "data": {
          "bar": [
           {
            "error_x": {
             "color": "#2a3f5f"
            },
            "error_y": {
             "color": "#2a3f5f"
            },
            "marker": {
             "line": {
              "color": "#E5ECF6",
              "width": 0.5
             },
             "pattern": {
              "fillmode": "overlay",
              "size": 10,
              "solidity": 0.2
             }
            },
            "type": "bar"
           }
          ],
          "barpolar": [
           {
            "marker": {
             "line": {
              "color": "#E5ECF6",
              "width": 0.5
             },
             "pattern": {
              "fillmode": "overlay",
              "size": 10,
              "solidity": 0.2
             }
            },
            "type": "barpolar"
           }
          ],
          "carpet": [
           {
            "aaxis": {
             "endlinecolor": "#2a3f5f",
             "gridcolor": "white",
             "linecolor": "white",
             "minorgridcolor": "white",
             "startlinecolor": "#2a3f5f"
            },
            "baxis": {
             "endlinecolor": "#2a3f5f",
             "gridcolor": "white",
             "linecolor": "white",
             "minorgridcolor": "white",
             "startlinecolor": "#2a3f5f"
            },
            "type": "carpet"
           }
          ],
          "choropleth": [
           {
            "colorbar": {
             "outlinewidth": 0,
             "ticks": ""
            },
            "type": "choropleth"
           }
          ],
          "contour": [
           {
            "colorbar": {
             "outlinewidth": 0,
             "ticks": ""
            },
            "colorscale": [
             [
              0,
              "#0d0887"
             ],
             [
              0.1111111111111111,
              "#46039f"
             ],
             [
              0.2222222222222222,
              "#7201a8"
             ],
             [
              0.3333333333333333,
              "#9c179e"
             ],
             [
              0.4444444444444444,
              "#bd3786"
             ],
             [
              0.5555555555555556,
              "#d8576b"
             ],
             [
              0.6666666666666666,
              "#ed7953"
             ],
             [
              0.7777777777777778,
              "#fb9f3a"
             ],
             [
              0.8888888888888888,
              "#fdca26"
             ],
             [
              1,
              "#f0f921"
             ]
            ],
            "type": "contour"
           }
          ],
          "contourcarpet": [
           {
            "colorbar": {
             "outlinewidth": 0,
             "ticks": ""
            },
            "type": "contourcarpet"
           }
          ],
          "heatmap": [
           {
            "colorbar": {
             "outlinewidth": 0,
             "ticks": ""
            },
            "colorscale": [
             [
              0,
              "#0d0887"
             ],
             [
              0.1111111111111111,
              "#46039f"
             ],
             [
              0.2222222222222222,
              "#7201a8"
             ],
             [
              0.3333333333333333,
              "#9c179e"
             ],
             [
              0.4444444444444444,
              "#bd3786"
             ],
             [
              0.5555555555555556,
              "#d8576b"
             ],
             [
              0.6666666666666666,
              "#ed7953"
             ],
             [
              0.7777777777777778,
              "#fb9f3a"
             ],
             [
              0.8888888888888888,
              "#fdca26"
             ],
             [
              1,
              "#f0f921"
             ]
            ],
            "type": "heatmap"
           }
          ],
          "heatmapgl": [
           {
            "colorbar": {
             "outlinewidth": 0,
             "ticks": ""
            },
            "colorscale": [
             [
              0,
              "#0d0887"
             ],
             [
              0.1111111111111111,
              "#46039f"
             ],
             [
              0.2222222222222222,
              "#7201a8"
             ],
             [
              0.3333333333333333,
              "#9c179e"
             ],
             [
              0.4444444444444444,
              "#bd3786"
             ],
             [
              0.5555555555555556,
              "#d8576b"
             ],
             [
              0.6666666666666666,
              "#ed7953"
             ],
             [
              0.7777777777777778,
              "#fb9f3a"
             ],
             [
              0.8888888888888888,
              "#fdca26"
             ],
             [
              1,
              "#f0f921"
             ]
            ],
            "type": "heatmapgl"
           }
          ],
          "histogram": [
           {
            "marker": {
             "pattern": {
              "fillmode": "overlay",
              "size": 10,
              "solidity": 0.2
             }
            },
            "type": "histogram"
           }
          ],
          "histogram2d": [
           {
            "colorbar": {
             "outlinewidth": 0,
             "ticks": ""
            },
            "colorscale": [
             [
              0,
              "#0d0887"
             ],
             [
              0.1111111111111111,
              "#46039f"
             ],
             [
              0.2222222222222222,
              "#7201a8"
             ],
             [
              0.3333333333333333,
              "#9c179e"
             ],
             [
              0.4444444444444444,
              "#bd3786"
             ],
             [
              0.5555555555555556,
              "#d8576b"
             ],
             [
              0.6666666666666666,
              "#ed7953"
             ],
             [
              0.7777777777777778,
              "#fb9f3a"
             ],
             [
              0.8888888888888888,
              "#fdca26"
             ],
             [
              1,
              "#f0f921"
             ]
            ],
            "type": "histogram2d"
           }
          ],
          "histogram2dcontour": [
           {
            "colorbar": {
             "outlinewidth": 0,
             "ticks": ""
            },
            "colorscale": [
             [
              0,
              "#0d0887"
             ],
             [
              0.1111111111111111,
              "#46039f"
             ],
             [
              0.2222222222222222,
              "#7201a8"
             ],
             [
              0.3333333333333333,
              "#9c179e"
             ],
             [
              0.4444444444444444,
              "#bd3786"
             ],
             [
              0.5555555555555556,
              "#d8576b"
             ],
             [
              0.6666666666666666,
              "#ed7953"
             ],
             [
              0.7777777777777778,
              "#fb9f3a"
             ],
             [
              0.8888888888888888,
              "#fdca26"
             ],
             [
              1,
              "#f0f921"
             ]
            ],
            "type": "histogram2dcontour"
           }
          ],
          "mesh3d": [
           {
            "colorbar": {
             "outlinewidth": 0,
             "ticks": ""
            },
            "type": "mesh3d"
           }
          ],
          "parcoords": [
           {
            "line": {
             "colorbar": {
              "outlinewidth": 0,
              "ticks": ""
             }
            },
            "type": "parcoords"
           }
          ],
          "pie": [
           {
            "automargin": true,
            "type": "pie"
           }
          ],
          "scatter": [
           {
            "fillpattern": {
             "fillmode": "overlay",
             "size": 10,
             "solidity": 0.2
            },
            "type": "scatter"
           }
          ],
          "scatter3d": [
           {
            "line": {
             "colorbar": {
              "outlinewidth": 0,
              "ticks": ""
             }
            },
            "marker": {
             "colorbar": {
              "outlinewidth": 0,
              "ticks": ""
             }
            },
            "type": "scatter3d"
           }
          ],
          "scattercarpet": [
           {
            "marker": {
             "colorbar": {
              "outlinewidth": 0,
              "ticks": ""
             }
            },
            "type": "scattercarpet"
           }
          ],
          "scattergeo": [
           {
            "marker": {
             "colorbar": {
              "outlinewidth": 0,
              "ticks": ""
             }
            },
            "type": "scattergeo"
           }
          ],
          "scattergl": [
           {
            "marker": {
             "colorbar": {
              "outlinewidth": 0,
              "ticks": ""
             }
            },
            "type": "scattergl"
           }
          ],
          "scattermapbox": [
           {
            "marker": {
             "colorbar": {
              "outlinewidth": 0,
              "ticks": ""
             }
            },
            "type": "scattermapbox"
           }
          ],
          "scatterpolar": [
           {
            "marker": {
             "colorbar": {
              "outlinewidth": 0,
              "ticks": ""
             }
            },
            "type": "scatterpolar"
           }
          ],
          "scatterpolargl": [
           {
            "marker": {
             "colorbar": {
              "outlinewidth": 0,
              "ticks": ""
             }
            },
            "type": "scatterpolargl"
           }
          ],
          "scatterternary": [
           {
            "marker": {
             "colorbar": {
              "outlinewidth": 0,
              "ticks": ""
             }
            },
            "type": "scatterternary"
           }
          ],
          "surface": [
           {
            "colorbar": {
             "outlinewidth": 0,
             "ticks": ""
            },
            "colorscale": [
             [
              0,
              "#0d0887"
             ],
             [
              0.1111111111111111,
              "#46039f"
             ],
             [
              0.2222222222222222,
              "#7201a8"
             ],
             [
              0.3333333333333333,
              "#9c179e"
             ],
             [
              0.4444444444444444,
              "#bd3786"
             ],
             [
              0.5555555555555556,
              "#d8576b"
             ],
             [
              0.6666666666666666,
              "#ed7953"
             ],
             [
              0.7777777777777778,
              "#fb9f3a"
             ],
             [
              0.8888888888888888,
              "#fdca26"
             ],
             [
              1,
              "#f0f921"
             ]
            ],
            "type": "surface"
           }
          ],
          "table": [
           {
            "cells": {
             "fill": {
              "color": "#EBF0F8"
             },
             "line": {
              "color": "white"
             }
            },
            "header": {
             "fill": {
              "color": "#C8D4E3"
             },
             "line": {
              "color": "white"
             }
            },
            "type": "table"
           }
          ]
         },
         "layout": {
          "annotationdefaults": {
           "arrowcolor": "#2a3f5f",
           "arrowhead": 0,
           "arrowwidth": 1
          },
          "autotypenumbers": "strict",
          "coloraxis": {
           "colorbar": {
            "outlinewidth": 0,
            "ticks": ""
           }
          },
          "colorscale": {
           "diverging": [
            [
             0,
             "#8e0152"
            ],
            [
             0.1,
             "#c51b7d"
            ],
            [
             0.2,
             "#de77ae"
            ],
            [
             0.3,
             "#f1b6da"
            ],
            [
             0.4,
             "#fde0ef"
            ],
            [
             0.5,
             "#f7f7f7"
            ],
            [
             0.6,
             "#e6f5d0"
            ],
            [
             0.7,
             "#b8e186"
            ],
            [
             0.8,
             "#7fbc41"
            ],
            [
             0.9,
             "#4d9221"
            ],
            [
             1,
             "#276419"
            ]
           ],
           "sequential": [
            [
             0,
             "#0d0887"
            ],
            [
             0.1111111111111111,
             "#46039f"
            ],
            [
             0.2222222222222222,
             "#7201a8"
            ],
            [
             0.3333333333333333,
             "#9c179e"
            ],
            [
             0.4444444444444444,
             "#bd3786"
            ],
            [
             0.5555555555555556,
             "#d8576b"
            ],
            [
             0.6666666666666666,
             "#ed7953"
            ],
            [
             0.7777777777777778,
             "#fb9f3a"
            ],
            [
             0.8888888888888888,
             "#fdca26"
            ],
            [
             1,
             "#f0f921"
            ]
           ],
           "sequentialminus": [
            [
             0,
             "#0d0887"
            ],
            [
             0.1111111111111111,
             "#46039f"
            ],
            [
             0.2222222222222222,
             "#7201a8"
            ],
            [
             0.3333333333333333,
             "#9c179e"
            ],
            [
             0.4444444444444444,
             "#bd3786"
            ],
            [
             0.5555555555555556,
             "#d8576b"
            ],
            [
             0.6666666666666666,
             "#ed7953"
            ],
            [
             0.7777777777777778,
             "#fb9f3a"
            ],
            [
             0.8888888888888888,
             "#fdca26"
            ],
            [
             1,
             "#f0f921"
            ]
           ]
          },
          "colorway": [
           "#636efa",
           "#EF553B",
           "#00cc96",
           "#ab63fa",
           "#FFA15A",
           "#19d3f3",
           "#FF6692",
           "#B6E880",
           "#FF97FF",
           "#FECB52"
          ],
          "font": {
           "color": "#2a3f5f"
          },
          "geo": {
           "bgcolor": "white",
           "lakecolor": "white",
           "landcolor": "#E5ECF6",
           "showlakes": true,
           "showland": true,
           "subunitcolor": "white"
          },
          "hoverlabel": {
           "align": "left"
          },
          "hovermode": "closest",
          "mapbox": {
           "style": "light"
          },
          "paper_bgcolor": "white",
          "plot_bgcolor": "#E5ECF6",
          "polar": {
           "angularaxis": {
            "gridcolor": "white",
            "linecolor": "white",
            "ticks": ""
           },
           "bgcolor": "#E5ECF6",
           "radialaxis": {
            "gridcolor": "white",
            "linecolor": "white",
            "ticks": ""
           }
          },
          "scene": {
           "xaxis": {
            "backgroundcolor": "#E5ECF6",
            "gridcolor": "white",
            "gridwidth": 2,
            "linecolor": "white",
            "showbackground": true,
            "ticks": "",
            "zerolinecolor": "white"
           },
           "yaxis": {
            "backgroundcolor": "#E5ECF6",
            "gridcolor": "white",
            "gridwidth": 2,
            "linecolor": "white",
            "showbackground": true,
            "ticks": "",
            "zerolinecolor": "white"
           },
           "zaxis": {
            "backgroundcolor": "#E5ECF6",
            "gridcolor": "white",
            "gridwidth": 2,
            "linecolor": "white",
            "showbackground": true,
            "ticks": "",
            "zerolinecolor": "white"
           }
          },
          "shapedefaults": {
           "line": {
            "color": "#2a3f5f"
           }
          },
          "ternary": {
           "aaxis": {
            "gridcolor": "white",
            "linecolor": "white",
            "ticks": ""
           },
           "baxis": {
            "gridcolor": "white",
            "linecolor": "white",
            "ticks": ""
           },
           "bgcolor": "#E5ECF6",
           "caxis": {
            "gridcolor": "white",
            "linecolor": "white",
            "ticks": ""
           }
          },
          "title": {
           "x": 0.05
          },
          "xaxis": {
           "automargin": true,
           "gridcolor": "white",
           "linecolor": "white",
           "ticks": "",
           "title": {
            "standoff": 15
           },
           "zerolinecolor": "white",
           "zerolinewidth": 2
          },
          "yaxis": {
           "automargin": true,
           "gridcolor": "white",
           "linecolor": "white",
           "ticks": "",
           "title": {
            "standoff": 15
           },
           "zerolinecolor": "white",
           "zerolinewidth": 2
          }
         }
        },
        "title": {
         "text": "Final Positions Comparison - Max Verstappen vs. Carlos Sainz (2015)"
        },
        "width": 1200,
        "xaxis": {
         "anchor": "y",
         "domain": [
          0,
          1
         ],
         "showgrid": false,
         "tickangle": 45,
         "tickmode": "array",
         "ticktext": [
          "Australian Grand Prix",
          "Malaysian Grand Prix",
          "Chinese Grand Prix",
          "Bahrain Grand Prix",
          "Spanish Grand Prix",
          "Monaco Grand Prix",
          "Canadian Grand Prix",
          "Austrian Grand Prix",
          "British Grand Prix",
          "Hungarian Grand Prix",
          "Belgian Grand Prix",
          "Italian Grand Prix",
          "Singapore Grand Prix",
          "Japanese Grand Prix",
          "Russian Grand Prix",
          "United States Grand Prix",
          "Mexican Grand Prix",
          "Brazilian Grand Prix",
          "Abu Dhabi Grand Prix"
         ],
         "tickvals": [
          0,
          1,
          2,
          3,
          4,
          5,
          6,
          7,
          8,
          9,
          10,
          11,
          12,
          13,
          14,
          15,
          16,
          17,
          18
         ],
         "title": {
          "text": "Race Name"
         }
        },
        "yaxis": {
         "anchor": "x",
         "autorange": "reversed",
         "domain": [
          0,
          1
         ],
         "showgrid": false,
         "title": {
          "text": "Final Position"
         }
        }
       }
      }
     },
     "metadata": {},
     "output_type": "display_data"
    },
    {
     "name": "stdout",
     "output_type": "stream",
     "text": [
      "Average Finishing Position in 2015:\n",
      "driver\n",
      "Carlos Sainz      10.166667\n",
      "Max Verstappen     9.800000\n",
      "Name: final_position, dtype: float64\n"
     ]
    }
   ],
   "source": [
    "# Filter the dataset for Max Verstappen and Carlos Sainz in the year 2015\n",
    "df_2015_max_carlos = df[(df['year'] == 2015) & (df['driver'].isin(['Max Verstappen', 'Carlos Sainz']))]\n",
    "\n",
    "# Custom color assignment for Max Verstappen and Carlos Sainz\n",
    "colors = {'Max Verstappen': 'orange', 'Carlos Sainz': 'blue'}\n",
    "\n",
    "# Create line charts for final positions with race names\n",
    "fig_2015 = px.line(df_2015_max_carlos, x='race_name', y='final_position', color='driver',\n",
    "                   color_discrete_map=colors,\n",
    "                   labels={'final_position': 'Final Position', 'race_name': 'Race Name'},\n",
    "                   title='Final Positions Comparison - Max Verstappen vs. Carlos Sainz (2015)',\n",
    "                   width=1200, height=600)\n",
    "\n",
    "fig_2015.update_layout(legend_title_text='Driver', plot_bgcolor='lightgrey', paper_bgcolor='lightgrey', font=dict(color='black'),\n",
    "                       legend=dict(traceorder='normal'))\n",
    "fig_2015.update_xaxes(tickangle=45, tickmode='array', tickvals=list(range(len(df_2015_max_carlos['race_name'].unique()))),\n",
    "                      ticktext=df_2015_max_carlos['race_name'].unique(), showgrid=False)\n",
    "fig_2015.update_yaxes(autorange=\"reversed\", showgrid=False)\n",
    "\n",
    "# Show the interactive chart for the 2015 season with Max Verstappen and Carlos Sainz\n",
    "fig_2015.show()\n",
    "\n",
    "\n",
    "# Assuming df is your DataFrame containing the racing data\n",
    "\n",
    "# Filter the dataset for Max Verstappen and Carlos Sainz in the year 2015\n",
    "df_2015_max_carlos = df[(df['year'] == 2015) & (df['driver'].isin(['Max Verstappen', 'Carlos Sainz']))]\n",
    "\n",
    "# Calculate the average finishing position for each driver\n",
    "average_finish_position = df_2015_max_carlos.groupby('driver')['final_position'].mean()\n",
    "\n",
    "# Print the results\n",
    "print(\"Average Finishing Position in 2015:\")\n",
    "print(average_finish_position)\n"
   ]
  },
  {
   "cell_type": "code",
   "execution_count": 27,
   "metadata": {},
   "outputs": [
    {
     "data": {
      "application/vnd.plotly.v1+json": {
       "config": {
        "plotlyServerURL": "https://plot.ly"
       },
       "data": [
        {
         "alignmentgroup": "True",
         "hovertemplate": "driver=Carlos Sainz<br>Year=%{x}<br>Grid Starting Position=%{y}<extra></extra>",
         "legendgroup": "Carlos Sainz",
         "marker": {
          "color": "blue"
         },
         "name": "Carlos Sainz",
         "notched": false,
         "offsetgroup": "Carlos Sainz",
         "orientation": "v",
         "showlegend": true,
         "type": "box",
         "x": [
          2015,
          2015,
          2015,
          2015,
          2015,
          2015,
          2015,
          2015,
          2015,
          2015,
          2015,
          2015,
          2015,
          2015,
          2015,
          2015,
          2015,
          2015
         ],
         "x0": " ",
         "xaxis": "x",
         "y": [
          7,
          15,
          14,
          9,
          5,
          11,
          12,
          8,
          12,
          10,
          17,
          14,
          10,
          20,
          20,
          11,
          10,
          10
         ],
         "y0": " ",
         "yaxis": "y"
        },
        {
         "alignmentgroup": "True",
         "hovertemplate": "driver=Max Verstappen<br>Year=%{x}<br>Grid Starting Position=%{y}<extra></extra>",
         "legendgroup": "Max Verstappen",
         "marker": {
          "color": "#FFA500"
         },
         "name": "Max Verstappen",
         "notched": false,
         "offsetgroup": "Max Verstappen",
         "orientation": "v",
         "showlegend": true,
         "type": "box",
         "x": [
          2015,
          2015,
          2015,
          2015,
          2015,
          2015,
          2015,
          2015,
          2015,
          2015,
          2015,
          2015,
          2015,
          2015,
          2015,
          2015,
          2015,
          2015,
          2015
         ],
         "x0": " ",
         "xaxis": "x",
         "y": [
          11,
          6,
          13,
          15,
          6,
          9,
          19,
          7,
          13,
          9,
          18,
          20,
          8,
          17,
          9,
          8,
          8,
          9,
          11
         ],
         "y0": " ",
         "yaxis": "y"
        }
       ],
       "layout": {
        "boxmode": "group",
        "height": 500,
        "legend": {
         "title": {
          "text": "driver"
         },
         "tracegroupgap": 0
        },
        "showlegend": true,
        "template": {
         "data": {
          "bar": [
           {
            "error_x": {
             "color": "#2a3f5f"
            },
            "error_y": {
             "color": "#2a3f5f"
            },
            "marker": {
             "line": {
              "color": "#E5ECF6",
              "width": 0.5
             },
             "pattern": {
              "fillmode": "overlay",
              "size": 10,
              "solidity": 0.2
             }
            },
            "type": "bar"
           }
          ],
          "barpolar": [
           {
            "marker": {
             "line": {
              "color": "#E5ECF6",
              "width": 0.5
             },
             "pattern": {
              "fillmode": "overlay",
              "size": 10,
              "solidity": 0.2
             }
            },
            "type": "barpolar"
           }
          ],
          "carpet": [
           {
            "aaxis": {
             "endlinecolor": "#2a3f5f",
             "gridcolor": "white",
             "linecolor": "white",
             "minorgridcolor": "white",
             "startlinecolor": "#2a3f5f"
            },
            "baxis": {
             "endlinecolor": "#2a3f5f",
             "gridcolor": "white",
             "linecolor": "white",
             "minorgridcolor": "white",
             "startlinecolor": "#2a3f5f"
            },
            "type": "carpet"
           }
          ],
          "choropleth": [
           {
            "colorbar": {
             "outlinewidth": 0,
             "ticks": ""
            },
            "type": "choropleth"
           }
          ],
          "contour": [
           {
            "colorbar": {
             "outlinewidth": 0,
             "ticks": ""
            },
            "colorscale": [
             [
              0,
              "#0d0887"
             ],
             [
              0.1111111111111111,
              "#46039f"
             ],
             [
              0.2222222222222222,
              "#7201a8"
             ],
             [
              0.3333333333333333,
              "#9c179e"
             ],
             [
              0.4444444444444444,
              "#bd3786"
             ],
             [
              0.5555555555555556,
              "#d8576b"
             ],
             [
              0.6666666666666666,
              "#ed7953"
             ],
             [
              0.7777777777777778,
              "#fb9f3a"
             ],
             [
              0.8888888888888888,
              "#fdca26"
             ],
             [
              1,
              "#f0f921"
             ]
            ],
            "type": "contour"
           }
          ],
          "contourcarpet": [
           {
            "colorbar": {
             "outlinewidth": 0,
             "ticks": ""
            },
            "type": "contourcarpet"
           }
          ],
          "heatmap": [
           {
            "colorbar": {
             "outlinewidth": 0,
             "ticks": ""
            },
            "colorscale": [
             [
              0,
              "#0d0887"
             ],
             [
              0.1111111111111111,
              "#46039f"
             ],
             [
              0.2222222222222222,
              "#7201a8"
             ],
             [
              0.3333333333333333,
              "#9c179e"
             ],
             [
              0.4444444444444444,
              "#bd3786"
             ],
             [
              0.5555555555555556,
              "#d8576b"
             ],
             [
              0.6666666666666666,
              "#ed7953"
             ],
             [
              0.7777777777777778,
              "#fb9f3a"
             ],
             [
              0.8888888888888888,
              "#fdca26"
             ],
             [
              1,
              "#f0f921"
             ]
            ],
            "type": "heatmap"
           }
          ],
          "heatmapgl": [
           {
            "colorbar": {
             "outlinewidth": 0,
             "ticks": ""
            },
            "colorscale": [
             [
              0,
              "#0d0887"
             ],
             [
              0.1111111111111111,
              "#46039f"
             ],
             [
              0.2222222222222222,
              "#7201a8"
             ],
             [
              0.3333333333333333,
              "#9c179e"
             ],
             [
              0.4444444444444444,
              "#bd3786"
             ],
             [
              0.5555555555555556,
              "#d8576b"
             ],
             [
              0.6666666666666666,
              "#ed7953"
             ],
             [
              0.7777777777777778,
              "#fb9f3a"
             ],
             [
              0.8888888888888888,
              "#fdca26"
             ],
             [
              1,
              "#f0f921"
             ]
            ],
            "type": "heatmapgl"
           }
          ],
          "histogram": [
           {
            "marker": {
             "pattern": {
              "fillmode": "overlay",
              "size": 10,
              "solidity": 0.2
             }
            },
            "type": "histogram"
           }
          ],
          "histogram2d": [
           {
            "colorbar": {
             "outlinewidth": 0,
             "ticks": ""
            },
            "colorscale": [
             [
              0,
              "#0d0887"
             ],
             [
              0.1111111111111111,
              "#46039f"
             ],
             [
              0.2222222222222222,
              "#7201a8"
             ],
             [
              0.3333333333333333,
              "#9c179e"
             ],
             [
              0.4444444444444444,
              "#bd3786"
             ],
             [
              0.5555555555555556,
              "#d8576b"
             ],
             [
              0.6666666666666666,
              "#ed7953"
             ],
             [
              0.7777777777777778,
              "#fb9f3a"
             ],
             [
              0.8888888888888888,
              "#fdca26"
             ],
             [
              1,
              "#f0f921"
             ]
            ],
            "type": "histogram2d"
           }
          ],
          "histogram2dcontour": [
           {
            "colorbar": {
             "outlinewidth": 0,
             "ticks": ""
            },
            "colorscale": [
             [
              0,
              "#0d0887"
             ],
             [
              0.1111111111111111,
              "#46039f"
             ],
             [
              0.2222222222222222,
              "#7201a8"
             ],
             [
              0.3333333333333333,
              "#9c179e"
             ],
             [
              0.4444444444444444,
              "#bd3786"
             ],
             [
              0.5555555555555556,
              "#d8576b"
             ],
             [
              0.6666666666666666,
              "#ed7953"
             ],
             [
              0.7777777777777778,
              "#fb9f3a"
             ],
             [
              0.8888888888888888,
              "#fdca26"
             ],
             [
              1,
              "#f0f921"
             ]
            ],
            "type": "histogram2dcontour"
           }
          ],
          "mesh3d": [
           {
            "colorbar": {
             "outlinewidth": 0,
             "ticks": ""
            },
            "type": "mesh3d"
           }
          ],
          "parcoords": [
           {
            "line": {
             "colorbar": {
              "outlinewidth": 0,
              "ticks": ""
             }
            },
            "type": "parcoords"
           }
          ],
          "pie": [
           {
            "automargin": true,
            "type": "pie"
           }
          ],
          "scatter": [
           {
            "fillpattern": {
             "fillmode": "overlay",
             "size": 10,
             "solidity": 0.2
            },
            "type": "scatter"
           }
          ],
          "scatter3d": [
           {
            "line": {
             "colorbar": {
              "outlinewidth": 0,
              "ticks": ""
             }
            },
            "marker": {
             "colorbar": {
              "outlinewidth": 0,
              "ticks": ""
             }
            },
            "type": "scatter3d"
           }
          ],
          "scattercarpet": [
           {
            "marker": {
             "colorbar": {
              "outlinewidth": 0,
              "ticks": ""
             }
            },
            "type": "scattercarpet"
           }
          ],
          "scattergeo": [
           {
            "marker": {
             "colorbar": {
              "outlinewidth": 0,
              "ticks": ""
             }
            },
            "type": "scattergeo"
           }
          ],
          "scattergl": [
           {
            "marker": {
             "colorbar": {
              "outlinewidth": 0,
              "ticks": ""
             }
            },
            "type": "scattergl"
           }
          ],
          "scattermapbox": [
           {
            "marker": {
             "colorbar": {
              "outlinewidth": 0,
              "ticks": ""
             }
            },
            "type": "scattermapbox"
           }
          ],
          "scatterpolar": [
           {
            "marker": {
             "colorbar": {
              "outlinewidth": 0,
              "ticks": ""
             }
            },
            "type": "scatterpolar"
           }
          ],
          "scatterpolargl": [
           {
            "marker": {
             "colorbar": {
              "outlinewidth": 0,
              "ticks": ""
             }
            },
            "type": "scatterpolargl"
           }
          ],
          "scatterternary": [
           {
            "marker": {
             "colorbar": {
              "outlinewidth": 0,
              "ticks": ""
             }
            },
            "type": "scatterternary"
           }
          ],
          "surface": [
           {
            "colorbar": {
             "outlinewidth": 0,
             "ticks": ""
            },
            "colorscale": [
             [
              0,
              "#0d0887"
             ],
             [
              0.1111111111111111,
              "#46039f"
             ],
             [
              0.2222222222222222,
              "#7201a8"
             ],
             [
              0.3333333333333333,
              "#9c179e"
             ],
             [
              0.4444444444444444,
              "#bd3786"
             ],
             [
              0.5555555555555556,
              "#d8576b"
             ],
             [
              0.6666666666666666,
              "#ed7953"
             ],
             [
              0.7777777777777778,
              "#fb9f3a"
             ],
             [
              0.8888888888888888,
              "#fdca26"
             ],
             [
              1,
              "#f0f921"
             ]
            ],
            "type": "surface"
           }
          ],
          "table": [
           {
            "cells": {
             "fill": {
              "color": "#EBF0F8"
             },
             "line": {
              "color": "white"
             }
            },
            "header": {
             "fill": {
              "color": "#C8D4E3"
             },
             "line": {
              "color": "white"
             }
            },
            "type": "table"
           }
          ]
         },
         "layout": {
          "annotationdefaults": {
           "arrowcolor": "#2a3f5f",
           "arrowhead": 0,
           "arrowwidth": 1
          },
          "autotypenumbers": "strict",
          "coloraxis": {
           "colorbar": {
            "outlinewidth": 0,
            "ticks": ""
           }
          },
          "colorscale": {
           "diverging": [
            [
             0,
             "#8e0152"
            ],
            [
             0.1,
             "#c51b7d"
            ],
            [
             0.2,
             "#de77ae"
            ],
            [
             0.3,
             "#f1b6da"
            ],
            [
             0.4,
             "#fde0ef"
            ],
            [
             0.5,
             "#f7f7f7"
            ],
            [
             0.6,
             "#e6f5d0"
            ],
            [
             0.7,
             "#b8e186"
            ],
            [
             0.8,
             "#7fbc41"
            ],
            [
             0.9,
             "#4d9221"
            ],
            [
             1,
             "#276419"
            ]
           ],
           "sequential": [
            [
             0,
             "#0d0887"
            ],
            [
             0.1111111111111111,
             "#46039f"
            ],
            [
             0.2222222222222222,
             "#7201a8"
            ],
            [
             0.3333333333333333,
             "#9c179e"
            ],
            [
             0.4444444444444444,
             "#bd3786"
            ],
            [
             0.5555555555555556,
             "#d8576b"
            ],
            [
             0.6666666666666666,
             "#ed7953"
            ],
            [
             0.7777777777777778,
             "#fb9f3a"
            ],
            [
             0.8888888888888888,
             "#fdca26"
            ],
            [
             1,
             "#f0f921"
            ]
           ],
           "sequentialminus": [
            [
             0,
             "#0d0887"
            ],
            [
             0.1111111111111111,
             "#46039f"
            ],
            [
             0.2222222222222222,
             "#7201a8"
            ],
            [
             0.3333333333333333,
             "#9c179e"
            ],
            [
             0.4444444444444444,
             "#bd3786"
            ],
            [
             0.5555555555555556,
             "#d8576b"
            ],
            [
             0.6666666666666666,
             "#ed7953"
            ],
            [
             0.7777777777777778,
             "#fb9f3a"
            ],
            [
             0.8888888888888888,
             "#fdca26"
            ],
            [
             1,
             "#f0f921"
            ]
           ]
          },
          "colorway": [
           "#636efa",
           "#EF553B",
           "#00cc96",
           "#ab63fa",
           "#FFA15A",
           "#19d3f3",
           "#FF6692",
           "#B6E880",
           "#FF97FF",
           "#FECB52"
          ],
          "font": {
           "color": "#2a3f5f"
          },
          "geo": {
           "bgcolor": "white",
           "lakecolor": "white",
           "landcolor": "#E5ECF6",
           "showlakes": true,
           "showland": true,
           "subunitcolor": "white"
          },
          "hoverlabel": {
           "align": "left"
          },
          "hovermode": "closest",
          "mapbox": {
           "style": "light"
          },
          "paper_bgcolor": "white",
          "plot_bgcolor": "#E5ECF6",
          "polar": {
           "angularaxis": {
            "gridcolor": "white",
            "linecolor": "white",
            "ticks": ""
           },
           "bgcolor": "#E5ECF6",
           "radialaxis": {
            "gridcolor": "white",
            "linecolor": "white",
            "ticks": ""
           }
          },
          "scene": {
           "xaxis": {
            "backgroundcolor": "#E5ECF6",
            "gridcolor": "white",
            "gridwidth": 2,
            "linecolor": "white",
            "showbackground": true,
            "ticks": "",
            "zerolinecolor": "white"
           },
           "yaxis": {
            "backgroundcolor": "#E5ECF6",
            "gridcolor": "white",
            "gridwidth": 2,
            "linecolor": "white",
            "showbackground": true,
            "ticks": "",
            "zerolinecolor": "white"
           },
           "zaxis": {
            "backgroundcolor": "#E5ECF6",
            "gridcolor": "white",
            "gridwidth": 2,
            "linecolor": "white",
            "showbackground": true,
            "ticks": "",
            "zerolinecolor": "white"
           }
          },
          "shapedefaults": {
           "line": {
            "color": "#2a3f5f"
           }
          },
          "ternary": {
           "aaxis": {
            "gridcolor": "white",
            "linecolor": "white",
            "ticks": ""
           },
           "baxis": {
            "gridcolor": "white",
            "linecolor": "white",
            "ticks": ""
           },
           "bgcolor": "#E5ECF6",
           "caxis": {
            "gridcolor": "white",
            "linecolor": "white",
            "ticks": ""
           }
          },
          "title": {
           "x": 0.05
          },
          "xaxis": {
           "automargin": true,
           "gridcolor": "white",
           "linecolor": "white",
           "ticks": "",
           "title": {
            "standoff": 15
           },
           "zerolinecolor": "white",
           "zerolinewidth": 2
          },
          "yaxis": {
           "automargin": true,
           "gridcolor": "white",
           "linecolor": "white",
           "ticks": "",
           "title": {
            "standoff": 15
           },
           "zerolinecolor": "white",
           "zerolinewidth": 2
          }
         }
        },
        "title": {
         "text": "Grid Starting Position Distribution - Max Verstappen vs. Carlos Sainz (2015)"
        },
        "width": 800,
        "xaxis": {
         "anchor": "y",
         "domain": [
          0,
          1
         ],
         "title": {
          "text": "Year"
         }
        },
        "yaxis": {
         "anchor": "x",
         "domain": [
          0,
          1
         ],
         "title": {
          "text": "Grid Starting Position"
         }
        }
       }
      }
     },
     "metadata": {},
     "output_type": "display_data"
    }
   ],
   "source": [
    "# Filter rows for Max Verstappen and Carlos Sainz in the year 2015\n",
    "selected_drivers = ['Max Verstappen', 'Carlos Sainz']\n",
    "filtered_2015_df = df[\n",
    "    (df['driver'].isin(selected_drivers)) &\n",
    "    (df['grid_starting_position'] != 0) &\n",
    "    (df['year'] == 2015)\n",
    "]\n",
    "\n",
    "# Create a box plot with Plotly\n",
    "fig = px.box(filtered_2015_df, x='year', y='grid_starting_position', color='driver',\n",
    "             title='Grid Starting Position Distribution - Max Verstappen vs. Carlos Sainz (2015)',\n",
    "             labels={'grid_starting_position': 'Grid Starting Position', 'year': 'Year'},\n",
    "             width=800, height=500,\n",
    "             color_discrete_map={'Max Verstappen': '#FFA500', 'Carlos Sainz': 'blue'})  # Use a darker orange color code\n",
    "fig.update_layout(showlegend=True)\n",
    "\n",
    "# Show the interactive chart\n",
    "fig.show()\n"
   ]
  },
  {
   "cell_type": "code",
   "execution_count": 28,
   "metadata": {},
   "outputs": [
    {
     "name": "stdout",
     "output_type": "stream",
     "text": [
      "Average Starting Position in 2015:\n"
     ]
    },
    {
     "data": {
      "text/plain": [
       "driver\n",
       "Carlos Sainz      11.32\n",
       "Max Verstappen    11.37\n",
       "Name: grid_starting_position, dtype: float64"
      ]
     },
     "execution_count": 28,
     "metadata": {},
     "output_type": "execute_result"
    }
   ],
   "source": [
    "\n",
    "# Filter the dataset for Max Verstappen and Carlos Sainz in the year 2015\n",
    "df_2015_max_carlos = df[(df['year'] == 2015) & (df['driver'].isin(['Max Verstappen', 'Carlos Sainz']))]\n",
    "\n",
    "# Calculate the average starting position for each driver\n",
    "average_starting_position = df_2015_max_carlos.groupby('driver')['grid_starting_position'].mean()\n",
    "\n",
    "# Print the results\n",
    "print(\"Average Starting Position in 2015:\")\n",
    "average_starting_position.round(2)"
   ]
  },
  {
   "cell_type": "code",
   "execution_count": 29,
   "metadata": {},
   "outputs": [
    {
     "name": "stdout",
     "output_type": "stream",
     "text": [
      "Crashes by Max Verstappen in 2015:\n",
      "               race_name       circuit_name    status\n",
      "22649  Monaco Grand Prix  Circuit de Monaco  Accident\n"
     ]
    }
   ],
   "source": [
    "# Filter the dataset for Max Verstappen in the year 2015\n",
    "verstappen_2015 = df[(df['year'] == 2015) & (df['driver'] == 'Max Verstappen')]\n",
    "\n",
    "# Filter rows where the status indicates \"accident\" or \"collision\"\n",
    "verstappen_crashes_2015 = verstappen_2015[verstappen_2015['status'].str.lower().isin(['accident', 'collision'])]\n",
    "\n",
    "# Display the relevant columns\n",
    "crash_info = verstappen_crashes_2015[['race_name', 'circuit_name', 'status']]\n",
    "print(\"Crashes by Max Verstappen in 2015:\")\n",
    "print(crash_info)\n"
   ]
  },
  {
   "cell_type": "code",
   "execution_count": 30,
   "metadata": {},
   "outputs": [
    {
     "name": "stdout",
     "output_type": "stream",
     "text": [
      "Non-Finishes by Max Verstappen in 2015:\n",
      "                   race_name                    circuit_name        status\n",
      "22546  Australian Grand Prix  Albert Park Grand Prix Circuit        Engine\n",
      "22588     Chinese Grand Prix  Shanghai International Circuit  Transmission\n",
      "22609     Bahrain Grand Prix   Bahrain International Circuit    Electrical\n",
      "22649      Monaco Grand Prix               Circuit de Monaco      Accident\n",
      "22707     British Grand Prix             Silverstone Circuit      Spun off\n"
     ]
    }
   ],
   "source": [
    "# Filter the dataset for Max Verstappen in the year 2015\n",
    "verstappen_2015 = df[(df['year'] == 2015) & (df['driver'] == 'Max Verstappen')]\n",
    "\n",
    "# Exclude rows where the status is \"finished\" or contains the word \"lap\"\n",
    "verstappen_non_finish_2015 = verstappen_2015[~(verstappen_2015['status'].str.lower() == 'finished') & ~(verstappen_2015['status'].str.lower().str.contains('lap'))]\n",
    "\n",
    "# Display the relevant columns\n",
    "non_finish_info = verstappen_non_finish_2015[['race_name', 'circuit_name', 'status']]\n",
    "print(\"Non-Finishes by Max Verstappen in 2015:\")\n",
    "print(non_finish_info)\n"
   ]
  },
  {
   "cell_type": "markdown",
   "metadata": {},
   "source": [
    "# 2016"
   ]
  },
  {
   "cell_type": "code",
   "execution_count": 31,
   "metadata": {},
   "outputs": [
    {
     "name": "stderr",
     "output_type": "stream",
     "text": [
      "/var/folders/d2/3zzrhgj50wgfhbl4f3nth0900000gn/T/ipykernel_2978/3191633390.py:5: SettingWithCopyWarning:\n",
      "\n",
      "\n",
      "A value is trying to be set on a copy of a slice from a DataFrame.\n",
      "Try using .loc[row_indexer,col_indexer] = value instead\n",
      "\n",
      "See the caveats in the documentation: https://pandas.pydata.org/pandas-docs/stable/user_guide/indexing.html#returning-a-view-versus-a-copy\n",
      "\n",
      "/var/folders/d2/3zzrhgj50wgfhbl4f3nth0900000gn/T/ipykernel_2978/3191633390.py:8: SettingWithCopyWarning:\n",
      "\n",
      "\n",
      "A value is trying to be set on a copy of a slice from a DataFrame.\n",
      "Try using .loc[row_indexer,col_indexer] = value instead\n",
      "\n",
      "See the caveats in the documentation: https://pandas.pydata.org/pandas-docs/stable/user_guide/indexing.html#returning-a-view-versus-a-copy\n",
      "\n"
     ]
    },
    {
     "data": {
      "application/vnd.plotly.v1+json": {
       "config": {
        "plotlyServerURL": "https://plot.ly"
       },
       "data": [
        {
         "hovertemplate": "Race Name=%{x}<br>Final Position=%{y}<extra></extra>",
         "legendgroup": "",
         "line": {
          "color": "orange",
          "dash": "solid",
          "shape": "linear"
         },
         "marker": {
          "symbol": "circle"
         },
         "mode": "lines",
         "name": "",
         "orientation": "v",
         "showlegend": false,
         "type": "scatter",
         "x": [
          "Australian Grand Prix",
          "Bahrain Grand Prix",
          "Chinese Grand Prix",
          "Russian Grand Prix",
          "Spanish Grand Prix",
          "Monaco Grand Prix",
          "Canadian Grand Prix",
          "European Grand Prix",
          "Austrian Grand Prix",
          "British Grand Prix",
          "Hungarian Grand Prix",
          "German Grand Prix",
          "Belgian Grand Prix",
          "Italian Grand Prix",
          "Singapore Grand Prix",
          "Malaysian Grand Prix",
          "Japanese Grand Prix",
          "United States Grand Prix",
          "Mexican Grand Prix",
          "Brazilian Grand Prix",
          "Abu Dhabi Grand Prix"
         ],
         "xaxis": "x",
         "y": [
          10,
          6,
          8,
          20,
          1,
          20,
          4,
          8,
          2,
          2,
          5,
          3,
          11,
          7,
          6,
          2,
          2,
          20,
          4,
          3,
          4
         ],
         "yaxis": "y"
        }
       ],
       "layout": {
        "font": {
         "color": "black"
        },
        "height": 600,
        "legend": {
         "title": {
          "text": "Driver"
         },
         "tracegroupgap": 0
        },
        "paper_bgcolor": "lightgrey",
        "plot_bgcolor": "lightgrey",
        "template": {
         "data": {
          "bar": [
           {
            "error_x": {
             "color": "#2a3f5f"
            },
            "error_y": {
             "color": "#2a3f5f"
            },
            "marker": {
             "line": {
              "color": "#E5ECF6",
              "width": 0.5
             },
             "pattern": {
              "fillmode": "overlay",
              "size": 10,
              "solidity": 0.2
             }
            },
            "type": "bar"
           }
          ],
          "barpolar": [
           {
            "marker": {
             "line": {
              "color": "#E5ECF6",
              "width": 0.5
             },
             "pattern": {
              "fillmode": "overlay",
              "size": 10,
              "solidity": 0.2
             }
            },
            "type": "barpolar"
           }
          ],
          "carpet": [
           {
            "aaxis": {
             "endlinecolor": "#2a3f5f",
             "gridcolor": "white",
             "linecolor": "white",
             "minorgridcolor": "white",
             "startlinecolor": "#2a3f5f"
            },
            "baxis": {
             "endlinecolor": "#2a3f5f",
             "gridcolor": "white",
             "linecolor": "white",
             "minorgridcolor": "white",
             "startlinecolor": "#2a3f5f"
            },
            "type": "carpet"
           }
          ],
          "choropleth": [
           {
            "colorbar": {
             "outlinewidth": 0,
             "ticks": ""
            },
            "type": "choropleth"
           }
          ],
          "contour": [
           {
            "colorbar": {
             "outlinewidth": 0,
             "ticks": ""
            },
            "colorscale": [
             [
              0,
              "#0d0887"
             ],
             [
              0.1111111111111111,
              "#46039f"
             ],
             [
              0.2222222222222222,
              "#7201a8"
             ],
             [
              0.3333333333333333,
              "#9c179e"
             ],
             [
              0.4444444444444444,
              "#bd3786"
             ],
             [
              0.5555555555555556,
              "#d8576b"
             ],
             [
              0.6666666666666666,
              "#ed7953"
             ],
             [
              0.7777777777777778,
              "#fb9f3a"
             ],
             [
              0.8888888888888888,
              "#fdca26"
             ],
             [
              1,
              "#f0f921"
             ]
            ],
            "type": "contour"
           }
          ],
          "contourcarpet": [
           {
            "colorbar": {
             "outlinewidth": 0,
             "ticks": ""
            },
            "type": "contourcarpet"
           }
          ],
          "heatmap": [
           {
            "colorbar": {
             "outlinewidth": 0,
             "ticks": ""
            },
            "colorscale": [
             [
              0,
              "#0d0887"
             ],
             [
              0.1111111111111111,
              "#46039f"
             ],
             [
              0.2222222222222222,
              "#7201a8"
             ],
             [
              0.3333333333333333,
              "#9c179e"
             ],
             [
              0.4444444444444444,
              "#bd3786"
             ],
             [
              0.5555555555555556,
              "#d8576b"
             ],
             [
              0.6666666666666666,
              "#ed7953"
             ],
             [
              0.7777777777777778,
              "#fb9f3a"
             ],
             [
              0.8888888888888888,
              "#fdca26"
             ],
             [
              1,
              "#f0f921"
             ]
            ],
            "type": "heatmap"
           }
          ],
          "heatmapgl": [
           {
            "colorbar": {
             "outlinewidth": 0,
             "ticks": ""
            },
            "colorscale": [
             [
              0,
              "#0d0887"
             ],
             [
              0.1111111111111111,
              "#46039f"
             ],
             [
              0.2222222222222222,
              "#7201a8"
             ],
             [
              0.3333333333333333,
              "#9c179e"
             ],
             [
              0.4444444444444444,
              "#bd3786"
             ],
             [
              0.5555555555555556,
              "#d8576b"
             ],
             [
              0.6666666666666666,
              "#ed7953"
             ],
             [
              0.7777777777777778,
              "#fb9f3a"
             ],
             [
              0.8888888888888888,
              "#fdca26"
             ],
             [
              1,
              "#f0f921"
             ]
            ],
            "type": "heatmapgl"
           }
          ],
          "histogram": [
           {
            "marker": {
             "pattern": {
              "fillmode": "overlay",
              "size": 10,
              "solidity": 0.2
             }
            },
            "type": "histogram"
           }
          ],
          "histogram2d": [
           {
            "colorbar": {
             "outlinewidth": 0,
             "ticks": ""
            },
            "colorscale": [
             [
              0,
              "#0d0887"
             ],
             [
              0.1111111111111111,
              "#46039f"
             ],
             [
              0.2222222222222222,
              "#7201a8"
             ],
             [
              0.3333333333333333,
              "#9c179e"
             ],
             [
              0.4444444444444444,
              "#bd3786"
             ],
             [
              0.5555555555555556,
              "#d8576b"
             ],
             [
              0.6666666666666666,
              "#ed7953"
             ],
             [
              0.7777777777777778,
              "#fb9f3a"
             ],
             [
              0.8888888888888888,
              "#fdca26"
             ],
             [
              1,
              "#f0f921"
             ]
            ],
            "type": "histogram2d"
           }
          ],
          "histogram2dcontour": [
           {
            "colorbar": {
             "outlinewidth": 0,
             "ticks": ""
            },
            "colorscale": [
             [
              0,
              "#0d0887"
             ],
             [
              0.1111111111111111,
              "#46039f"
             ],
             [
              0.2222222222222222,
              "#7201a8"
             ],
             [
              0.3333333333333333,
              "#9c179e"
             ],
             [
              0.4444444444444444,
              "#bd3786"
             ],
             [
              0.5555555555555556,
              "#d8576b"
             ],
             [
              0.6666666666666666,
              "#ed7953"
             ],
             [
              0.7777777777777778,
              "#fb9f3a"
             ],
             [
              0.8888888888888888,
              "#fdca26"
             ],
             [
              1,
              "#f0f921"
             ]
            ],
            "type": "histogram2dcontour"
           }
          ],
          "mesh3d": [
           {
            "colorbar": {
             "outlinewidth": 0,
             "ticks": ""
            },
            "type": "mesh3d"
           }
          ],
          "parcoords": [
           {
            "line": {
             "colorbar": {
              "outlinewidth": 0,
              "ticks": ""
             }
            },
            "type": "parcoords"
           }
          ],
          "pie": [
           {
            "automargin": true,
            "type": "pie"
           }
          ],
          "scatter": [
           {
            "fillpattern": {
             "fillmode": "overlay",
             "size": 10,
             "solidity": 0.2
            },
            "type": "scatter"
           }
          ],
          "scatter3d": [
           {
            "line": {
             "colorbar": {
              "outlinewidth": 0,
              "ticks": ""
             }
            },
            "marker": {
             "colorbar": {
              "outlinewidth": 0,
              "ticks": ""
             }
            },
            "type": "scatter3d"
           }
          ],
          "scattercarpet": [
           {
            "marker": {
             "colorbar": {
              "outlinewidth": 0,
              "ticks": ""
             }
            },
            "type": "scattercarpet"
           }
          ],
          "scattergeo": [
           {
            "marker": {
             "colorbar": {
              "outlinewidth": 0,
              "ticks": ""
             }
            },
            "type": "scattergeo"
           }
          ],
          "scattergl": [
           {
            "marker": {
             "colorbar": {
              "outlinewidth": 0,
              "ticks": ""
             }
            },
            "type": "scattergl"
           }
          ],
          "scattermapbox": [
           {
            "marker": {
             "colorbar": {
              "outlinewidth": 0,
              "ticks": ""
             }
            },
            "type": "scattermapbox"
           }
          ],
          "scatterpolar": [
           {
            "marker": {
             "colorbar": {
              "outlinewidth": 0,
              "ticks": ""
             }
            },
            "type": "scatterpolar"
           }
          ],
          "scatterpolargl": [
           {
            "marker": {
             "colorbar": {
              "outlinewidth": 0,
              "ticks": ""
             }
            },
            "type": "scatterpolargl"
           }
          ],
          "scatterternary": [
           {
            "marker": {
             "colorbar": {
              "outlinewidth": 0,
              "ticks": ""
             }
            },
            "type": "scatterternary"
           }
          ],
          "surface": [
           {
            "colorbar": {
             "outlinewidth": 0,
             "ticks": ""
            },
            "colorscale": [
             [
              0,
              "#0d0887"
             ],
             [
              0.1111111111111111,
              "#46039f"
             ],
             [
              0.2222222222222222,
              "#7201a8"
             ],
             [
              0.3333333333333333,
              "#9c179e"
             ],
             [
              0.4444444444444444,
              "#bd3786"
             ],
             [
              0.5555555555555556,
              "#d8576b"
             ],
             [
              0.6666666666666666,
              "#ed7953"
             ],
             [
              0.7777777777777778,
              "#fb9f3a"
             ],
             [
              0.8888888888888888,
              "#fdca26"
             ],
             [
              1,
              "#f0f921"
             ]
            ],
            "type": "surface"
           }
          ],
          "table": [
           {
            "cells": {
             "fill": {
              "color": "#EBF0F8"
             },
             "line": {
              "color": "white"
             }
            },
            "header": {
             "fill": {
              "color": "#C8D4E3"
             },
             "line": {
              "color": "white"
             }
            },
            "type": "table"
           }
          ]
         },
         "layout": {
          "annotationdefaults": {
           "arrowcolor": "#2a3f5f",
           "arrowhead": 0,
           "arrowwidth": 1
          },
          "autotypenumbers": "strict",
          "coloraxis": {
           "colorbar": {
            "outlinewidth": 0,
            "ticks": ""
           }
          },
          "colorscale": {
           "diverging": [
            [
             0,
             "#8e0152"
            ],
            [
             0.1,
             "#c51b7d"
            ],
            [
             0.2,
             "#de77ae"
            ],
            [
             0.3,
             "#f1b6da"
            ],
            [
             0.4,
             "#fde0ef"
            ],
            [
             0.5,
             "#f7f7f7"
            ],
            [
             0.6,
             "#e6f5d0"
            ],
            [
             0.7,
             "#b8e186"
            ],
            [
             0.8,
             "#7fbc41"
            ],
            [
             0.9,
             "#4d9221"
            ],
            [
             1,
             "#276419"
            ]
           ],
           "sequential": [
            [
             0,
             "#0d0887"
            ],
            [
             0.1111111111111111,
             "#46039f"
            ],
            [
             0.2222222222222222,
             "#7201a8"
            ],
            [
             0.3333333333333333,
             "#9c179e"
            ],
            [
             0.4444444444444444,
             "#bd3786"
            ],
            [
             0.5555555555555556,
             "#d8576b"
            ],
            [
             0.6666666666666666,
             "#ed7953"
            ],
            [
             0.7777777777777778,
             "#fb9f3a"
            ],
            [
             0.8888888888888888,
             "#fdca26"
            ],
            [
             1,
             "#f0f921"
            ]
           ],
           "sequentialminus": [
            [
             0,
             "#0d0887"
            ],
            [
             0.1111111111111111,
             "#46039f"
            ],
            [
             0.2222222222222222,
             "#7201a8"
            ],
            [
             0.3333333333333333,
             "#9c179e"
            ],
            [
             0.4444444444444444,
             "#bd3786"
            ],
            [
             0.5555555555555556,
             "#d8576b"
            ],
            [
             0.6666666666666666,
             "#ed7953"
            ],
            [
             0.7777777777777778,
             "#fb9f3a"
            ],
            [
             0.8888888888888888,
             "#fdca26"
            ],
            [
             1,
             "#f0f921"
            ]
           ]
          },
          "colorway": [
           "#636efa",
           "#EF553B",
           "#00cc96",
           "#ab63fa",
           "#FFA15A",
           "#19d3f3",
           "#FF6692",
           "#B6E880",
           "#FF97FF",
           "#FECB52"
          ],
          "font": {
           "color": "#2a3f5f"
          },
          "geo": {
           "bgcolor": "white",
           "lakecolor": "white",
           "landcolor": "#E5ECF6",
           "showlakes": true,
           "showland": true,
           "subunitcolor": "white"
          },
          "hoverlabel": {
           "align": "left"
          },
          "hovermode": "closest",
          "mapbox": {
           "style": "light"
          },
          "paper_bgcolor": "white",
          "plot_bgcolor": "#E5ECF6",
          "polar": {
           "angularaxis": {
            "gridcolor": "white",
            "linecolor": "white",
            "ticks": ""
           },
           "bgcolor": "#E5ECF6",
           "radialaxis": {
            "gridcolor": "white",
            "linecolor": "white",
            "ticks": ""
           }
          },
          "scene": {
           "xaxis": {
            "backgroundcolor": "#E5ECF6",
            "gridcolor": "white",
            "gridwidth": 2,
            "linecolor": "white",
            "showbackground": true,
            "ticks": "",
            "zerolinecolor": "white"
           },
           "yaxis": {
            "backgroundcolor": "#E5ECF6",
            "gridcolor": "white",
            "gridwidth": 2,
            "linecolor": "white",
            "showbackground": true,
            "ticks": "",
            "zerolinecolor": "white"
           },
           "zaxis": {
            "backgroundcolor": "#E5ECF6",
            "gridcolor": "white",
            "gridwidth": 2,
            "linecolor": "white",
            "showbackground": true,
            "ticks": "",
            "zerolinecolor": "white"
           }
          },
          "shapedefaults": {
           "line": {
            "color": "#2a3f5f"
           }
          },
          "ternary": {
           "aaxis": {
            "gridcolor": "white",
            "linecolor": "white",
            "ticks": ""
           },
           "baxis": {
            "gridcolor": "white",
            "linecolor": "white",
            "ticks": ""
           },
           "bgcolor": "#E5ECF6",
           "caxis": {
            "gridcolor": "white",
            "linecolor": "white",
            "ticks": ""
           }
          },
          "title": {
           "x": 0.05
          },
          "xaxis": {
           "automargin": true,
           "gridcolor": "white",
           "linecolor": "white",
           "ticks": "",
           "title": {
            "standoff": 15
           },
           "zerolinecolor": "white",
           "zerolinewidth": 2
          },
          "yaxis": {
           "automargin": true,
           "gridcolor": "white",
           "linecolor": "white",
           "ticks": "",
           "title": {
            "standoff": 15
           },
           "zerolinecolor": "white",
           "zerolinewidth": 2
          }
         }
        },
        "title": {
         "text": "Max Verstappen - Final Position Progression (2016)"
        },
        "width": 1200,
        "xaxis": {
         "anchor": "y",
         "domain": [
          0,
          1
         ],
         "showgrid": false,
         "tickangle": 45,
         "tickmode": "array",
         "ticktext": [
          "Australian Grand Prix",
          "Bahrain Grand Prix",
          "Chinese Grand Prix",
          "Russian Grand Prix",
          "Spanish Grand Prix",
          "Monaco Grand Prix",
          "Canadian Grand Prix",
          "European Grand Prix",
          "Austrian Grand Prix",
          "British Grand Prix",
          "Hungarian Grand Prix",
          "German Grand Prix",
          "Belgian Grand Prix",
          "Italian Grand Prix",
          "Singapore Grand Prix",
          "Malaysian Grand Prix",
          "Japanese Grand Prix",
          "United States Grand Prix",
          "Mexican Grand Prix",
          "Brazilian Grand Prix",
          "Abu Dhabi Grand Prix"
         ],
         "tickvals": [
          0,
          1,
          2,
          3,
          4,
          5,
          6,
          7,
          8,
          9,
          10,
          11,
          12,
          13,
          14,
          15,
          16,
          17,
          18,
          19,
          20
         ],
         "title": {
          "text": "Race Name"
         }
        },
        "yaxis": {
         "anchor": "x",
         "autorange": "reversed",
         "domain": [
          0,
          1
         ],
         "range": [
          1,
          21
         ],
         "showgrid": false,
         "title": {
          "text": "Final Position"
         }
        }
       }
      }
     },
     "metadata": {},
     "output_type": "display_data"
    }
   ],
   "source": [
    "\n",
    "\n",
    "# Filter the dataset for Max Verstappen in the year 2016 with Red Bull Racing constructor\n",
    "verstappen_2016_red_bull = df[(df['year'] == 2016) & (df['driver'] == 'Max Verstappen')]\n",
    "\n",
    "# Replace \"None\" values in the 'final_position' column with 20\n",
    "verstappen_2016_red_bull['final_position'] = verstappen_2016_red_bull['final_position'].fillna(20)\n",
    "\n",
    "# Convert the 'final_position' column to numeric\n",
    "verstappen_2016_red_bull['final_position'] = pd.to_numeric(verstappen_2016_red_bull['final_position'])\n",
    "\n",
    "# Create line chart with Plotly Express\n",
    "fig = px.line(verstappen_2016_red_bull, x='race_name', y='final_position',\n",
    "              title='Max Verstappen - Final Position Progression (2016)',\n",
    "              labels={'final_position': 'Final Position', 'race_name': 'Race Name'},\n",
    "              line_shape='linear',  # Use linear line shape\n",
    "              color_discrete_sequence=['orange'],  # Color for Max Verstappen\n",
    "              width=1200, height=600)\n",
    "\n",
    "# Customize layout\n",
    "fig.update_layout(legend_title_text='Driver', plot_bgcolor='lightgrey', paper_bgcolor='lightgrey', font=dict(color='black'),\n",
    "                  xaxis=dict(tickangle=45, tickmode='array', tickvals=list(range(len(verstappen_2016_red_bull['race_name'].unique()))),\n",
    "                             ticktext=verstappen_2016_red_bull['race_name'].unique(), showgrid=False),\n",
    "                  yaxis=dict(range=[1, max(verstappen_2016_red_bull['final_position']) + 1], autorange='reversed', showgrid=False))\n",
    "\n",
    "# Show the interactive chart\n",
    "fig.show()\n"
   ]
  },
  {
   "cell_type": "code",
   "execution_count": 32,
   "metadata": {},
   "outputs": [
    {
     "name": "stdout",
     "output_type": "stream",
     "text": [
      "Average Final Position for Verstappen in 2016 (excluding retirements): 4.89\n"
     ]
    },
    {
     "name": "stderr",
     "output_type": "stream",
     "text": [
      "/var/folders/d2/3zzrhgj50wgfhbl4f3nth0900000gn/T/ipykernel_2978/3464904381.py:8: SettingWithCopyWarning:\n",
      "\n",
      "\n",
      "A value is trying to be set on a copy of a slice from a DataFrame.\n",
      "Try using .loc[row_indexer,col_indexer] = value instead\n",
      "\n",
      "See the caveats in the documentation: https://pandas.pydata.org/pandas-docs/stable/user_guide/indexing.html#returning-a-view-versus-a-copy\n",
      "\n"
     ]
    }
   ],
   "source": [
    "# Filter the dataset for Max Verstappen in the year 2016 with Red Bull Racing constructor\n",
    "verstappen_2016_red_bull = df[(df['year'] == 2016) & (df['driver'] == 'Max Verstappen')]\n",
    "\n",
    "# Filter out rows with status indicating non-finish (excluding retirements)\n",
    "verstappen_2016_finished = verstappen_2016_red_bull[verstappen_2016_red_bull['status'].str.lower().isin(['finished', 'lap'])]\n",
    "\n",
    "# Convert 'final_position' to numeric, excluding non-numeric values\n",
    "verstappen_2016_finished['final_position'] = pd.to_numeric(verstappen_2016_finished['final_position'], errors='coerce')\n",
    "\n",
    "# Calculate the average final position\n",
    "average_final_position = verstappen_2016_finished['final_position'].mean()\n",
    "\n",
    "# Print the result\n",
    "print(\"Average Final Position for Verstappen in 2016 (excluding retirements):\", average_final_position.__round__(2))\n"
   ]
  },
  {
   "cell_type": "markdown",
   "metadata": {},
   "source": [
    "# 2017"
   ]
  },
  {
   "cell_type": "code",
   "execution_count": 33,
   "metadata": {},
   "outputs": [
    {
     "name": "stdout",
     "output_type": "stream",
     "text": [
      "Max Verstappen's total points in 2017: 168.0\n",
      "Daniel Ricciardo's total points in 2017: 200.0\n"
     ]
    }
   ],
   "source": [
    "# Filter rows for Max Verstappen and Daniel Ricciardo in the year 2017\n",
    "verstappen_2017 = df[(df['driver'] == 'Max Verstappen') & (df['year'] == 2017)]\n",
    "ricciardo_2017 = df[(df['driver'] == 'Daniel Ricciardo') & (df['year'] == 2017)]\n",
    "\n",
    "# Calculate total points for each driver\n",
    "total_points_verstappen_2017 = verstappen_2017['points'].sum()\n",
    "total_points_ricciardo_2017 = ricciardo_2017['points'].sum()\n",
    "\n",
    "# Print the results\n",
    "print(f\"Max Verstappen's total points in 2017: {total_points_verstappen_2017}\")\n",
    "print(f\"Daniel Ricciardo's total points in 2017: {total_points_ricciardo_2017}\")\n"
   ]
  },
  {
   "cell_type": "code",
   "execution_count": 34,
   "metadata": {},
   "outputs": [
    {
     "name": "stdout",
     "output_type": "stream",
     "text": [
      "Percentage of points for Max Verstappen in 2017: 45.65%\n",
      "Percentage of points for Daniel Ricciardo in 2017: 54.35%\n"
     ]
    }
   ],
   "source": [
    "# Calculate the total points for both drivers in 2017\n",
    "total_points_both_2017 = total_points_verstappen_2017 + total_points_ricciardo_2017\n",
    "\n",
    "# Calculate the percentage of points for each driver\n",
    "percentage_points_verstappen_2017 = (total_points_verstappen_2017 / total_points_both_2017) * 100\n",
    "percentage_points_ricciardo_2017 = (total_points_ricciardo_2017 / total_points_both_2017) * 100\n",
    "\n",
    "# Print the results\n",
    "print(f\"Percentage of points for Max Verstappen in 2017: {percentage_points_verstappen_2017:.2f}%\")\n",
    "print(f\"Percentage of points for Daniel Ricciardo in 2017: {percentage_points_ricciardo_2017:.2f}%\")\n"
   ]
  },
  {
   "cell_type": "markdown",
   "metadata": {},
   "source": [
    "# 2018"
   ]
  },
  {
   "cell_type": "code",
   "execution_count": 35,
   "metadata": {},
   "outputs": [
    {
     "name": "stdout",
     "output_type": "stream",
     "text": [
      "Max Verstappen's total points in 2018: 249.0\n",
      "Daniel Ricciardo's total points in 2018: 170.0\n"
     ]
    }
   ],
   "source": [
    "# Filter rows for Max Verstappen and Daniel Ricciardo in the year 2018\n",
    "verstappen_2018 = df[(df['driver'] == 'Max Verstappen') & (df['year'] == 2018)]\n",
    "ricciardo_2018 = df[(df['driver'] == 'Daniel Ricciardo') & (df['year'] == 2018)]\n",
    "\n",
    "# Calculate total points for each driver in 2018\n",
    "total_points_verstappen_2018 = verstappen_2018['points'].sum()\n",
    "total_points_ricciardo_2018 = ricciardo_2018['points'].sum()\n",
    "\n",
    "# Print the results for 2018\n",
    "print(f\"Max Verstappen's total points in 2018: {total_points_verstappen_2018}\")\n",
    "print(f\"Daniel Ricciardo's total points in 2018: {total_points_ricciardo_2018}\")\n"
   ]
  },
  {
   "cell_type": "code",
   "execution_count": 36,
   "metadata": {},
   "outputs": [
    {
     "name": "stdout",
     "output_type": "stream",
     "text": [
      "Percentage of points for Max Verstappen in 2018: 59.43%\n",
      "Percentage of points for Daniel Ricciardo in 2018: 40.57%\n"
     ]
    }
   ],
   "source": [
    "# Calculate the total points for both drivers in 2018\n",
    "total_points_both_2018 = total_points_verstappen_2018 + total_points_ricciardo_2018\n",
    "\n",
    "# Calculate the percentage of points for each driver in 2018\n",
    "percentage_points_verstappen_2018 = (total_points_verstappen_2018 / total_points_both_2018) * 100\n",
    "percentage_points_ricciardo_2018 = (total_points_ricciardo_2018 / total_points_both_2018) * 100\n",
    "\n",
    "# Print the results for 2018\n",
    "print(f\"Percentage of points for Max Verstappen in 2018: {percentage_points_verstappen_2018:.2f}%\")\n",
    "print(f\"Percentage of points for Daniel Ricciardo in 2018: {percentage_points_ricciardo_2018:.2f}%\")\n"
   ]
  },
  {
   "cell_type": "code",
   "execution_count": 37,
   "metadata": {},
   "outputs": [
    {
     "data": {
      "image/png": "[encoded data removed]",
      "text/plain": [
       "<Figure size 800x800 with 1 Axes>"
      ]
     },
     "metadata": {},
     "output_type": "display_data"
    },
    {
     "data": {
      "image/png": "[encoded data removed]",
      "text/plain": [
       "<Figure size 800x800 with 1 Axes>"
      ]
     },
     "metadata": {},
     "output_type": "display_data"
    }
   ],
   "source": [
    "# Filter rows for Max Verstappen and Daniel Ricciardo in the year 2017\n",
    "verstappen_2017 = df[(df['driver'] == 'Max Verstappen') & (df['year'] == 2017)]\n",
    "ricciardo_2017 = df[(df['driver'] == 'Daniel Ricciardo') & (df['year'] == 2017)]\n",
    "\n",
    "# Calculate total points for each driver in 2017\n",
    "total_points_verstappen_2017 = verstappen_2017['points'].sum()\n",
    "total_points_ricciardo_2017 = ricciardo_2017['points'].sum()\n",
    "\n",
    "# Calculate the percentage of points for each driver in 2017\n",
    "verstappen_percentage_2017 = (total_points_verstappen_2017 / (total_points_verstappen_2017 + total_points_ricciardo_2017)) * 100\n",
    "ricciardo_percentage_2017 = (total_points_ricciardo_2017 / (total_points_verstappen_2017 + total_points_ricciardo_2017)) * 100\n",
    "\n",
    "# Plot the pie chart for 2017\n",
    "labels_2017 = ['Max Verstappen', 'Daniel Ricciardo']\n",
    "sizes_2017 = [verstappen_percentage_2017, ricciardo_percentage_2017]\n",
    "colors_2017 = ['orange', 'blue']\n",
    "\n",
    "# Set the background color and font color\n",
    "fig, ax = plt.subplots(figsize=(8, 8), facecolor='grey')\n",
    "ax.pie(sizes_2017, labels=labels_2017, colors=colors_2017, autopct='%1.1f%%', startangle=90, textprops={'color': 'white'})\n",
    "ax.set_title('Percentage of Points for Red Bull Racing Drivers (2017)', color='white')\n",
    "\n",
    "plt.show()\n",
    "\n",
    "# Filter rows for Max Verstappen and Daniel Ricciardo in the year 2018\n",
    "verstappen_2018 = df[(df['driver'] == 'Max Verstappen') & (df['year'] == 2018)]\n",
    "ricciardo_2018 = df[(df['driver'] == 'Daniel Ricciardo') & (df['year'] == 2018)]\n",
    "\n",
    "# Calculate total points for each driver in 2018\n",
    "total_points_verstappen_2018 = verstappen_2018['points'].sum()\n",
    "total_points_ricciardo_2018 = ricciardo_2018['points'].sum()\n",
    "\n",
    "# Calculate the percentage of points for each driver in 2018\n",
    "verstappen_percentage_2018 = (total_points_verstappen_2018 / (total_points_verstappen_2018 + total_points_ricciardo_2018)) * 100\n",
    "ricciardo_percentage_2018 = (total_points_ricciardo_2018 / (total_points_verstappen_2018 + total_points_ricciardo_2018)) * 100\n",
    "\n",
    "# Plot the pie chart for 2018\n",
    "labels_2018 = ['Max Verstappen', 'Daniel Ricciardo']\n",
    "sizes_2018 = [verstappen_percentage_2018, ricciardo_percentage_2018]\n",
    "colors_2018 = ['orange', 'blue']\n",
    "\n",
    "# Set the background color and font color\n",
    "fig, ax = plt.subplots(figsize=(8, 8), facecolor='grey')\n",
    "ax.pie(sizes_2018, labels=labels_2018, colors=colors_2018, autopct='%1.1f%%', startangle=90, textprops={'color': 'white'})\n",
    "ax.set_title('Percentage of Points for Red Bull Racing Drivers (2018)', color='white')\n",
    "\n",
    "plt.show()\n"
   ]
  },
  {
   "cell_type": "markdown",
   "metadata": {},
   "source": [
    "# 2020 "
   ]
  },
  {
   "cell_type": "markdown",
   "metadata": {},
   "source": [
    "Albon\n"
   ]
  },
  {
   "cell_type": "code",
   "execution_count": 38,
   "metadata": {},
   "outputs": [
    {
     "data": {
      "image/png": "[encoded data removed]",
      "text/plain": [
       "<Figure size 800x800 with 1 Axes>"
      ]
     },
     "metadata": {},
     "output_type": "display_data"
    }
   ],
   "source": [
    "import pandas as pd\n",
    "import matplotlib.pyplot as plt\n",
    "\n",
    "# Assuming df is your DataFrame containing the racing data\n",
    "\n",
    "# Filter rows for Max Verstappen and Alexander Albon in the year 2020\n",
    "verstappen_2020 = df[(df['driver'] == 'Max Verstappen') & (df['year'] == 2020)]\n",
    "albon_2020 = df[(df['driver'] == 'Alexander Albon') & (df['year'] == 2020)]\n",
    "\n",
    "# Calculate total points for each driver in 2020\n",
    "total_points_verstappen_2020 = verstappen_2020['points'].sum()\n",
    "total_points_albon_2020 = albon_2020['points'].sum()\n",
    "\n",
    "# Calculate the percentage of points for each driver in 2020\n",
    "verstappen_percentage_2020 = (total_points_verstappen_2020 / (total_points_verstappen_2020 + total_points_albon_2020)) * 100\n",
    "albon_percentage_2020 = (total_points_albon_2020 / (total_points_verstappen_2020 + total_points_albon_2020)) * 100\n",
    "\n",
    "# Plot the pie chart for 2020\n",
    "labels_2020 = ['Max Verstappen', 'Alexander Albon']\n",
    "sizes_2020 = [verstappen_percentage_2020, albon_percentage_2020]\n",
    "colors_2020 = ['orange', 'blue']\n",
    "\n",
    "# Set the background color and font color\n",
    "fig, ax = plt.subplots(figsize=(8, 8), facecolor='grey')\n",
    "ax.pie(sizes_2020, labels=labels_2020, colors=colors_2020, autopct='%1.1f%%', startangle=90, textprops={'color': 'white'})\n",
    "ax.set_title('Percentage of Points for Red Bull Racing Drivers (2020)', color='white')\n",
    "\n",
    "plt.show()\n"
   ]
  },
  {
   "cell_type": "code",
   "execution_count": 39,
   "metadata": {},
   "outputs": [
    {
     "name": "stdout",
     "output_type": "stream",
     "text": [
      "Number of crashes for Max Verstappen in 2020: 1\n",
      "Number of crashes for Alexander Albon in 2020: 0\n"
     ]
    }
   ],
   "source": [
    "# Filter rows for Max Verstappen and Alexander Albon in the year 2020\n",
    "verstappen_2020 = df[(df['driver'] == 'Max Verstappen') & (df['year'] == 2020)]\n",
    "albon_2020 = df[(df['driver'] == 'Alexander Albon') & (df['year'] == 2020)]\n",
    "\n",
    "# Count the number of crashes for each driver in 2020\n",
    "crashes_verstappen_2020 = verstappen_2020[verstappen_2020['status'].str.contains('Crash|Collision')].shape[0]\n",
    "crashes_albon_2020 = albon_2020[albon_2020['status'].str.contains('Crash|Collision')].shape[0]\n",
    "\n",
    "# Print the results\n",
    "print(f\"Number of crashes for Max Verstappen in 2020: {crashes_verstappen_2020}\")\n",
    "print(f\"Number of crashes for Alexander Albon in 2020: {crashes_albon_2020}\")\n"
   ]
  },
  {
   "cell_type": "code",
   "execution_count": 40,
   "metadata": {},
   "outputs": [
    {
     "data": {
      "application/vnd.plotly.v1+json": {
       "config": {
        "plotlyServerURL": "https://plot.ly"
       },
       "data": [
        {
         "alignmentgroup": "True",
         "hovertemplate": "driver=Alexander Albon<br>Year=%{x}<br>Grid Starting Position=%{y}<extra></extra>",
         "legendgroup": "Alexander Albon",
         "marker": {
          "color": "blue"
         },
         "name": "Alexander Albon",
         "notched": false,
         "offsetgroup": "Alexander Albon",
         "orientation": "v",
         "showlegend": true,
         "type": "box",
         "x": [
          2020,
          2020,
          2020,
          2020,
          2020,
          2020,
          2020,
          2020,
          2020,
          2020,
          2020,
          2020,
          2020,
          2020,
          2020,
          2020,
          2020
         ],
         "x0": " ",
         "xaxis": "x",
         "y": [
          4,
          6,
          13,
          12,
          9,
          6,
          5,
          9,
          4,
          15,
          5,
          6,
          6,
          4,
          4,
          12,
          5
         ],
         "y0": " ",
         "yaxis": "y"
        },
        {
         "alignmentgroup": "True",
         "hovertemplate": "driver=Max Verstappen<br>Year=%{x}<br>Grid Starting Position=%{y}<extra></extra>",
         "legendgroup": "Max Verstappen",
         "marker": {
          "color": "#FFA500"
         },
         "name": "Max Verstappen",
         "notched": false,
         "offsetgroup": "Max Verstappen",
         "orientation": "v",
         "showlegend": true,
         "type": "box",
         "x": [
          2020,
          2020,
          2020,
          2020,
          2020,
          2020,
          2020,
          2020,
          2020,
          2020,
          2020,
          2020,
          2020,
          2020,
          2020,
          2020,
          2020
         ],
         "x0": " ",
         "xaxis": "x",
         "y": [
          2,
          2,
          7,
          3,
          4,
          3,
          3,
          5,
          3,
          2,
          3,
          3,
          3,
          2,
          3,
          3,
          1
         ],
         "y0": " ",
         "yaxis": "y"
        }
       ],
       "layout": {
        "boxmode": "group",
        "height": 500,
        "legend": {
         "title": {
          "text": "driver"
         },
         "tracegroupgap": 0
        },
        "showlegend": true,
        "template": {
         "data": {
          "bar": [
           {
            "error_x": {
             "color": "#2a3f5f"
            },
            "error_y": {
             "color": "#2a3f5f"
            },
            "marker": {
             "line": {
              "color": "#E5ECF6",
              "width": 0.5
             },
             "pattern": {
              "fillmode": "overlay",
              "size": 10,
              "solidity": 0.2
             }
            },
            "type": "bar"
           }
          ],
          "barpolar": [
           {
            "marker": {
             "line": {
              "color": "#E5ECF6",
              "width": 0.5
             },
             "pattern": {
              "fillmode": "overlay",
              "size": 10,
              "solidity": 0.2
             }
            },
            "type": "barpolar"
           }
          ],
          "carpet": [
           {
            "aaxis": {
             "endlinecolor": "#2a3f5f",
             "gridcolor": "white",
             "linecolor": "white",
             "minorgridcolor": "white",
             "startlinecolor": "#2a3f5f"
            },
            "baxis": {
             "endlinecolor": "#2a3f5f",
             "gridcolor": "white",
             "linecolor": "white",
             "minorgridcolor": "white",
             "startlinecolor": "#2a3f5f"
            },
            "type": "carpet"
           }
          ],
          "choropleth": [
           {
            "colorbar": {
             "outlinewidth": 0,
             "ticks": ""
            },
            "type": "choropleth"
           }
          ],
          "contour": [
           {
            "colorbar": {
             "outlinewidth": 0,
             "ticks": ""
            },
            "colorscale": [
             [
              0,
              "#0d0887"
             ],
             [
              0.1111111111111111,
              "#46039f"
             ],
             [
              0.2222222222222222,
              "#7201a8"
             ],
             [
              0.3333333333333333,
              "#9c179e"
             ],
             [
              0.4444444444444444,
              "#bd3786"
             ],
             [
              0.5555555555555556,
              "#d8576b"
             ],
             [
              0.6666666666666666,
              "#ed7953"
             ],
             [
              0.7777777777777778,
              "#fb9f3a"
             ],
             [
              0.8888888888888888,
              "#fdca26"
             ],
             [
              1,
              "#f0f921"
             ]
            ],
            "type": "contour"
           }
          ],
          "contourcarpet": [
           {
            "colorbar": {
             "outlinewidth": 0,
             "ticks": ""
            },
            "type": "contourcarpet"
           }
          ],
          "heatmap": [
           {
            "colorbar": {
             "outlinewidth": 0,
             "ticks": ""
            },
            "colorscale": [
             [
              0,
              "#0d0887"
             ],
             [
              0.1111111111111111,
              "#46039f"
             ],
             [
              0.2222222222222222,
              "#7201a8"
             ],
             [
              0.3333333333333333,
              "#9c179e"
             ],
             [
              0.4444444444444444,
              "#bd3786"
             ],
             [
              0.5555555555555556,
              "#d8576b"
             ],
             [
              0.6666666666666666,
              "#ed7953"
             ],
             [
              0.7777777777777778,
              "#fb9f3a"
             ],
             [
              0.8888888888888888,
              "#fdca26"
             ],
             [
              1,
              "#f0f921"
             ]
            ],
            "type": "heatmap"
           }
          ],
          "heatmapgl": [
           {
            "colorbar": {
             "outlinewidth": 0,
             "ticks": ""
            },
            "colorscale": [
             [
              0,
              "#0d0887"
             ],
             [
              0.1111111111111111,
              "#46039f"
             ],
             [
              0.2222222222222222,
              "#7201a8"
             ],
             [
              0.3333333333333333,
              "#9c179e"
             ],
             [
              0.4444444444444444,
              "#bd3786"
             ],
             [
              0.5555555555555556,
              "#d8576b"
             ],
             [
              0.6666666666666666,
              "#ed7953"
             ],
             [
              0.7777777777777778,
              "#fb9f3a"
             ],
             [
              0.8888888888888888,
              "#fdca26"
             ],
             [
              1,
              "#f0f921"
             ]
            ],
            "type": "heatmapgl"
           }
          ],
          "histogram": [
           {
            "marker": {
             "pattern": {
              "fillmode": "overlay",
              "size": 10,
              "solidity": 0.2
             }
            },
            "type": "histogram"
           }
          ],
          "histogram2d": [
           {
            "colorbar": {
             "outlinewidth": 0,
             "ticks": ""
            },
            "colorscale": [
             [
              0,
              "#0d0887"
             ],
             [
              0.1111111111111111,
              "#46039f"
             ],
             [
              0.2222222222222222,
              "#7201a8"
             ],
             [
              0.3333333333333333,
              "#9c179e"
             ],
             [
              0.4444444444444444,
              "#bd3786"
             ],
             [
              0.5555555555555556,
              "#d8576b"
             ],
             [
              0.6666666666666666,
              "#ed7953"
             ],
             [
              0.7777777777777778,
              "#fb9f3a"
             ],
             [
              0.8888888888888888,
              "#fdca26"
             ],
             [
              1,
              "#f0f921"
             ]
            ],
            "type": "histogram2d"
           }
          ],
          "histogram2dcontour": [
           {
            "colorbar": {
             "outlinewidth": 0,
             "ticks": ""
            },
            "colorscale": [
             [
              0,
              "#0d0887"
             ],
             [
              0.1111111111111111,
              "#46039f"
             ],
             [
              0.2222222222222222,
              "#7201a8"
             ],
             [
              0.3333333333333333,
              "#9c179e"
             ],
             [
              0.4444444444444444,
              "#bd3786"
             ],
             [
              0.5555555555555556,
              "#d8576b"
             ],
             [
              0.6666666666666666,
              "#ed7953"
             ],
             [
              0.7777777777777778,
              "#fb9f3a"
             ],
             [
              0.8888888888888888,
              "#fdca26"
             ],
             [
              1,
              "#f0f921"
             ]
            ],
            "type": "histogram2dcontour"
           }
          ],
          "mesh3d": [
           {
            "colorbar": {
             "outlinewidth": 0,
             "ticks": ""
            },
            "type": "mesh3d"
           }
          ],
          "parcoords": [
           {
            "line": {
             "colorbar": {
              "outlinewidth": 0,
              "ticks": ""
             }
            },
            "type": "parcoords"
           }
          ],
          "pie": [
           {
            "automargin": true,
            "type": "pie"
           }
          ],
          "scatter": [
           {
            "fillpattern": {
             "fillmode": "overlay",
             "size": 10,
             "solidity": 0.2
            },
            "type": "scatter"
           }
          ],
          "scatter3d": [
           {
            "line": {
             "colorbar": {
              "outlinewidth": 0,
              "ticks": ""
             }
            },
            "marker": {
             "colorbar": {
              "outlinewidth": 0,
              "ticks": ""
             }
            },
            "type": "scatter3d"
           }
          ],
          "scattercarpet": [
           {
            "marker": {
             "colorbar": {
              "outlinewidth": 0,
              "ticks": ""
             }
            },
            "type": "scattercarpet"
           }
          ],
          "scattergeo": [
           {
            "marker": {
             "colorbar": {
              "outlinewidth": 0,
              "ticks": ""
             }
            },
            "type": "scattergeo"
           }
          ],
          "scattergl": [
           {
            "marker": {
             "colorbar": {
              "outlinewidth": 0,
              "ticks": ""
             }
            },
            "type": "scattergl"
           }
          ],
          "scattermapbox": [
           {
            "marker": {
             "colorbar": {
              "outlinewidth": 0,
              "ticks": ""
             }
            },
            "type": "scattermapbox"
           }
          ],
          "scatterpolar": [
           {
            "marker": {
             "colorbar": {
              "outlinewidth": 0,
              "ticks": ""
             }
            },
            "type": "scatterpolar"
           }
          ],
          "scatterpolargl": [
           {
            "marker": {
             "colorbar": {
              "outlinewidth": 0,
              "ticks": ""
             }
            },
            "type": "scatterpolargl"
           }
          ],
          "scatterternary": [
           {
            "marker": {
             "colorbar": {
              "outlinewidth": 0,
              "ticks": ""
             }
            },
            "type": "scatterternary"
           }
          ],
          "surface": [
           {
            "colorbar": {
             "outlinewidth": 0,
             "ticks": ""
            },
            "colorscale": [
             [
              0,
              "#0d0887"
             ],
             [
              0.1111111111111111,
              "#46039f"
             ],
             [
              0.2222222222222222,
              "#7201a8"
             ],
             [
              0.3333333333333333,
              "#9c179e"
             ],
             [
              0.4444444444444444,
              "#bd3786"
             ],
             [
              0.5555555555555556,
              "#d8576b"
             ],
             [
              0.6666666666666666,
              "#ed7953"
             ],
             [
              0.7777777777777778,
              "#fb9f3a"
             ],
             [
              0.8888888888888888,
              "#fdca26"
             ],
             [
              1,
              "#f0f921"
             ]
            ],
            "type": "surface"
           }
          ],
          "table": [
           {
            "cells": {
             "fill": {
              "color": "#EBF0F8"
             },
             "line": {
              "color": "white"
             }
            },
            "header": {
             "fill": {
              "color": "#C8D4E3"
             },
             "line": {
              "color": "white"
             }
            },
            "type": "table"
           }
          ]
         },
         "layout": {
          "annotationdefaults": {
           "arrowcolor": "#2a3f5f",
           "arrowhead": 0,
           "arrowwidth": 1
          },
          "autotypenumbers": "strict",
          "coloraxis": {
           "colorbar": {
            "outlinewidth": 0,
            "ticks": ""
           }
          },
          "colorscale": {
           "diverging": [
            [
             0,
             "#8e0152"
            ],
            [
             0.1,
             "#c51b7d"
            ],
            [
             0.2,
             "#de77ae"
            ],
            [
             0.3,
             "#f1b6da"
            ],
            [
             0.4,
             "#fde0ef"
            ],
            [
             0.5,
             "#f7f7f7"
            ],
            [
             0.6,
             "#e6f5d0"
            ],
            [
             0.7,
             "#b8e186"
            ],
            [
             0.8,
             "#7fbc41"
            ],
            [
             0.9,
             "#4d9221"
            ],
            [
             1,
             "#276419"
            ]
           ],
           "sequential": [
            [
             0,
             "#0d0887"
            ],
            [
             0.1111111111111111,
             "#46039f"
            ],
            [
             0.2222222222222222,
             "#7201a8"
            ],
            [
             0.3333333333333333,
             "#9c179e"
            ],
            [
             0.4444444444444444,
             "#bd3786"
            ],
            [
             0.5555555555555556,
             "#d8576b"
            ],
            [
             0.6666666666666666,
             "#ed7953"
            ],
            [
             0.7777777777777778,
             "#fb9f3a"
            ],
            [
             0.8888888888888888,
             "#fdca26"
            ],
            [
             1,
             "#f0f921"
            ]
           ],
           "sequentialminus": [
            [
             0,
             "#0d0887"
            ],
            [
             0.1111111111111111,
             "#46039f"
            ],
            [
             0.2222222222222222,
             "#7201a8"
            ],
            [
             0.3333333333333333,
             "#9c179e"
            ],
            [
             0.4444444444444444,
             "#bd3786"
            ],
            [
             0.5555555555555556,
             "#d8576b"
            ],
            [
             0.6666666666666666,
             "#ed7953"
            ],
            [
             0.7777777777777778,
             "#fb9f3a"
            ],
            [
             0.8888888888888888,
             "#fdca26"
            ],
            [
             1,
             "#f0f921"
            ]
           ]
          },
          "colorway": [
           "#636efa",
           "#EF553B",
           "#00cc96",
           "#ab63fa",
           "#FFA15A",
           "#19d3f3",
           "#FF6692",
           "#B6E880",
           "#FF97FF",
           "#FECB52"
          ],
          "font": {
           "color": "#2a3f5f"
          },
          "geo": {
           "bgcolor": "white",
           "lakecolor": "white",
           "landcolor": "#E5ECF6",
           "showlakes": true,
           "showland": true,
           "subunitcolor": "white"
          },
          "hoverlabel": {
           "align": "left"
          },
          "hovermode": "closest",
          "mapbox": {
           "style": "light"
          },
          "paper_bgcolor": "white",
          "plot_bgcolor": "#E5ECF6",
          "polar": {
           "angularaxis": {
            "gridcolor": "white",
            "linecolor": "white",
            "ticks": ""
           },
           "bgcolor": "#E5ECF6",
           "radialaxis": {
            "gridcolor": "white",
            "linecolor": "white",
            "ticks": ""
           }
          },
          "scene": {
           "xaxis": {
            "backgroundcolor": "#E5ECF6",
            "gridcolor": "white",
            "gridwidth": 2,
            "linecolor": "white",
            "showbackground": true,
            "ticks": "",
            "zerolinecolor": "white"
           },
           "yaxis": {
            "backgroundcolor": "#E5ECF6",
            "gridcolor": "white",
            "gridwidth": 2,
            "linecolor": "white",
            "showbackground": true,
            "ticks": "",
            "zerolinecolor": "white"
           },
           "zaxis": {
            "backgroundcolor": "#E5ECF6",
            "gridcolor": "white",
            "gridwidth": 2,
            "linecolor": "white",
            "showbackground": true,
            "ticks": "",
            "zerolinecolor": "white"
           }
          },
          "shapedefaults": {
           "line": {
            "color": "#2a3f5f"
           }
          },
          "ternary": {
           "aaxis": {
            "gridcolor": "white",
            "linecolor": "white",
            "ticks": ""
           },
           "baxis": {
            "gridcolor": "white",
            "linecolor": "white",
            "ticks": ""
           },
           "bgcolor": "#E5ECF6",
           "caxis": {
            "gridcolor": "white",
            "linecolor": "white",
            "ticks": ""
           }
          },
          "title": {
           "x": 0.05
          },
          "xaxis": {
           "automargin": true,
           "gridcolor": "white",
           "linecolor": "white",
           "ticks": "",
           "title": {
            "standoff": 15
           },
           "zerolinecolor": "white",
           "zerolinewidth": 2
          },
          "yaxis": {
           "automargin": true,
           "gridcolor": "white",
           "linecolor": "white",
           "ticks": "",
           "title": {
            "standoff": 15
           },
           "zerolinecolor": "white",
           "zerolinewidth": 2
          }
         }
        },
        "title": {
         "text": "Grid Starting Position Distribution - Max Verstappen vs. Alexander Albon (2020)"
        },
        "width": 800,
        "xaxis": {
         "anchor": "y",
         "domain": [
          0,
          1
         ],
         "title": {
          "text": "Year"
         }
        },
        "yaxis": {
         "anchor": "x",
         "domain": [
          0,
          1
         ],
         "title": {
          "text": "Grid Starting Position"
         }
        }
       }
      }
     },
     "metadata": {},
     "output_type": "display_data"
    }
   ],
   "source": [
    "import pandas as pd\n",
    "import plotly.express as px\n",
    "\n",
    "# Assuming df is your DataFrame containing the racing data\n",
    "\n",
    "# Filter rows for Max Verstappen and Alexander Albon in the year 2020\n",
    "selected_drivers = ['Max Verstappen', 'Alexander Albon']\n",
    "filtered_2020_df = df[\n",
    "    (df['driver'].isin(selected_drivers)) &\n",
    "    (df['grid_starting_position'] != 0) &\n",
    "    (df['year'] == 2020)\n",
    "]\n",
    "\n",
    "# Create a box plot with Plotly\n",
    "fig = px.box(filtered_2020_df, x='year', y='grid_starting_position', color='driver',\n",
    "             title='Grid Starting Position Distribution - Max Verstappen vs. Alexander Albon (2020)',\n",
    "             labels={'grid_starting_position': 'Grid Starting Position', 'year': 'Year'},\n",
    "             width=800, height=500,\n",
    "             color_discrete_map={'Max Verstappen': '#FFA500', 'Alexander Albon': 'blue'})  # Use a darker orange color code\n",
    "fig.update_layout(showlegend=True)\n",
    "\n",
    "# Show the interactive chart\n",
    "fig.show()\n"
   ]
  },
  {
   "cell_type": "markdown",
   "metadata": {},
   "source": [
    "# 2021 - 2023 (2021 Perez helped max winning WDC, so no point on comparing)"
   ]
  },
  {
   "cell_type": "code",
   "execution_count": 41,
   "metadata": {},
   "outputs": [
    {
     "data": {
      "application/vnd.plotly.v1+json": {
       "config": {
        "plotlyServerURL": "https://plot.ly"
       },
       "data": [
        {
         "alignmentgroup": "True",
         "hovertemplate": "driver=Max Verstappen<br>Year=%{x}<br>Grid Starting Position=%{y}<extra></extra>",
         "legendgroup": "Max Verstappen",
         "marker": {
          "color": "#636efa"
         },
         "name": "Max Verstappen",
         "notched": false,
         "offsetgroup": "Max Verstappen",
         "orientation": "v",
         "showlegend": true,
         "type": "box",
         "x": [
          2021,
          2021,
          2021,
          2021,
          2021,
          2021,
          2021,
          2021,
          2021,
          2021,
          2021,
          2021,
          2021,
          2021,
          2021,
          2021,
          2021,
          2021,
          2021,
          2021,
          2021,
          2021,
          2022,
          2022,
          2022,
          2022,
          2022,
          2022,
          2022,
          2022,
          2022,
          2022,
          2022,
          2022,
          2022,
          2022,
          2022,
          2022,
          2022,
          2022,
          2022,
          2022,
          2022,
          2022,
          2023,
          2023,
          2023,
          2023,
          2023,
          2023,
          2023,
          2023,
          2023,
          2023,
          2023,
          2023
         ],
         "x0": " ",
         "xaxis": "x",
         "y": [
          1,
          3,
          3,
          2,
          2,
          3,
          1,
          1,
          1,
          1,
          3,
          1,
          1,
          1,
          20,
          2,
          1,
          3,
          2,
          7,
          3,
          1,
          2,
          4,
          2,
          1,
          3,
          2,
          4,
          3,
          1,
          2,
          1,
          2,
          10,
          14,
          1,
          7,
          8,
          1,
          2,
          1,
          3,
          1,
          1,
          15,
          1,
          2,
          9,
          1,
          1,
          1,
          1,
          1,
          2,
          6
         ],
         "y0": " ",
         "yaxis": "y"
        },
        {
         "alignmentgroup": "True",
         "hovertemplate": "driver=Sergio Pérez<br>Year=%{x}<br>Grid Starting Position=%{y}<extra></extra>",
         "legendgroup": "Sergio Pérez",
         "marker": {
          "color": "#EF553B"
         },
         "name": "Sergio Pérez",
         "notched": false,
         "offsetgroup": "Sergio Pérez",
         "orientation": "v",
         "showlegend": true,
         "type": "box",
         "x": [
          2021,
          2021,
          2021,
          2021,
          2021,
          2021,
          2021,
          2021,
          2021,
          2021,
          2021,
          2021,
          2021,
          2021,
          2021,
          2021,
          2021,
          2021,
          2022,
          2022,
          2022,
          2022,
          2022,
          2022,
          2022,
          2022,
          2022,
          2022,
          2022,
          2022,
          2022,
          2022,
          2022,
          2022,
          2022,
          2022,
          2022,
          2022,
          2022,
          2022,
          2023,
          2023,
          2023,
          2023,
          2023,
          2023,
          2023,
          2023,
          2023,
          2023,
          2023
         ],
         "x0": " ",
         "xaxis": "x",
         "y": [
          2,
          4,
          8,
          9,
          6,
          4,
          4,
          3,
          4,
          8,
          8,
          6,
          3,
          4,
          4,
          11,
          5,
          4,
          4,
          1,
          3,
          3,
          4,
          5,
          3,
          2,
          13,
          4,
          5,
          3,
          11,
          2,
          5,
          13,
          2,
          4,
          9,
          4,
          4,
          2,
          2,
          1,
          3,
          1,
          20,
          11,
          12,
          15,
          15,
          9,
          2
         ],
         "y0": " ",
         "yaxis": "y"
        }
       ],
       "layout": {
        "boxmode": "group",
        "height": 500,
        "legend": {
         "title": {
          "text": "driver"
         },
         "tracegroupgap": 0
        },
        "showlegend": true,
        "template": {
         "data": {
          "bar": [
           {
            "error_x": {
             "color": "#2a3f5f"
            },
            "error_y": {
             "color": "#2a3f5f"
            },
            "marker": {
             "line": {
              "color": "#E5ECF6",
              "width": 0.5
             },
             "pattern": {
              "fillmode": "overlay",
              "size": 10,
              "solidity": 0.2
             }
            },
            "type": "bar"
           }
          ],
          "barpolar": [
           {
            "marker": {
             "line": {
              "color": "#E5ECF6",
              "width": 0.5
             },
             "pattern": {
              "fillmode": "overlay",
              "size": 10,
              "solidity": 0.2
             }
            },
            "type": "barpolar"
           }
          ],
          "carpet": [
           {
            "aaxis": {
             "endlinecolor": "#2a3f5f",
             "gridcolor": "white",
             "linecolor": "white",
             "minorgridcolor": "white",
             "startlinecolor": "#2a3f5f"
            },
            "baxis": {
             "endlinecolor": "#2a3f5f",
             "gridcolor": "white",
             "linecolor": "white",
             "minorgridcolor": "white",
             "startlinecolor": "#2a3f5f"
            },
            "type": "carpet"
           }
          ],
          "choropleth": [
           {
            "colorbar": {
             "outlinewidth": 0,
             "ticks": ""
            },
            "type": "choropleth"
           }
          ],
          "contour": [
           {
            "colorbar": {
             "outlinewidth": 0,
             "ticks": ""
            },
            "colorscale": [
             [
              0,
              "#0d0887"
             ],
             [
              0.1111111111111111,
              "#46039f"
             ],
             [
              0.2222222222222222,
              "#7201a8"
             ],
             [
              0.3333333333333333,
              "#9c179e"
             ],
             [
              0.4444444444444444,
              "#bd3786"
             ],
             [
              0.5555555555555556,
              "#d8576b"
             ],
             [
              0.6666666666666666,
              "#ed7953"
             ],
             [
              0.7777777777777778,
              "#fb9f3a"
             ],
             [
              0.8888888888888888,
              "#fdca26"
             ],
             [
              1,
              "#f0f921"
             ]
            ],
            "type": "contour"
           }
          ],
          "contourcarpet": [
           {
            "colorbar": {
             "outlinewidth": 0,
             "ticks": ""
            },
            "type": "contourcarpet"
           }
          ],
          "heatmap": [
           {
            "colorbar": {
             "outlinewidth": 0,
             "ticks": ""
            },
            "colorscale": [
             [
              0,
              "#0d0887"
             ],
             [
              0.1111111111111111,
              "#46039f"
             ],
             [
              0.2222222222222222,
              "#7201a8"
             ],
             [
              0.3333333333333333,
              "#9c179e"
             ],
             [
              0.4444444444444444,
              "#bd3786"
             ],
             [
              0.5555555555555556,
              "#d8576b"
             ],
             [
              0.6666666666666666,
              "#ed7953"
             ],
             [
              0.7777777777777778,
              "#fb9f3a"
             ],
             [
              0.8888888888888888,
              "#fdca26"
             ],
             [
              1,
              "#f0f921"
             ]
            ],
            "type": "heatmap"
           }
          ],
          "heatmapgl": [
           {
            "colorbar": {
             "outlinewidth": 0,
             "ticks": ""
            },
            "colorscale": [
             [
              0,
              "#0d0887"
             ],
             [
              0.1111111111111111,
              "#46039f"
             ],
             [
              0.2222222222222222,
              "#7201a8"
             ],
             [
              0.3333333333333333,
              "#9c179e"
             ],
             [
              0.4444444444444444,
              "#bd3786"
             ],
             [
              0.5555555555555556,
              "#d8576b"
             ],
             [
              0.6666666666666666,
              "#ed7953"
             ],
             [
              0.7777777777777778,
              "#fb9f3a"
             ],
             [
              0.8888888888888888,
              "#fdca26"
             ],
             [
              1,
              "#f0f921"
             ]
            ],
            "type": "heatmapgl"
           }
          ],
          "histogram": [
           {
            "marker": {
             "pattern": {
              "fillmode": "overlay",
              "size": 10,
              "solidity": 0.2
             }
            },
            "type": "histogram"
           }
          ],
          "histogram2d": [
           {
            "colorbar": {
             "outlinewidth": 0,
             "ticks": ""
            },
            "colorscale": [
             [
              0,
              "#0d0887"
             ],
             [
              0.1111111111111111,
              "#46039f"
             ],
             [
              0.2222222222222222,
              "#7201a8"
             ],
             [
              0.3333333333333333,
              "#9c179e"
             ],
             [
              0.4444444444444444,
              "#bd3786"
             ],
             [
              0.5555555555555556,
              "#d8576b"
             ],
             [
              0.6666666666666666,
              "#ed7953"
             ],
             [
              0.7777777777777778,
              "#fb9f3a"
             ],
             [
              0.8888888888888888,
              "#fdca26"
             ],
             [
              1,
              "#f0f921"
             ]
            ],
            "type": "histogram2d"
           }
          ],
          "histogram2dcontour": [
           {
            "colorbar": {
             "outlinewidth": 0,
             "ticks": ""
            },
            "colorscale": [
             [
              0,
              "#0d0887"
             ],
             [
              0.1111111111111111,
              "#46039f"
             ],
             [
              0.2222222222222222,
              "#7201a8"
             ],
             [
              0.3333333333333333,
              "#9c179e"
             ],
             [
              0.4444444444444444,
              "#bd3786"
             ],
             [
              0.5555555555555556,
              "#d8576b"
             ],
             [
              0.6666666666666666,
              "#ed7953"
             ],
             [
              0.7777777777777778,
              "#fb9f3a"
             ],
             [
              0.8888888888888888,
              "#fdca26"
             ],
             [
              1,
              "#f0f921"
             ]
            ],
            "type": "histogram2dcontour"
           }
          ],
          "mesh3d": [
           {
            "colorbar": {
             "outlinewidth": 0,
             "ticks": ""
            },
            "type": "mesh3d"
           }
          ],
          "parcoords": [
           {
            "line": {
             "colorbar": {
              "outlinewidth": 0,
              "ticks": ""
             }
            },
            "type": "parcoords"
           }
          ],
          "pie": [
           {
            "automargin": true,
            "type": "pie"
           }
          ],
          "scatter": [
           {
            "fillpattern": {
             "fillmode": "overlay",
             "size": 10,
             "solidity": 0.2
            },
            "type": "scatter"
           }
          ],
          "scatter3d": [
           {
            "line": {
             "colorbar": {
              "outlinewidth": 0,
              "ticks": ""
             }
            },
            "marker": {
             "colorbar": {
              "outlinewidth": 0,
              "ticks": ""
             }
            },
            "type": "scatter3d"
           }
          ],
          "scattercarpet": [
           {
            "marker": {
             "colorbar": {
              "outlinewidth": 0,
              "ticks": ""
             }
            },
            "type": "scattercarpet"
           }
          ],
          "scattergeo": [
           {
            "marker": {
             "colorbar": {
              "outlinewidth": 0,
              "ticks": ""
             }
            },
            "type": "scattergeo"
           }
          ],
          "scattergl": [
           {
            "marker": {
             "colorbar": {
              "outlinewidth": 0,
              "ticks": ""
             }
            },
            "type": "scattergl"
           }
          ],
          "scattermapbox": [
           {
            "marker": {
             "colorbar": {
              "outlinewidth": 0,
              "ticks": ""
             }
            },
            "type": "scattermapbox"
           }
          ],
          "scatterpolar": [
           {
            "marker": {
             "colorbar": {
              "outlinewidth": 0,
              "ticks": ""
             }
            },
            "type": "scatterpolar"
           }
          ],
          "scatterpolargl": [
           {
            "marker": {
             "colorbar": {
              "outlinewidth": 0,
              "ticks": ""
             }
            },
            "type": "scatterpolargl"
           }
          ],
          "scatterternary": [
           {
            "marker": {
             "colorbar": {
              "outlinewidth": 0,
              "ticks": ""
             }
            },
            "type": "scatterternary"
           }
          ],
          "surface": [
           {
            "colorbar": {
             "outlinewidth": 0,
             "ticks": ""
            },
            "colorscale": [
             [
              0,
              "#0d0887"
             ],
             [
              0.1111111111111111,
              "#46039f"
             ],
             [
              0.2222222222222222,
              "#7201a8"
             ],
             [
              0.3333333333333333,
              "#9c179e"
             ],
             [
              0.4444444444444444,
              "#bd3786"
             ],
             [
              0.5555555555555556,
              "#d8576b"
             ],
             [
              0.6666666666666666,
              "#ed7953"
             ],
             [
              0.7777777777777778,
              "#fb9f3a"
             ],
             [
              0.8888888888888888,
              "#fdca26"
             ],
             [
              1,
              "#f0f921"
             ]
            ],
            "type": "surface"
           }
          ],
          "table": [
           {
            "cells": {
             "fill": {
              "color": "#EBF0F8"
             },
             "line": {
              "color": "white"
             }
            },
            "header": {
             "fill": {
              "color": "#C8D4E3"
             },
             "line": {
              "color": "white"
             }
            },
            "type": "table"
           }
          ]
         },
         "layout": {
          "annotationdefaults": {
           "arrowcolor": "#2a3f5f",
           "arrowhead": 0,
           "arrowwidth": 1
          },
          "autotypenumbers": "strict",
          "coloraxis": {
           "colorbar": {
            "outlinewidth": 0,
            "ticks": ""
           }
          },
          "colorscale": {
           "diverging": [
            [
             0,
             "#8e0152"
            ],
            [
             0.1,
             "#c51b7d"
            ],
            [
             0.2,
             "#de77ae"
            ],
            [
             0.3,
             "#f1b6da"
            ],
            [
             0.4,
             "#fde0ef"
            ],
            [
             0.5,
             "#f7f7f7"
            ],
            [
             0.6,
             "#e6f5d0"
            ],
            [
             0.7,
             "#b8e186"
            ],
            [
             0.8,
             "#7fbc41"
            ],
            [
             0.9,
             "#4d9221"
            ],
            [
             1,
             "#276419"
            ]
           ],
           "sequential": [
            [
             0,
             "#0d0887"
            ],
            [
             0.1111111111111111,
             "#46039f"
            ],
            [
             0.2222222222222222,
             "#7201a8"
            ],
            [
             0.3333333333333333,
             "#9c179e"
            ],
            [
             0.4444444444444444,
             "#bd3786"
            ],
            [
             0.5555555555555556,
             "#d8576b"
            ],
            [
             0.6666666666666666,
             "#ed7953"
            ],
            [
             0.7777777777777778,
             "#fb9f3a"
            ],
            [
             0.8888888888888888,
             "#fdca26"
            ],
            [
             1,
             "#f0f921"
            ]
           ],
           "sequentialminus": [
            [
             0,
             "#0d0887"
            ],
            [
             0.1111111111111111,
             "#46039f"
            ],
            [
             0.2222222222222222,
             "#7201a8"
            ],
            [
             0.3333333333333333,
             "#9c179e"
            ],
            [
             0.4444444444444444,
             "#bd3786"
            ],
            [
             0.5555555555555556,
             "#d8576b"
            ],
            [
             0.6666666666666666,
             "#ed7953"
            ],
            [
             0.7777777777777778,
             "#fb9f3a"
            ],
            [
             0.8888888888888888,
             "#fdca26"
            ],
            [
             1,
             "#f0f921"
            ]
           ]
          },
          "colorway": [
           "#636efa",
           "#EF553B",
           "#00cc96",
           "#ab63fa",
           "#FFA15A",
           "#19d3f3",
           "#FF6692",
           "#B6E880",
           "#FF97FF",
           "#FECB52"
          ],
          "font": {
           "color": "#2a3f5f"
          },
          "geo": {
           "bgcolor": "white",
           "lakecolor": "white",
           "landcolor": "#E5ECF6",
           "showlakes": true,
           "showland": true,
           "subunitcolor": "white"
          },
          "hoverlabel": {
           "align": "left"
          },
          "hovermode": "closest",
          "mapbox": {
           "style": "light"
          },
          "paper_bgcolor": "white",
          "plot_bgcolor": "#E5ECF6",
          "polar": {
           "angularaxis": {
            "gridcolor": "white",
            "linecolor": "white",
            "ticks": ""
           },
           "bgcolor": "#E5ECF6",
           "radialaxis": {
            "gridcolor": "white",
            "linecolor": "white",
            "ticks": ""
           }
          },
          "scene": {
           "xaxis": {
            "backgroundcolor": "#E5ECF6",
            "gridcolor": "white",
            "gridwidth": 2,
            "linecolor": "white",
            "showbackground": true,
            "ticks": "",
            "zerolinecolor": "white"
           },
           "yaxis": {
            "backgroundcolor": "#E5ECF6",
            "gridcolor": "white",
            "gridwidth": 2,
            "linecolor": "white",
            "showbackground": true,
            "ticks": "",
            "zerolinecolor": "white"
           },
           "zaxis": {
            "backgroundcolor": "#E5ECF6",
            "gridcolor": "white",
            "gridwidth": 2,
            "linecolor": "white",
            "showbackground": true,
            "ticks": "",
            "zerolinecolor": "white"
           }
          },
          "shapedefaults": {
           "line": {
            "color": "#2a3f5f"
           }
          },
          "ternary": {
           "aaxis": {
            "gridcolor": "white",
            "linecolor": "white",
            "ticks": ""
           },
           "baxis": {
            "gridcolor": "white",
            "linecolor": "white",
            "ticks": ""
           },
           "bgcolor": "#E5ECF6",
           "caxis": {
            "gridcolor": "white",
            "linecolor": "white",
            "ticks": ""
           }
          },
          "title": {
           "x": 0.05
          },
          "xaxis": {
           "automargin": true,
           "gridcolor": "white",
           "linecolor": "white",
           "ticks": "",
           "title": {
            "standoff": 15
           },
           "zerolinecolor": "white",
           "zerolinewidth": 2
          },
          "yaxis": {
           "automargin": true,
           "gridcolor": "white",
           "linecolor": "white",
           "ticks": "",
           "title": {
            "standoff": 15
           },
           "zerolinecolor": "white",
           "zerolinewidth": 2
          }
         }
        },
        "title": {
         "text": "Grid Starting Position Distribution - Max Verstappen vs. Sergio Pérez (2021-2023)"
        },
        "width": 800,
        "xaxis": {
         "anchor": "y",
         "domain": [
          0,
          1
         ],
         "title": {
          "text": "Year"
         }
        },
        "yaxis": {
         "anchor": "x",
         "domain": [
          0,
          1
         ],
         "title": {
          "text": "Grid Starting Position"
         }
        }
       }
      }
     },
     "metadata": {},
     "output_type": "display_data"
    }
   ],
   "source": [
    "import plotly.express as px\n",
    "\n",
    "# Assuming you have a CSV file named 'your_dataset.csv' containing the necessary data\n",
    "file_path = 'f1_data.csv'\n",
    "red_bull_df = pd.read_csv(file_path)\n",
    "\n",
    "# Filter rows for Max Verstappen and Sergio Perez in the years 2021-2023\n",
    "selected_drivers = ['Max Verstappen', 'Sergio Pérez']\n",
    "filtered_red_bull_df = red_bull_df[\n",
    "    (red_bull_df['driver'].isin(selected_drivers)) &\n",
    "    (red_bull_df['grid_starting_position'] != 0) &\n",
    "    (red_bull_df['year'].between(2021, 2023))\n",
    "]\n",
    "\n",
    "# Create a box plot with Plotly\n",
    "fig = px.box(filtered_red_bull_df, x='year', y='grid_starting_position', color='driver',\n",
    "             title='Grid Starting Position Distribution - Max Verstappen vs. Sergio Pérez (2021-2023)',\n",
    "             labels={'grid_starting_position': 'Grid Starting Position', 'year': 'Year'},\n",
    "             width=800, height=500)\n",
    "fig.update_layout(showlegend=True)\n",
    "\n",
    "# Show the interactive chart\n",
    "fig.show()"
   ]
  },
  {
   "cell_type": "code",
   "execution_count": 42,
   "metadata": {},
   "outputs": [
    {
     "data": {
      "application/vnd.plotly.v1+json": {
       "config": {
        "plotlyServerURL": "https://plot.ly"
       },
       "data": [
        {
         "hovertemplate": "Driver=Sergio Pérez<br>Race Name=%{x}<br>Final Position=%{y}<extra></extra>",
         "legendgroup": "Sergio Pérez",
         "line": {
          "color": "blue",
          "dash": "solid"
         },
         "marker": {
          "symbol": "circle"
         },
         "mode": "lines",
         "name": "Sergio Pérez",
         "orientation": "v",
         "showlegend": true,
         "type": "scatter",
         "x": [
          "Bahrain Grand Prix",
          "Saudi Arabian Grand Prix",
          "Australian Grand Prix",
          "Emilia Romagna Grand Prix",
          "Miami Grand Prix",
          "Spanish Grand Prix",
          "Monaco Grand Prix",
          "Azerbaijan Grand Prix",
          "Canadian Grand Prix",
          "British Grand Prix",
          "Austrian Grand Prix",
          "French Grand Prix",
          "Hungarian Grand Prix",
          "Belgian Grand Prix",
          "Dutch Grand Prix",
          "Italian Grand Prix",
          "Singapore Grand Prix",
          "Japanese Grand Prix",
          "United States Grand Prix",
          "Mexico City Grand Prix",
          "Brazilian Grand Prix",
          "Abu Dhabi Grand Prix"
         ],
         "xaxis": "x",
         "y": [
          18,
          4,
          2,
          2,
          4,
          2,
          1,
          2,
          null,
          2,
          null,
          4,
          5,
          2,
          5,
          6,
          1,
          2,
          4,
          3,
          7,
          3
         ],
         "yaxis": "y"
        },
        {
         "hovertemplate": "Driver=Max Verstappen<br>Race Name=%{x}<br>Final Position=%{y}<extra></extra>",
         "legendgroup": "Max Verstappen",
         "line": {
          "color": "orange",
          "dash": "solid"
         },
         "marker": {
          "symbol": "circle"
         },
         "mode": "lines",
         "name": "Max Verstappen",
         "orientation": "v",
         "showlegend": true,
         "type": "scatter",
         "x": [
          "Bahrain Grand Prix",
          "Saudi Arabian Grand Prix",
          "Australian Grand Prix",
          "Emilia Romagna Grand Prix",
          "Miami Grand Prix",
          "Spanish Grand Prix",
          "Monaco Grand Prix",
          "Azerbaijan Grand Prix",
          "Canadian Grand Prix",
          "British Grand Prix",
          "Austrian Grand Prix",
          "French Grand Prix",
          "Hungarian Grand Prix",
          "Belgian Grand Prix",
          "Dutch Grand Prix",
          "Italian Grand Prix",
          "Singapore Grand Prix",
          "Japanese Grand Prix",
          "United States Grand Prix",
          "Mexico City Grand Prix",
          "Brazilian Grand Prix",
          "Abu Dhabi Grand Prix"
         ],
         "xaxis": "x",
         "y": [
          19,
          1,
          null,
          1,
          1,
          1,
          3,
          1,
          1,
          7,
          2,
          1,
          1,
          1,
          1,
          1,
          7,
          1,
          1,
          1,
          6,
          1
         ],
         "yaxis": "y"
        }
       ],
       "layout": {
        "font": {
         "color": "black"
        },
        "height": 600,
        "legend": {
         "title": {
          "text": "Driver"
         },
         "tracegroupgap": 0,
         "traceorder": "normal"
        },
        "paper_bgcolor": "lightgrey",
        "plot_bgcolor": "lightgrey",
        "template": {
         "data": {
          "bar": [
           {
            "error_x": {
             "color": "#2a3f5f"
            },
            "error_y": {
             "color": "#2a3f5f"
            },
            "marker": {
             "line": {
              "color": "#E5ECF6",
              "width": 0.5
             },
             "pattern": {
              "fillmode": "overlay",
              "size": 10,
              "solidity": 0.2
             }
            },
            "type": "bar"
           }
          ],
          "barpolar": [
           {
            "marker": {
             "line": {
              "color": "#E5ECF6",
              "width": 0.5
             },
             "pattern": {
              "fillmode": "overlay",
              "size": 10,
              "solidity": 0.2
             }
            },
            "type": "barpolar"
           }
          ],
          "carpet": [
           {
            "aaxis": {
             "endlinecolor": "#2a3f5f",
             "gridcolor": "white",
             "linecolor": "white",
             "minorgridcolor": "white",
             "startlinecolor": "#2a3f5f"
            },
            "baxis": {
             "endlinecolor": "#2a3f5f",
             "gridcolor": "white",
             "linecolor": "white",
             "minorgridcolor": "white",
             "startlinecolor": "#2a3f5f"
            },
            "type": "carpet"
           }
          ],
          "choropleth": [
           {
            "colorbar": {
             "outlinewidth": 0,
             "ticks": ""
            },
            "type": "choropleth"
           }
          ],
          "contour": [
           {
            "colorbar": {
             "outlinewidth": 0,
             "ticks": ""
            },
            "colorscale": [
             [
              0,
              "#0d0887"
             ],
             [
              0.1111111111111111,
              "#46039f"
             ],
             [
              0.2222222222222222,
              "#7201a8"
             ],
             [
              0.3333333333333333,
              "#9c179e"
             ],
             [
              0.4444444444444444,
              "#bd3786"
             ],
             [
              0.5555555555555556,
              "#d8576b"
             ],
             [
              0.6666666666666666,
              "#ed7953"
             ],
             [
              0.7777777777777778,
              "#fb9f3a"
             ],
             [
              0.8888888888888888,
              "#fdca26"
             ],
             [
              1,
              "#f0f921"
             ]
            ],
            "type": "contour"
           }
          ],
          "contourcarpet": [
           {
            "colorbar": {
             "outlinewidth": 0,
             "ticks": ""
            },
            "type": "contourcarpet"
           }
          ],
          "heatmap": [
           {
            "colorbar": {
             "outlinewidth": 0,
             "ticks": ""
            },
            "colorscale": [
             [
              0,
              "#0d0887"
             ],
             [
              0.1111111111111111,
              "#46039f"
             ],
             [
              0.2222222222222222,
              "#7201a8"
             ],
             [
              0.3333333333333333,
              "#9c179e"
             ],
             [
              0.4444444444444444,
              "#bd3786"
             ],
             [
              0.5555555555555556,
              "#d8576b"
             ],
             [
              0.6666666666666666,
              "#ed7953"
             ],
             [
              0.7777777777777778,
              "#fb9f3a"
             ],
             [
              0.8888888888888888,
              "#fdca26"
             ],
             [
              1,
              "#f0f921"
             ]
            ],
            "type": "heatmap"
           }
          ],
          "heatmapgl": [
           {
            "colorbar": {
             "outlinewidth": 0,
             "ticks": ""
            },
            "colorscale": [
             [
              0,
              "#0d0887"
             ],
             [
              0.1111111111111111,
              "#46039f"
             ],
             [
              0.2222222222222222,
              "#7201a8"
             ],
             [
              0.3333333333333333,
              "#9c179e"
             ],
             [
              0.4444444444444444,
              "#bd3786"
             ],
             [
              0.5555555555555556,
              "#d8576b"
             ],
             [
              0.6666666666666666,
              "#ed7953"
             ],
             [
              0.7777777777777778,
              "#fb9f3a"
             ],
             [
              0.8888888888888888,
              "#fdca26"
             ],
             [
              1,
              "#f0f921"
             ]
            ],
            "type": "heatmapgl"
           }
          ],
          "histogram": [
           {
            "marker": {
             "pattern": {
              "fillmode": "overlay",
              "size": 10,
              "solidity": 0.2
             }
            },
            "type": "histogram"
           }
          ],
          "histogram2d": [
           {
            "colorbar": {
             "outlinewidth": 0,
             "ticks": ""
            },
            "colorscale": [
             [
              0,
              "#0d0887"
             ],
             [
              0.1111111111111111,
              "#46039f"
             ],
             [
              0.2222222222222222,
              "#7201a8"
             ],
             [
              0.3333333333333333,
              "#9c179e"
             ],
             [
              0.4444444444444444,
              "#bd3786"
             ],
             [
              0.5555555555555556,
              "#d8576b"
             ],
             [
              0.6666666666666666,
              "#ed7953"
             ],
             [
              0.7777777777777778,
              "#fb9f3a"
             ],
             [
              0.8888888888888888,
              "#fdca26"
             ],
             [
              1,
              "#f0f921"
             ]
            ],
            "type": "histogram2d"
           }
          ],
          "histogram2dcontour": [
           {
            "colorbar": {
             "outlinewidth": 0,
             "ticks": ""
            },
            "colorscale": [
             [
              0,
              "#0d0887"
             ],
             [
              0.1111111111111111,
              "#46039f"
             ],
             [
              0.2222222222222222,
              "#7201a8"
             ],
             [
              0.3333333333333333,
              "#9c179e"
             ],
             [
              0.4444444444444444,
              "#bd3786"
             ],
             [
              0.5555555555555556,
              "#d8576b"
             ],
             [
              0.6666666666666666,
              "#ed7953"
             ],
             [
              0.7777777777777778,
              "#fb9f3a"
             ],
             [
              0.8888888888888888,
              "#fdca26"
             ],
             [
              1,
              "#f0f921"
             ]
            ],
            "type": "histogram2dcontour"
           }
          ],
          "mesh3d": [
           {
            "colorbar": {
             "outlinewidth": 0,
             "ticks": ""
            },
            "type": "mesh3d"
           }
          ],
          "parcoords": [
           {
            "line": {
             "colorbar": {
              "outlinewidth": 0,
              "ticks": ""
             }
            },
            "type": "parcoords"
           }
          ],
          "pie": [
           {
            "automargin": true,
            "type": "pie"
           }
          ],
          "scatter": [
           {
            "fillpattern": {
             "fillmode": "overlay",
             "size": 10,
             "solidity": 0.2
            },
            "type": "scatter"
           }
          ],
          "scatter3d": [
           {
            "line": {
             "colorbar": {
              "outlinewidth": 0,
              "ticks": ""
             }
            },
            "marker": {
             "colorbar": {
              "outlinewidth": 0,
              "ticks": ""
             }
            },
            "type": "scatter3d"
           }
          ],
          "scattercarpet": [
           {
            "marker": {
             "colorbar": {
              "outlinewidth": 0,
              "ticks": ""
             }
            },
            "type": "scattercarpet"
           }
          ],
          "scattergeo": [
           {
            "marker": {
             "colorbar": {
              "outlinewidth": 0,
              "ticks": ""
             }
            },
            "type": "scattergeo"
           }
          ],
          "scattergl": [
           {
            "marker": {
             "colorbar": {
              "outlinewidth": 0,
              "ticks": ""
             }
            },
            "type": "scattergl"
           }
          ],
          "scattermapbox": [
           {
            "marker": {
             "colorbar": {
              "outlinewidth": 0,
              "ticks": ""
             }
            },
            "type": "scattermapbox"
           }
          ],
          "scatterpolar": [
           {
            "marker": {
             "colorbar": {
              "outlinewidth": 0,
              "ticks": ""
             }
            },
            "type": "scatterpolar"
           }
          ],
          "scatterpolargl": [
           {
            "marker": {
             "colorbar": {
              "outlinewidth": 0,
              "ticks": ""
             }
            },
            "type": "scatterpolargl"
           }
          ],
          "scatterternary": [
           {
            "marker": {
             "colorbar": {
              "outlinewidth": 0,
              "ticks": ""
             }
            },
            "type": "scatterternary"
           }
          ],
          "surface": [
           {
            "colorbar": {
             "outlinewidth": 0,
             "ticks": ""
            },
            "colorscale": [
             [
              0,
              "#0d0887"
             ],
             [
              0.1111111111111111,
              "#46039f"
             ],
             [
              0.2222222222222222,
              "#7201a8"
             ],
             [
              0.3333333333333333,
              "#9c179e"
             ],
             [
              0.4444444444444444,
              "#bd3786"
             ],
             [
              0.5555555555555556,
              "#d8576b"
             ],
             [
              0.6666666666666666,
              "#ed7953"
             ],
             [
              0.7777777777777778,
              "#fb9f3a"
             ],
             [
              0.8888888888888888,
              "#fdca26"
             ],
             [
              1,
              "#f0f921"
             ]
            ],
            "type": "surface"
           }
          ],
          "table": [
           {
            "cells": {
             "fill": {
              "color": "#EBF0F8"
             },
             "line": {
              "color": "white"
             }
            },
            "header": {
             "fill": {
              "color": "#C8D4E3"
             },
             "line": {
              "color": "white"
             }
            },
            "type": "table"
           }
          ]
         },
         "layout": {
          "annotationdefaults": {
           "arrowcolor": "#2a3f5f",
           "arrowhead": 0,
           "arrowwidth": 1
          },
          "autotypenumbers": "strict",
          "coloraxis": {
           "colorbar": {
            "outlinewidth": 0,
            "ticks": ""
           }
          },
          "colorscale": {
           "diverging": [
            [
             0,
             "#8e0152"
            ],
            [
             0.1,
             "#c51b7d"
            ],
            [
             0.2,
             "#de77ae"
            ],
            [
             0.3,
             "#f1b6da"
            ],
            [
             0.4,
             "#fde0ef"
            ],
            [
             0.5,
             "#f7f7f7"
            ],
            [
             0.6,
             "#e6f5d0"
            ],
            [
             0.7,
             "#b8e186"
            ],
            [
             0.8,
             "#7fbc41"
            ],
            [
             0.9,
             "#4d9221"
            ],
            [
             1,
             "#276419"
            ]
           ],
           "sequential": [
            [
             0,
             "#0d0887"
            ],
            [
             0.1111111111111111,
             "#46039f"
            ],
            [
             0.2222222222222222,
             "#7201a8"
            ],
            [
             0.3333333333333333,
             "#9c179e"
            ],
            [
             0.4444444444444444,
             "#bd3786"
            ],
            [
             0.5555555555555556,
             "#d8576b"
            ],
            [
             0.6666666666666666,
             "#ed7953"
            ],
            [
             0.7777777777777778,
             "#fb9f3a"
            ],
            [
             0.8888888888888888,
             "#fdca26"
            ],
            [
             1,
             "#f0f921"
            ]
           ],
           "sequentialminus": [
            [
             0,
             "#0d0887"
            ],
            [
             0.1111111111111111,
             "#46039f"
            ],
            [
             0.2222222222222222,
             "#7201a8"
            ],
            [
             0.3333333333333333,
             "#9c179e"
            ],
            [
             0.4444444444444444,
             "#bd3786"
            ],
            [
             0.5555555555555556,
             "#d8576b"
            ],
            [
             0.6666666666666666,
             "#ed7953"
            ],
            [
             0.7777777777777778,
             "#fb9f3a"
            ],
            [
             0.8888888888888888,
             "#fdca26"
            ],
            [
             1,
             "#f0f921"
            ]
           ]
          },
          "colorway": [
           "#636efa",
           "#EF553B",
           "#00cc96",
           "#ab63fa",
           "#FFA15A",
           "#19d3f3",
           "#FF6692",
           "#B6E880",
           "#FF97FF",
           "#FECB52"
          ],
          "font": {
           "color": "#2a3f5f"
          },
          "geo": {
           "bgcolor": "white",
           "lakecolor": "white",
           "landcolor": "#E5ECF6",
           "showlakes": true,
           "showland": true,
           "subunitcolor": "white"
          },
          "hoverlabel": {
           "align": "left"
          },
          "hovermode": "closest",
          "mapbox": {
           "style": "light"
          },
          "paper_bgcolor": "white",
          "plot_bgcolor": "#E5ECF6",
          "polar": {
           "angularaxis": {
            "gridcolor": "white",
            "linecolor": "white",
            "ticks": ""
           },
           "bgcolor": "#E5ECF6",
           "radialaxis": {
            "gridcolor": "white",
            "linecolor": "white",
            "ticks": ""
           }
          },
          "scene": {
           "xaxis": {
            "backgroundcolor": "#E5ECF6",
            "gridcolor": "white",
            "gridwidth": 2,
            "linecolor": "white",
            "showbackground": true,
            "ticks": "",
            "zerolinecolor": "white"
           },
           "yaxis": {
            "backgroundcolor": "#E5ECF6",
            "gridcolor": "white",
            "gridwidth": 2,
            "linecolor": "white",
            "showbackground": true,
            "ticks": "",
            "zerolinecolor": "white"
           },
           "zaxis": {
            "backgroundcolor": "#E5ECF6",
            "gridcolor": "white",
            "gridwidth": 2,
            "linecolor": "white",
            "showbackground": true,
            "ticks": "",
            "zerolinecolor": "white"
           }
          },
          "shapedefaults": {
           "line": {
            "color": "#2a3f5f"
           }
          },
          "ternary": {
           "aaxis": {
            "gridcolor": "white",
            "linecolor": "white",
            "ticks": ""
           },
           "baxis": {
            "gridcolor": "white",
            "linecolor": "white",
            "ticks": ""
           },
           "bgcolor": "#E5ECF6",
           "caxis": {
            "gridcolor": "white",
            "linecolor": "white",
            "ticks": ""
           }
          },
          "title": {
           "x": 0.05
          },
          "xaxis": {
           "automargin": true,
           "gridcolor": "white",
           "linecolor": "white",
           "ticks": "",
           "title": {
            "standoff": 15
           },
           "zerolinecolor": "white",
           "zerolinewidth": 2
          },
          "yaxis": {
           "automargin": true,
           "gridcolor": "white",
           "linecolor": "white",
           "ticks": "",
           "title": {
            "standoff": 15
           },
           "zerolinecolor": "white",
           "zerolinewidth": 2
          }
         }
        },
        "title": {
         "text": "Final Positions Comparison - Sergio Pérez vs. Max Verstappen (2022)"
        },
        "width": 1200,
        "xaxis": {
         "anchor": "y",
         "domain": [
          0,
          1
         ],
         "showgrid": false,
         "tickangle": 45,
         "tickmode": "array",
         "ticktext": [
          "Bahrain Grand Prix",
          "Saudi Arabian Grand Prix",
          "Australian Grand Prix",
          "Emilia Romagna Grand Prix",
          "Miami Grand Prix",
          "Spanish Grand Prix",
          "Monaco Grand Prix",
          "Azerbaijan Grand Prix",
          "Canadian Grand Prix",
          "British Grand Prix",
          "Austrian Grand Prix",
          "French Grand Prix",
          "Hungarian Grand Prix",
          "Belgian Grand Prix",
          "Dutch Grand Prix",
          "Italian Grand Prix",
          "Singapore Grand Prix",
          "Japanese Grand Prix",
          "United States Grand Prix",
          "Mexico City Grand Prix",
          "Brazilian Grand Prix",
          "Abu Dhabi Grand Prix"
         ],
         "tickvals": [
          0,
          1,
          2,
          3,
          4,
          5,
          6,
          7,
          8,
          9,
          10,
          11,
          12,
          13,
          14,
          15,
          16,
          17,
          18,
          19,
          20,
          21
         ],
         "title": {
          "text": "Race Name"
         }
        },
        "yaxis": {
         "anchor": "x",
         "autorange": "reversed",
         "domain": [
          0,
          1
         ],
         "showgrid": false,
         "title": {
          "text": "Final Position"
         }
        }
       }
      }
     },
     "metadata": {},
     "output_type": "display_data"
    }
   ],
   "source": [
    "import plotly.express as px\n",
    "\n",
    "# Assuming red_bull_df is your DataFrame containing the racing data for Red Bull team\n",
    "\n",
    "# Filter the dataset for the year 2022 and specific drivers\n",
    "selected_drivers = ['Max Verstappen', 'Sergio Pérez']\n",
    "red_bull_2022_selected = df[(df['year'] == 2022) & (df['driver'].isin(selected_drivers))]\n",
    "\n",
    "# Custom color assignment\n",
    "colors = {'Max Verstappen': 'orange', 'Sergio Pérez': 'blue'}\n",
    "\n",
    "# Create a line chart for final positions with race names for 2022\n",
    "fig_2022 = px.line(red_bull_2022_selected, x='race_name', y='final_position', color='driver',\n",
    "                   color_discrete_map=colors,\n",
    "                   labels={'final_position': 'Final Position', 'race_name': 'Race Name', 'driver': 'Driver'},\n",
    "                   title='Final Positions Comparison - Sergio Pérez vs. Max Verstappen (2022)',\n",
    "                   width=1200, height=600)\n",
    "\n",
    "fig_2022.update_layout(plot_bgcolor='lightgrey', paper_bgcolor='lightgrey', font=dict(color='black'),\n",
    "                       legend=dict(traceorder='normal'))\n",
    "fig_2022.update_xaxes(tickangle=45, tickmode='array', tickvals=list(range(len(red_bull_2022_selected['race_name'].unique()))),\n",
    "                      ticktext=red_bull_2022_selected['race_name'].unique(), showgrid=False)\n",
    "fig_2022.update_yaxes(autorange=\"reversed\", showgrid=False)\n",
    "\n",
    "# Show the interactive chart for 2022\n",
    "fig_2022.show()\n"
   ]
  },
  {
   "cell_type": "code",
   "execution_count": 43,
   "metadata": {},
   "outputs": [
    {
     "data": {
      "application/vnd.plotly.v1+json": {
       "config": {
        "plotlyServerURL": "https://plot.ly"
       },
       "data": [
        {
         "hovertemplate": "Driver=Max Verstappen<br>Race Name=%{x}<br>Final Position=%{y}<extra></extra>",
         "legendgroup": "Max Verstappen",
         "line": {
          "color": "orange",
          "dash": "solid"
         },
         "marker": {
          "symbol": "circle"
         },
         "mode": "lines",
         "name": "Max Verstappen",
         "orientation": "v",
         "showlegend": true,
         "type": "scatter",
         "x": [
          "Bahrain Grand Prix",
          "Saudi Arabian Grand Prix",
          "Australian Grand Prix",
          "Azerbaijan Grand Prix",
          "Miami Grand Prix",
          "Monaco Grand Prix",
          "Spanish Grand Prix",
          "Canadian Grand Prix",
          "Austrian Grand Prix",
          "British Grand Prix",
          "Hungarian Grand Prix",
          "Belgian Grand Prix"
         ],
         "xaxis": "x",
         "y": [
          1,
          2,
          1,
          2,
          1,
          1,
          1,
          1,
          1,
          1,
          1,
          1
         ],
         "yaxis": "y"
        },
        {
         "hovertemplate": "Driver=Sergio Pérez<br>Race Name=%{x}<br>Final Position=%{y}<extra></extra>",
         "legendgroup": "Sergio Pérez",
         "line": {
          "color": "blue",
          "dash": "solid"
         },
         "marker": {
          "symbol": "circle"
         },
         "mode": "lines",
         "name": "Sergio Pérez",
         "orientation": "v",
         "showlegend": true,
         "type": "scatter",
         "x": [
          "Bahrain Grand Prix",
          "Saudi Arabian Grand Prix",
          "Australian Grand Prix",
          "Azerbaijan Grand Prix",
          "Miami Grand Prix",
          "Monaco Grand Prix",
          "Spanish Grand Prix",
          "Canadian Grand Prix",
          "Austrian Grand Prix",
          "British Grand Prix",
          "Hungarian Grand Prix",
          "Belgian Grand Prix"
         ],
         "xaxis": "x",
         "y": [
          2,
          1,
          5,
          1,
          2,
          16,
          4,
          6,
          3,
          6,
          3,
          2
         ],
         "yaxis": "y"
        }
       ],
       "layout": {
        "font": {
         "color": "black"
        },
        "height": 600,
        "legend": {
         "title": {
          "text": "Driver"
         },
         "tracegroupgap": 0,
         "traceorder": "normal"
        },
        "paper_bgcolor": "lightgrey",
        "plot_bgcolor": "lightgrey",
        "template": {
         "data": {
          "bar": [
           {
            "error_x": {
             "color": "#2a3f5f"
            },
            "error_y": {
             "color": "#2a3f5f"
            },
            "marker": {
             "line": {
              "color": "#E5ECF6",
              "width": 0.5
             },
             "pattern": {
              "fillmode": "overlay",
              "size": 10,
              "solidity": 0.2
             }
            },
            "type": "bar"
           }
          ],
          "barpolar": [
           {
            "marker": {
             "line": {
              "color": "#E5ECF6",
              "width": 0.5
             },
             "pattern": {
              "fillmode": "overlay",
              "size": 10,
              "solidity": 0.2
             }
            },
            "type": "barpolar"
           }
          ],
          "carpet": [
           {
            "aaxis": {
             "endlinecolor": "#2a3f5f",
             "gridcolor": "white",
             "linecolor": "white",
             "minorgridcolor": "white",
             "startlinecolor": "#2a3f5f"
            },
            "baxis": {
             "endlinecolor": "#2a3f5f",
             "gridcolor": "white",
             "linecolor": "white",
             "minorgridcolor": "white",
             "startlinecolor": "#2a3f5f"
            },
            "type": "carpet"
           }
          ],
          "choropleth": [
           {
            "colorbar": {
             "outlinewidth": 0,
             "ticks": ""
            },
            "type": "choropleth"
           }
          ],
          "contour": [
           {
            "colorbar": {
             "outlinewidth": 0,
             "ticks": ""
            },
            "colorscale": [
             [
              0,
              "#0d0887"
             ],
             [
              0.1111111111111111,
              "#46039f"
             ],
             [
              0.2222222222222222,
              "#7201a8"
             ],
             [
              0.3333333333333333,
              "#9c179e"
             ],
             [
              0.4444444444444444,
              "#bd3786"
             ],
             [
              0.5555555555555556,
              "#d8576b"
             ],
             [
              0.6666666666666666,
              "#ed7953"
             ],
             [
              0.7777777777777778,
              "#fb9f3a"
             ],
             [
              0.8888888888888888,
              "#fdca26"
             ],
             [
              1,
              "#f0f921"
             ]
            ],
            "type": "contour"
           }
          ],
          "contourcarpet": [
           {
            "colorbar": {
             "outlinewidth": 0,
             "ticks": ""
            },
            "type": "contourcarpet"
           }
          ],
          "heatmap": [
           {
            "colorbar": {
             "outlinewidth": 0,
             "ticks": ""
            },
            "colorscale": [
             [
              0,
              "#0d0887"
             ],
             [
              0.1111111111111111,
              "#46039f"
             ],
             [
              0.2222222222222222,
              "#7201a8"
             ],
             [
              0.3333333333333333,
              "#9c179e"
             ],
             [
              0.4444444444444444,
              "#bd3786"
             ],
             [
              0.5555555555555556,
              "#d8576b"
             ],
             [
              0.6666666666666666,
              "#ed7953"
             ],
             [
              0.7777777777777778,
              "#fb9f3a"
             ],
             [
              0.8888888888888888,
              "#fdca26"
             ],
             [
              1,
              "#f0f921"
             ]
            ],
            "type": "heatmap"
           }
          ],
          "heatmapgl": [
           {
            "colorbar": {
             "outlinewidth": 0,
             "ticks": ""
            },
            "colorscale": [
             [
              0,
              "#0d0887"
             ],
             [
              0.1111111111111111,
              "#46039f"
             ],
             [
              0.2222222222222222,
              "#7201a8"
             ],
             [
              0.3333333333333333,
              "#9c179e"
             ],
             [
              0.4444444444444444,
              "#bd3786"
             ],
             [
              0.5555555555555556,
              "#d8576b"
             ],
             [
              0.6666666666666666,
              "#ed7953"
             ],
             [
              0.7777777777777778,
              "#fb9f3a"
             ],
             [
              0.8888888888888888,
              "#fdca26"
             ],
             [
              1,
              "#f0f921"
             ]
            ],
            "type": "heatmapgl"
           }
          ],
          "histogram": [
           {
            "marker": {
             "pattern": {
              "fillmode": "overlay",
              "size": 10,
              "solidity": 0.2
             }
            },
            "type": "histogram"
           }
          ],
          "histogram2d": [
           {
            "colorbar": {
             "outlinewidth": 0,
             "ticks": ""
            },
            "colorscale": [
             [
              0,
              "#0d0887"
             ],
             [
              0.1111111111111111,
              "#46039f"
             ],
             [
              0.2222222222222222,
              "#7201a8"
             ],
             [
              0.3333333333333333,
              "#9c179e"
             ],
             [
              0.4444444444444444,
              "#bd3786"
             ],
             [
              0.5555555555555556,
              "#d8576b"
             ],
             [
              0.6666666666666666,
              "#ed7953"
             ],
             [
              0.7777777777777778,
              "#fb9f3a"
             ],
             [
              0.8888888888888888,
              "#fdca26"
             ],
             [
              1,
              "#f0f921"
             ]
            ],
            "type": "histogram2d"
           }
          ],
          "histogram2dcontour": [
           {
            "colorbar": {
             "outlinewidth": 0,
             "ticks": ""
            },
            "colorscale": [
             [
              0,
              "#0d0887"
             ],
             [
              0.1111111111111111,
              "#46039f"
             ],
             [
              0.2222222222222222,
              "#7201a8"
             ],
             [
              0.3333333333333333,
              "#9c179e"
             ],
             [
              0.4444444444444444,
              "#bd3786"
             ],
             [
              0.5555555555555556,
              "#d8576b"
             ],
             [
              0.6666666666666666,
              "#ed7953"
             ],
             [
              0.7777777777777778,
              "#fb9f3a"
             ],
             [
              0.8888888888888888,
              "#fdca26"
             ],
             [
              1,
              "#f0f921"
             ]
            ],
            "type": "histogram2dcontour"
           }
          ],
          "mesh3d": [
           {
            "colorbar": {
             "outlinewidth": 0,
             "ticks": ""
            },
            "type": "mesh3d"
           }
          ],
          "parcoords": [
           {
            "line": {
             "colorbar": {
              "outlinewidth": 0,
              "ticks": ""
             }
            },
            "type": "parcoords"
           }
          ],
          "pie": [
           {
            "automargin": true,
            "type": "pie"
           }
          ],
          "scatter": [
           {
            "fillpattern": {
             "fillmode": "overlay",
             "size": 10,
             "solidity": 0.2
            },
            "type": "scatter"
           }
          ],
          "scatter3d": [
           {
            "line": {
             "colorbar": {
              "outlinewidth": 0,
              "ticks": ""
             }
            },
            "marker": {
             "colorbar": {
              "outlinewidth": 0,
              "ticks": ""
             }
            },
            "type": "scatter3d"
           }
          ],
          "scattercarpet": [
           {
            "marker": {
             "colorbar": {
              "outlinewidth": 0,
              "ticks": ""
             }
            },
            "type": "scattercarpet"
           }
          ],
          "scattergeo": [
           {
            "marker": {
             "colorbar": {
              "outlinewidth": 0,
              "ticks": ""
             }
            },
            "type": "scattergeo"
           }
          ],
          "scattergl": [
           {
            "marker": {
             "colorbar": {
              "outlinewidth": 0,
              "ticks": ""
             }
            },
            "type": "scattergl"
           }
          ],
          "scattermapbox": [
           {
            "marker": {
             "colorbar": {
              "outlinewidth": 0,
              "ticks": ""
             }
            },
            "type": "scattermapbox"
           }
          ],
          "scatterpolar": [
           {
            "marker": {
             "colorbar": {
              "outlinewidth": 0,
              "ticks": ""
             }
            },
            "type": "scatterpolar"
           }
          ],
          "scatterpolargl": [
           {
            "marker": {
             "colorbar": {
              "outlinewidth": 0,
              "ticks": ""
             }
            },
            "type": "scatterpolargl"
           }
          ],
          "scatterternary": [
           {
            "marker": {
             "colorbar": {
              "outlinewidth": 0,
              "ticks": ""
             }
            },
            "type": "scatterternary"
           }
          ],
          "surface": [
           {
            "colorbar": {
             "outlinewidth": 0,
             "ticks": ""
            },
            "colorscale": [
             [
              0,
              "#0d0887"
             ],
             [
              0.1111111111111111,
              "#46039f"
             ],
             [
              0.2222222222222222,
              "#7201a8"
             ],
             [
              0.3333333333333333,
              "#9c179e"
             ],
             [
              0.4444444444444444,
              "#bd3786"
             ],
             [
              0.5555555555555556,
              "#d8576b"
             ],
             [
              0.6666666666666666,
              "#ed7953"
             ],
             [
              0.7777777777777778,
              "#fb9f3a"
             ],
             [
              0.8888888888888888,
              "#fdca26"
             ],
             [
              1,
              "#f0f921"
             ]
            ],
            "type": "surface"
           }
          ],
          "table": [
           {
            "cells": {
             "fill": {
              "color": "#EBF0F8"
             },
             "line": {
              "color": "white"
             }
            },
            "header": {
             "fill": {
              "color": "#C8D4E3"
             },
             "line": {
              "color": "white"
             }
            },
            "type": "table"
           }
          ]
         },
         "layout": {
          "annotationdefaults": {
           "arrowcolor": "#2a3f5f",
           "arrowhead": 0,
           "arrowwidth": 1
          },
          "autotypenumbers": "strict",
          "coloraxis": {
           "colorbar": {
            "outlinewidth": 0,
            "ticks": ""
           }
          },
          "colorscale": {
           "diverging": [
            [
             0,
             "#8e0152"
            ],
            [
             0.1,
             "#c51b7d"
            ],
            [
             0.2,
             "#de77ae"
            ],
            [
             0.3,
             "#f1b6da"
            ],
            [
             0.4,
             "#fde0ef"
            ],
            [
             0.5,
             "#f7f7f7"
            ],
            [
             0.6,
             "#e6f5d0"
            ],
            [
             0.7,
             "#b8e186"
            ],
            [
             0.8,
             "#7fbc41"
            ],
            [
             0.9,
             "#4d9221"
            ],
            [
             1,
             "#276419"
            ]
           ],
           "sequential": [
            [
             0,
             "#0d0887"
            ],
            [
             0.1111111111111111,
             "#46039f"
            ],
            [
             0.2222222222222222,
             "#7201a8"
            ],
            [
             0.3333333333333333,
             "#9c179e"
            ],
            [
             0.4444444444444444,
             "#bd3786"
            ],
            [
             0.5555555555555556,
             "#d8576b"
            ],
            [
             0.6666666666666666,
             "#ed7953"
            ],
            [
             0.7777777777777778,
             "#fb9f3a"
            ],
            [
             0.8888888888888888,
             "#fdca26"
            ],
            [
             1,
             "#f0f921"
            ]
           ],
           "sequentialminus": [
            [
             0,
             "#0d0887"
            ],
            [
             0.1111111111111111,
             "#46039f"
            ],
            [
             0.2222222222222222,
             "#7201a8"
            ],
            [
             0.3333333333333333,
             "#9c179e"
            ],
            [
             0.4444444444444444,
             "#bd3786"
            ],
            [
             0.5555555555555556,
             "#d8576b"
            ],
            [
             0.6666666666666666,
             "#ed7953"
            ],
            [
             0.7777777777777778,
             "#fb9f3a"
            ],
            [
             0.8888888888888888,
             "#fdca26"
            ],
            [
             1,
             "#f0f921"
            ]
           ]
          },
          "colorway": [
           "#636efa",
           "#EF553B",
           "#00cc96",
           "#ab63fa",
           "#FFA15A",
           "#19d3f3",
           "#FF6692",
           "#B6E880",
           "#FF97FF",
           "#FECB52"
          ],
          "font": {
           "color": "#2a3f5f"
          },
          "geo": {
           "bgcolor": "white",
           "lakecolor": "white",
           "landcolor": "#E5ECF6",
           "showlakes": true,
           "showland": true,
           "subunitcolor": "white"
          },
          "hoverlabel": {
           "align": "left"
          },
          "hovermode": "closest",
          "mapbox": {
           "style": "light"
          },
          "paper_bgcolor": "white",
          "plot_bgcolor": "#E5ECF6",
          "polar": {
           "angularaxis": {
            "gridcolor": "white",
            "linecolor": "white",
            "ticks": ""
           },
           "bgcolor": "#E5ECF6",
           "radialaxis": {
            "gridcolor": "white",
            "linecolor": "white",
            "ticks": ""
           }
          },
          "scene": {
           "xaxis": {
            "backgroundcolor": "#E5ECF6",
            "gridcolor": "white",
            "gridwidth": 2,
            "linecolor": "white",
            "showbackground": true,
            "ticks": "",
            "zerolinecolor": "white"
           },
           "yaxis": {
            "backgroundcolor": "#E5ECF6",
            "gridcolor": "white",
            "gridwidth": 2,
            "linecolor": "white",
            "showbackground": true,
            "ticks": "",
            "zerolinecolor": "white"
           },
           "zaxis": {
            "backgroundcolor": "#E5ECF6",
            "gridcolor": "white",
            "gridwidth": 2,
            "linecolor": "white",
            "showbackground": true,
            "ticks": "",
            "zerolinecolor": "white"
           }
          },
          "shapedefaults": {
           "line": {
            "color": "#2a3f5f"
           }
          },
          "ternary": {
           "aaxis": {
            "gridcolor": "white",
            "linecolor": "white",
            "ticks": ""
           },
           "baxis": {
            "gridcolor": "white",
            "linecolor": "white",
            "ticks": ""
           },
           "bgcolor": "#E5ECF6",
           "caxis": {
            "gridcolor": "white",
            "linecolor": "white",
            "ticks": ""
           }
          },
          "title": {
           "x": 0.05
          },
          "xaxis": {
           "automargin": true,
           "gridcolor": "white",
           "linecolor": "white",
           "ticks": "",
           "title": {
            "standoff": 15
           },
           "zerolinecolor": "white",
           "zerolinewidth": 2
          },
          "yaxis": {
           "automargin": true,
           "gridcolor": "white",
           "linecolor": "white",
           "ticks": "",
           "title": {
            "standoff": 15
           },
           "zerolinecolor": "white",
           "zerolinewidth": 2
          }
         }
        },
        "title": {
         "text": "Final Positions Comparison - Sergio Pérez vs. Max Verstappen (2023)"
        },
        "width": 1200,
        "xaxis": {
         "anchor": "y",
         "domain": [
          0,
          1
         ],
         "showgrid": false,
         "tickangle": 45,
         "tickmode": "array",
         "ticktext": [
          "Bahrain Grand Prix",
          "Saudi Arabian Grand Prix",
          "Australian Grand Prix",
          "Azerbaijan Grand Prix",
          "Miami Grand Prix",
          "Monaco Grand Prix",
          "Spanish Grand Prix",
          "Canadian Grand Prix",
          "Austrian Grand Prix",
          "British Grand Prix",
          "Hungarian Grand Prix",
          "Belgian Grand Prix"
         ],
         "tickvals": [
          0,
          1,
          2,
          3,
          4,
          5,
          6,
          7,
          8,
          9,
          10,
          11
         ],
         "title": {
          "text": "Race Name"
         }
        },
        "yaxis": {
         "anchor": "x",
         "autorange": "reversed",
         "domain": [
          0,
          1
         ],
         "showgrid": false,
         "title": {
          "text": "Final Position"
         }
        }
       }
      }
     },
     "metadata": {},
     "output_type": "display_data"
    }
   ],
   "source": [
    "import plotly.express as px\n",
    "\n",
    "# Assuming red_bull_df is your DataFrame containing the racing data for Red Bull team\n",
    "\n",
    "# Filter the dataset for the year 2023 and specific drivers\n",
    "selected_drivers = ['Max Verstappen', 'Sergio Pérez']\n",
    "red_bull_2023_selected = df[(df['year'] == 2023) & (df['driver'].isin(selected_drivers))]\n",
    "\n",
    "# Custom color assignment\n",
    "colors = {'Max Verstappen': 'orange', 'Sergio Pérez': 'blue'}\n",
    "\n",
    "# Create a line chart for final positions with race names for 2023\n",
    "fig_2023 = px.line(red_bull_2023_selected, x='race_name', y='final_position', color='driver',\n",
    "                   color_discrete_map=colors,\n",
    "                   labels={'final_position': 'Final Position', 'race_name': 'Race Name', 'driver': 'Driver'},\n",
    "                   title='Final Positions Comparison - Sergio Pérez vs. Max Verstappen (2023)',\n",
    "                   width=1200, height=600)\n",
    "\n",
    "fig_2023.update_layout(plot_bgcolor='lightgrey', paper_bgcolor='lightgrey', font=dict(color='black'),\n",
    "                       legend=dict(traceorder='normal'))\n",
    "fig_2023.update_xaxes(tickangle=45, tickmode='array', tickvals=list(range(len(red_bull_2023_selected['race_name'].unique()))),\n",
    "                      ticktext=red_bull_2023_selected['race_name'].unique(), showgrid=False)\n",
    "fig_2023.update_yaxes(autorange=\"reversed\", showgrid=False)\n",
    "\n",
    "# Show the interactive chart for 2023\n",
    "fig_2023.show()\n"
   ]
  },
  {
   "cell_type": "code",
   "execution_count": 44,
   "metadata": {},
   "outputs": [
    {
     "name": "stderr",
     "output_type": "stream",
     "text": [
      "/var/folders/d2/3zzrhgj50wgfhbl4f3nth0900000gn/T/ipykernel_2978/2346447520.py:15: RuntimeWarning:\n",
      "\n",
      "invalid value encountered in scalar divide\n",
      "\n",
      "/var/folders/d2/3zzrhgj50wgfhbl4f3nth0900000gn/T/ipykernel_2978/2346447520.py:43: SettingWithCopyWarning:\n",
      "\n",
      "\n",
      "A value is trying to be set on a copy of a slice from a DataFrame.\n",
      "Try using .loc[row_indexer,col_indexer] = value instead\n",
      "\n",
      "See the caveats in the documentation: https://pandas.pydata.org/pandas-docs/stable/user_guide/indexing.html#returning-a-view-versus-a-copy\n",
      "\n"
     ]
    },
    {
     "data": {
      "application/vnd.plotly.v1+json": {
       "config": {
        "plotlyServerURL": "https://plot.ly"
       },
       "data": [
        {
         "hovertemplate": "driver=Max Verstappen<br>Value=%{r}<br>Metrics=%{theta}<extra></extra>",
         "legendgroup": "Max Verstappen",
         "line": {
          "color": "#636efa",
          "dash": "solid"
         },
         "marker": {
          "symbol": "circle"
         },
         "mode": "lines",
         "name": "Max Verstappen",
         "r": [
          0.1727799227799228,
          1,
          0.11659919028340082,
          0.11258697027197977,
          0.9308943089430894,
          0.9308943089430894,
          0.1727799227799228
         ],
         "showlegend": true,
         "subplot": "polar",
         "theta": [
          "grid_starting_position",
          "avg_points_ratio",
          "Avg Race Result",
          "Avg Race Result (Finished)",
          "laps",
          "avg_laps_per_race",
          "grid_starting_position"
         ],
         "type": "scatterpolar"
        },
        {
         "hovertemplate": "driver=Sergio Pérez<br>Value=%{r}<br>Metrics=%{theta}<extra></extra>",
         "legendgroup": "Sergio Pérez",
         "line": {
          "color": "#EF553B",
          "dash": "solid"
         },
         "marker": {
          "symbol": "circle"
         },
         "mode": "lines",
         "name": "Sergio Pérez",
         "r": [
          0.28378378378378377,
          0.6052855924978687,
          0.2828609986504723,
          0.25943719972546325,
          0.8975029036004646,
          0.8975029036004646,
          0.28378378378378377
         ],
         "showlegend": true,
         "subplot": "polar",
         "theta": [
          "grid_starting_position",
          "avg_points_ratio",
          "Avg Race Result",
          "Avg Race Result (Finished)",
          "laps",
          "avg_laps_per_race",
          "grid_starting_position"
         ],
         "type": "scatterpolar"
        }
       ],
       "layout": {
        "legend": {
         "title": {
          "text": "driver"
         },
         "tracegroupgap": 0
        },
        "polar": {
         "angularaxis": {
          "direction": "clockwise",
          "rotation": 90
         },
         "domain": {
          "x": [
           0,
           1
          ],
          "y": [
           0,
           1
          ]
         }
        },
        "template": {
         "data": {
          "bar": [
           {
            "error_x": {
             "color": "#f2f5fa"
            },
            "error_y": {
             "color": "#f2f5fa"
            },
            "marker": {
             "line": {
              "color": "rgb(17,17,17)",
              "width": 0.5
             },
             "pattern": {
              "fillmode": "overlay",
              "size": 10,
              "solidity": 0.2
             }
            },
            "type": "bar"
           }
          ],
          "barpolar": [
           {
            "marker": {
             "line": {
              "color": "rgb(17,17,17)",
              "width": 0.5
             },
             "pattern": {
              "fillmode": "overlay",
              "size": 10,
              "solidity": 0.2
             }
            },
            "type": "barpolar"
           }
          ],
          "carpet": [
           {
            "aaxis": {
             "endlinecolor": "#A2B1C6",
             "gridcolor": "#506784",
             "linecolor": "#506784",
             "minorgridcolor": "#506784",
             "startlinecolor": "#A2B1C6"
            },
            "baxis": {
             "endlinecolor": "#A2B1C6",
             "gridcolor": "#506784",
             "linecolor": "#506784",
             "minorgridcolor": "#506784",
             "startlinecolor": "#A2B1C6"
            },
            "type": "carpet"
           }
          ],
          "choropleth": [
           {
            "colorbar": {
             "outlinewidth": 0,
             "ticks": ""
            },
            "type": "choropleth"
           }
          ],
          "contour": [
           {
            "colorbar": {
             "outlinewidth": 0,
             "ticks": ""
            },
            "colorscale": [
             [
              0,
              "#0d0887"
             ],
             [
              0.1111111111111111,
              "#46039f"
             ],
             [
              0.2222222222222222,
              "#7201a8"
             ],
             [
              0.3333333333333333,
              "#9c179e"
             ],
             [
              0.4444444444444444,
              "#bd3786"
             ],
             [
              0.5555555555555556,
              "#d8576b"
             ],
             [
              0.6666666666666666,
              "#ed7953"
             ],
             [
              0.7777777777777778,
              "#fb9f3a"
             ],
             [
              0.8888888888888888,
              "#fdca26"
             ],
             [
              1,
              "#f0f921"
             ]
            ],
            "type": "contour"
           }
          ],
          "contourcarpet": [
           {
            "colorbar": {
             "outlinewidth": 0,
             "ticks": ""
            },
            "type": "contourcarpet"
           }
          ],
          "heatmap": [
           {
            "colorbar": {
             "outlinewidth": 0,
             "ticks": ""
            },
            "colorscale": [
             [
              0,
              "#0d0887"
             ],
             [
              0.1111111111111111,
              "#46039f"
             ],
             [
              0.2222222222222222,
              "#7201a8"
             ],
             [
              0.3333333333333333,
              "#9c179e"
             ],
             [
              0.4444444444444444,
              "#bd3786"
             ],
             [
              0.5555555555555556,
              "#d8576b"
             ],
             [
              0.6666666666666666,
              "#ed7953"
             ],
             [
              0.7777777777777778,
              "#fb9f3a"
             ],
             [
              0.8888888888888888,
              "#fdca26"
             ],
             [
              1,
              "#f0f921"
             ]
            ],
            "type": "heatmap"
           }
          ],
          "heatmapgl": [
           {
            "colorbar": {
             "outlinewidth": 0,
             "ticks": ""
            },
            "colorscale": [
             [
              0,
              "#0d0887"
             ],
             [
              0.1111111111111111,
              "#46039f"
             ],
             [
              0.2222222222222222,
              "#7201a8"
             ],
             [
              0.3333333333333333,
              "#9c179e"
             ],
             [
              0.4444444444444444,
              "#bd3786"
             ],
             [
              0.5555555555555556,
              "#d8576b"
             ],
             [
              0.6666666666666666,
              "#ed7953"
             ],
             [
              0.7777777777777778,
              "#fb9f3a"
             ],
             [
              0.8888888888888888,
              "#fdca26"
             ],
             [
              1,
              "#f0f921"
             ]
            ],
            "type": "heatmapgl"
           }
          ],
          "histogram": [
           {
            "marker": {
             "pattern": {
              "fillmode": "overlay",
              "size": 10,
              "solidity": 0.2
             }
            },
            "type": "histogram"
           }
          ],
          "histogram2d": [
           {
            "colorbar": {
             "outlinewidth": 0,
             "ticks": ""
            },
            "colorscale": [
             [
              0,
              "#0d0887"
             ],
             [
              0.1111111111111111,
              "#46039f"
             ],
             [
              0.2222222222222222,
              "#7201a8"
             ],
             [
              0.3333333333333333,
              "#9c179e"
             ],
             [
              0.4444444444444444,
              "#bd3786"
             ],
             [
              0.5555555555555556,
              "#d8576b"
             ],
             [
              0.6666666666666666,
              "#ed7953"
             ],
             [
              0.7777777777777778,
              "#fb9f3a"
             ],
             [
              0.8888888888888888,
              "#fdca26"
             ],
             [
              1,
              "#f0f921"
             ]
            ],
            "type": "histogram2d"
           }
          ],
          "histogram2dcontour": [
           {
            "colorbar": {
             "outlinewidth": 0,
             "ticks": ""
            },
            "colorscale": [
             [
              0,
              "#0d0887"
             ],
             [
              0.1111111111111111,
              "#46039f"
             ],
             [
              0.2222222222222222,
              "#7201a8"
             ],
             [
              0.3333333333333333,
              "#9c179e"
             ],
             [
              0.4444444444444444,
              "#bd3786"
             ],
             [
              0.5555555555555556,
              "#d8576b"
             ],
             [
              0.6666666666666666,
              "#ed7953"
             ],
             [
              0.7777777777777778,
              "#fb9f3a"
             ],
             [
              0.8888888888888888,
              "#fdca26"
             ],
             [
              1,
              "#f0f921"
             ]
            ],
            "type": "histogram2dcontour"
           }
          ],
          "mesh3d": [
           {
            "colorbar": {
             "outlinewidth": 0,
             "ticks": ""
            },
            "type": "mesh3d"
           }
          ],
          "parcoords": [
           {
            "line": {
             "colorbar": {
              "outlinewidth": 0,
              "ticks": ""
             }
            },
            "type": "parcoords"
           }
          ],
          "pie": [
           {
            "automargin": true,
            "type": "pie"
           }
          ],
          "scatter": [
           {
            "marker": {
             "line": {
              "color": "#283442"
             }
            },
            "type": "scatter"
           }
          ],
          "scatter3d": [
           {
            "line": {
             "colorbar": {
              "outlinewidth": 0,
              "ticks": ""
             }
            },
            "marker": {
             "colorbar": {
              "outlinewidth": 0,
              "ticks": ""
             }
            },
            "type": "scatter3d"
           }
          ],
          "scattercarpet": [
           {
            "marker": {
             "colorbar": {
              "outlinewidth": 0,
              "ticks": ""
             }
            },
            "type": "scattercarpet"
           }
          ],
          "scattergeo": [
           {
            "marker": {
             "colorbar": {
              "outlinewidth": 0,
              "ticks": ""
             }
            },
            "type": "scattergeo"
           }
          ],
          "scattergl": [
           {
            "marker": {
             "line": {
              "color": "#283442"
             }
            },
            "type": "scattergl"
           }
          ],
          "scattermapbox": [
           {
            "marker": {
             "colorbar": {
              "outlinewidth": 0,
              "ticks": ""
             }
            },
            "type": "scattermapbox"
           }
          ],
          "scatterpolar": [
           {
            "marker": {
             "colorbar": {
              "outlinewidth": 0,
              "ticks": ""
             }
            },
            "type": "scatterpolar"
           }
          ],
          "scatterpolargl": [
           {
            "marker": {
             "colorbar": {
              "outlinewidth": 0,
              "ticks": ""
             }
            },
            "type": "scatterpolargl"
           }
          ],
          "scatterternary": [
           {
            "marker": {
             "colorbar": {
              "outlinewidth": 0,
              "ticks": ""
             }
            },
            "type": "scatterternary"
           }
          ],
          "surface": [
           {
            "colorbar": {
             "outlinewidth": 0,
             "ticks": ""
            },
            "colorscale": [
             [
              0,
              "#0d0887"
             ],
             [
              0.1111111111111111,
              "#46039f"
             ],
             [
              0.2222222222222222,
              "#7201a8"
             ],
             [
              0.3333333333333333,
              "#9c179e"
             ],
             [
              0.4444444444444444,
              "#bd3786"
             ],
             [
              0.5555555555555556,
              "#d8576b"
             ],
             [
              0.6666666666666666,
              "#ed7953"
             ],
             [
              0.7777777777777778,
              "#fb9f3a"
             ],
             [
              0.8888888888888888,
              "#fdca26"
             ],
             [
              1,
              "#f0f921"
             ]
            ],
            "type": "surface"
           }
          ],
          "table": [
           {
            "cells": {
             "fill": {
              "color": "#506784"
             },
             "line": {
              "color": "rgb(17,17,17)"
             }
            },
            "header": {
             "fill": {
              "color": "#2a3f5f"
             },
             "line": {
              "color": "rgb(17,17,17)"
             }
            },
            "type": "table"
           }
          ]
         },
         "layout": {
          "annotationdefaults": {
           "arrowcolor": "#f2f5fa",
           "arrowhead": 0,
           "arrowwidth": 1
          },
          "autotypenumbers": "strict",
          "coloraxis": {
           "colorbar": {
            "outlinewidth": 0,
            "ticks": ""
           }
          },
          "colorscale": {
           "diverging": [
            [
             0,
             "#8e0152"
            ],
            [
             0.1,
             "#c51b7d"
            ],
            [
             0.2,
             "#de77ae"
            ],
            [
             0.3,
             "#f1b6da"
            ],
            [
             0.4,
             "#fde0ef"
            ],
            [
             0.5,
             "#f7f7f7"
            ],
            [
             0.6,
             "#e6f5d0"
            ],
            [
             0.7,
             "#b8e186"
            ],
            [
             0.8,
             "#7fbc41"
            ],
            [
             0.9,
             "#4d9221"
            ],
            [
             1,
             "#276419"
            ]
           ],
           "sequential": [
            [
             0,
             "#0d0887"
            ],
            [
             0.1111111111111111,
             "#46039f"
            ],
            [
             0.2222222222222222,
             "#7201a8"
            ],
            [
             0.3333333333333333,
             "#9c179e"
            ],
            [
             0.4444444444444444,
             "#bd3786"
            ],
            [
             0.5555555555555556,
             "#d8576b"
            ],
            [
             0.6666666666666666,
             "#ed7953"
            ],
            [
             0.7777777777777778,
             "#fb9f3a"
            ],
            [
             0.8888888888888888,
             "#fdca26"
            ],
            [
             1,
             "#f0f921"
            ]
           ],
           "sequentialminus": [
            [
             0,
             "#0d0887"
            ],
            [
             0.1111111111111111,
             "#46039f"
            ],
            [
             0.2222222222222222,
             "#7201a8"
            ],
            [
             0.3333333333333333,
             "#9c179e"
            ],
            [
             0.4444444444444444,
             "#bd3786"
            ],
            [
             0.5555555555555556,
             "#d8576b"
            ],
            [
             0.6666666666666666,
             "#ed7953"
            ],
            [
             0.7777777777777778,
             "#fb9f3a"
            ],
            [
             0.8888888888888888,
             "#fdca26"
            ],
            [
             1,
             "#f0f921"
            ]
           ]
          },
          "colorway": [
           "#636efa",
           "#EF553B",
           "#00cc96",
           "#ab63fa",
           "#FFA15A",
           "#19d3f3",
           "#FF6692",
           "#B6E880",
           "#FF97FF",
           "#FECB52"
          ],
          "font": {
           "color": "#f2f5fa"
          },
          "geo": {
           "bgcolor": "rgb(17,17,17)",
           "lakecolor": "rgb(17,17,17)",
           "landcolor": "rgb(17,17,17)",
           "showlakes": true,
           "showland": true,
           "subunitcolor": "#506784"
          },
          "hoverlabel": {
           "align": "left"
          },
          "hovermode": "closest",
          "mapbox": {
           "style": "dark"
          },
          "paper_bgcolor": "rgb(17,17,17)",
          "plot_bgcolor": "rgb(17,17,17)",
          "polar": {
           "angularaxis": {
            "gridcolor": "#506784",
            "linecolor": "#506784",
            "ticks": ""
           },
           "bgcolor": "rgb(17,17,17)",
           "radialaxis": {
            "gridcolor": "#506784",
            "linecolor": "#506784",
            "ticks": ""
           }
          },
          "scene": {
           "xaxis": {
            "backgroundcolor": "rgb(17,17,17)",
            "gridcolor": "#506784",
            "gridwidth": 2,
            "linecolor": "#506784",
            "showbackground": true,
            "ticks": "",
            "zerolinecolor": "#C8D4E3"
           },
           "yaxis": {
            "backgroundcolor": "rgb(17,17,17)",
            "gridcolor": "#506784",
            "gridwidth": 2,
            "linecolor": "#506784",
            "showbackground": true,
            "ticks": "",
            "zerolinecolor": "#C8D4E3"
           },
           "zaxis": {
            "backgroundcolor": "rgb(17,17,17)",
            "gridcolor": "#506784",
            "gridwidth": 2,
            "linecolor": "#506784",
            "showbackground": true,
            "ticks": "",
            "zerolinecolor": "#C8D4E3"
           }
          },
          "shapedefaults": {
           "line": {
            "color": "#f2f5fa"
           }
          },
          "sliderdefaults": {
           "bgcolor": "#C8D4E3",
           "bordercolor": "rgb(17,17,17)",
           "borderwidth": 1,
           "tickwidth": 0
          },
          "ternary": {
           "aaxis": {
            "gridcolor": "#506784",
            "linecolor": "#506784",
            "ticks": ""
           },
           "baxis": {
            "gridcolor": "#506784",
            "linecolor": "#506784",
            "ticks": ""
           },
           "bgcolor": "rgb(17,17,17)",
           "caxis": {
            "gridcolor": "#506784",
            "linecolor": "#506784",
            "ticks": ""
           }
          },
          "title": {
           "x": 0.05
          },
          "updatemenudefaults": {
           "bgcolor": "#506784",
           "borderwidth": 0
          },
          "xaxis": {
           "automargin": true,
           "gridcolor": "#283442",
           "linecolor": "#506784",
           "ticks": "",
           "title": {
            "standoff": 15
           },
           "zerolinecolor": "#283442",
           "zerolinewidth": 2
          },
          "yaxis": {
           "automargin": true,
           "gridcolor": "#283442",
           "linecolor": "#506784",
           "ticks": "",
           "title": {
            "standoff": 15
           },
           "zerolinecolor": "#283442",
           "zerolinewidth": 2
          }
         }
        },
        "title": {
         "text": "Red Bull Racing Comparison (Max Verstappen vs Sergio Pérez)"
        }
       }
      }
     },
     "metadata": {},
     "output_type": "display_data"
    }
   ],
   "source": [
    "import pandas as pd\n",
    "import plotly.express as px\n",
    "import matplotlib.pyplot as plt\n",
    "\n",
    "# Filter data for the years since 2021\n",
    "red_bull_df_2021 = red_bull_df[red_bull_df['year'] >= 2021]\n",
    "\n",
    "# 1. Average starting_grid_position for Verstappen and Pérez\n",
    "avg_starting_grid = red_bull_df_2021.groupby('driver')['grid_starting_position'].mean().reset_index()\n",
    "\n",
    "# 2. Number of points vs maximum points possible\n",
    "points_data = red_bull_df_2021.groupby(['driver', 'race_name'])['points'].sum().reset_index()\n",
    "max_points_data = red_bull_df_2021.groupby(['driver', 'race_name'])['points'].max().reset_index()\n",
    "\n",
    "avg_points_ratio = points_data.groupby('driver').apply(lambda x: x['points'].sum() / x['points'].max()).reset_index(name='avg_points_ratio')\n",
    "\n",
    "# 3. Average race result\n",
    "avg_race_result = red_bull_df_2021.groupby('driver')['final_position'].mean().reset_index()\n",
    "\n",
    "# 4. Average race result (only if status = Finished)\n",
    "finished_race_data = red_bull_df_2021[red_bull_df_2021['status'] == 'Finished']\n",
    "avg_race_result_finished = finished_race_data.groupby('driver')['final_position'].mean().reset_index()\n",
    "\n",
    "# 5. Laps completed\n",
    "avg_laps_completed = red_bull_df_2021.groupby('driver')['laps'].mean().reset_index()\n",
    "\n",
    "# Combine all the data into a single DataFrame\n",
    "radar_data = pd.merge(avg_starting_grid, avg_points_ratio, on='driver')\n",
    "radar_data = pd.merge(radar_data, avg_race_result, on='driver')\n",
    "radar_data = pd.merge(radar_data, avg_race_result_finished, on='driver')\n",
    "radar_data = pd.merge(radar_data, avg_laps_completed, on='driver')\n",
    "\n",
    "radar_data = radar_data.rename(columns={'final_position_x': 'Avg Race Result', 'final_position_y': 'Avg Race Result (Finished)'})\n",
    "\n",
    "# Normalize only numeric columns\n",
    "numeric_columns = radar_data.select_dtypes(include=['number']).columns\n",
    "radar_data[numeric_columns] = radar_data[numeric_columns] / radar_data[numeric_columns].max()\n",
    "\n",
    "# Filter data for Max Verstappen and Sergio Pérez\n",
    "max_and_perez_data = radar_data[radar_data['driver'].isin(['Max Verstappen', 'Sergio Pérez'])]\n",
    "\n",
    "# Calculate average laps per race\n",
    "max_and_perez_data['avg_laps_per_race'] = max_and_perez_data['laps'] / max_and_perez_data.groupby('driver')['laps'].transform('count')\n",
    "\n",
    "# Melt the DataFrame to reshape it for the radar chart\n",
    "max_and_perez_data_melted = pd.melt(max_and_perez_data, id_vars=['driver'], value_vars=max_and_perez_data.columns[1:],\n",
    "                                    var_name='Metrics', value_name='Value')\n",
    "\n",
    "# Create a radar chart using Plotly Express\n",
    "fig = px.line_polar(\n",
    "    max_and_perez_data_melted, \n",
    "    r='Value',\n",
    "    theta='Metrics',\n",
    "    line_close=True,\n",
    "    color='driver',  # Differentiate lines by driver\n",
    "    title='Red Bull Racing Comparison (Max Verstappen vs Sergio Pérez)',\n",
    "    labels={'variable': 'Metrics', 'value': 'Value'},\n",
    "    template='plotly_dark'\n",
    ")\n",
    "\n",
    "# Show the interactive chart\n",
    "fig.show()\n"
   ]
  },
  {
   "cell_type": "code",
   "execution_count": 45,
   "metadata": {},
   "outputs": [
    {
     "data": {
      "image/png": "[encoded data removed]",
      "text/plain": [
       "<Figure size 1200x800 with 1 Axes>"
      ]
     },
     "metadata": {},
     "output_type": "display_data"
    }
   ],
   "source": [
    "# Filter for Red Bull drivers from 2014 to 2023\n",
    "red_bull_df = df[(df['constructor_name'] == 'Red Bull') & (df['year'] >= 2016) & (df['year'] <= 2023)]\n",
    "\n",
    "# Pivot the data for creating a stacked area chart\n",
    "pivot_df = red_bull_df.pivot_table(index='year', columns='driver', values='points', aggfunc='sum', fill_value=0)\n",
    "\n",
    "# Create a stacked area chart\n",
    "plt.figure(figsize=(12, 8))\n",
    "plt.stackplot(pivot_df.index, pivot_df.values.T, labels=pivot_df.columns)\n",
    "plt.title('Cumulative Points of Red Bull Drivers (2016-2023)')\n",
    "plt.xlabel('Year')\n",
    "plt.ylabel('Cumulative Points')\n",
    "plt.legend(loc='upper left')\n",
    "plt.show()"
   ]
  },
  {
   "cell_type": "markdown",
   "metadata": {},
   "source": [
    "MAX VERSTAPPEN ANALYTICS"
   ]
  },
  {
   "cell_type": "code",
   "execution_count": 46,
   "metadata": {},
   "outputs": [
    {
     "data": {
      "application/vnd.plotly.v1+json": {
       "config": {
        "plotlyServerURL": "https://plot.ly"
       },
       "data": [
        {
         "geo": "geo",
         "hovertemplate": "Wins Count=%{marker.color}<br>circuit_lat=%{lat}<br>circuit_lng=%{lon}<extra></extra>",
         "lat": [
          -37.8497,
          -23.7036,
          2.76083,
          19.4042,
          21.6319,
          24.4672,
          26.0325,
          30.1328,
          34.8431,
          40.3725,
          41.57,
          43.2506,
          43.7347,
          44.3439,
          45.5,
          45.6156,
          47.2197,
          47.5789,
          50.4372,
          52.0786,
          52.3888
         ],
         "legendgroup": "",
         "lon": [
          144.968,
          -46.6997,
          101.738,
          -99.0907,
          39.1044,
          54.6031,
          50.5106,
          -97.6411,
          136.541,
          49.8533,
          2.26111,
          5.79167,
          7.42056,
          11.7167,
          -73.5228,
          9.28111,
          14.7647,
          19.2486,
          5.97139,
          -1.01694,
          4.54092
         ],
         "marker": {
          "color": [
           1,
           1,
           1,
           4,
           1,
           2,
           1,
           2,
           1,
           1,
           2,
           1,
           2,
           1,
           2,
           1,
           2,
           1,
           1,
           1,
           1
          ],
          "coloraxis": "coloraxis",
          "size": [
           1,
           1,
           1,
           4,
           1,
           2,
           1,
           2,
           1,
           1,
           2,
           1,
           2,
           1,
           2,
           1,
           2,
           1,
           1,
           1,
           1
          ],
          "sizemode": "area",
          "sizeref": 0.0025,
          "symbol": "circle"
         },
         "mode": "markers+text",
         "name": "",
         "showlegend": false,
         "text": [
          1,
          1,
          1,
          4,
          1,
          2,
          1,
          2,
          1,
          1,
          2,
          1,
          2,
          1,
          2,
          1,
          2,
          1,
          1,
          1,
          1
         ],
         "type": "scattergeo"
        }
       ],
       "layout": {
        "coloraxis": {
         "colorbar": {
          "title": {
           "text": "Wins Count"
          }
         },
         "colorscale": [
          [
           0,
           "#440154"
          ],
          [
           0.1111111111111111,
           "#482878"
          ],
          [
           0.2222222222222222,
           "#3e4989"
          ],
          [
           0.3333333333333333,
           "#31688e"
          ],
          [
           0.4444444444444444,
           "#26828e"
          ],
          [
           0.5555555555555556,
           "#1f9e89"
          ],
          [
           0.6666666666666666,
           "#35b779"
          ],
          [
           0.7777777777777778,
           "#6ece58"
          ],
          [
           0.8888888888888888,
           "#b5de2b"
          ],
          [
           1,
           "#fde725"
          ]
         ]
        },
        "geo": {
         "center": {},
         "domain": {
          "x": [
           0,
           1
          ],
          "y": [
           0,
           1
          ]
         },
         "projection": {
          "type": "natural earth"
         }
        },
        "height": 600,
        "legend": {
         "itemsizing": "constant",
         "tracegroupgap": 0
        },
        "template": {
         "data": {
          "bar": [
           {
            "error_x": {
             "color": "#2a3f5f"
            },
            "error_y": {
             "color": "#2a3f5f"
            },
            "marker": {
             "line": {
              "color": "#E5ECF6",
              "width": 0.5
             },
             "pattern": {
              "fillmode": "overlay",
              "size": 10,
              "solidity": 0.2
             }
            },
            "type": "bar"
           }
          ],
          "barpolar": [
           {
            "marker": {
             "line": {
              "color": "#E5ECF6",
              "width": 0.5
             },
             "pattern": {
              "fillmode": "overlay",
              "size": 10,
              "solidity": 0.2
             }
            },
            "type": "barpolar"
           }
          ],
          "carpet": [
           {
            "aaxis": {
             "endlinecolor": "#2a3f5f",
             "gridcolor": "white",
             "linecolor": "white",
             "minorgridcolor": "white",
             "startlinecolor": "#2a3f5f"
            },
            "baxis": {
             "endlinecolor": "#2a3f5f",
             "gridcolor": "white",
             "linecolor": "white",
             "minorgridcolor": "white",
             "startlinecolor": "#2a3f5f"
            },
            "type": "carpet"
           }
          ],
          "choropleth": [
           {
            "colorbar": {
             "outlinewidth": 0,
             "ticks": ""
            },
            "type": "choropleth"
           }
          ],
          "contour": [
           {
            "colorbar": {
             "outlinewidth": 0,
             "ticks": ""
            },
            "colorscale": [
             [
              0,
              "#0d0887"
             ],
             [
              0.1111111111111111,
              "#46039f"
             ],
             [
              0.2222222222222222,
              "#7201a8"
             ],
             [
              0.3333333333333333,
              "#9c179e"
             ],
             [
              0.4444444444444444,
              "#bd3786"
             ],
             [
              0.5555555555555556,
              "#d8576b"
             ],
             [
              0.6666666666666666,
              "#ed7953"
             ],
             [
              0.7777777777777778,
              "#fb9f3a"
             ],
             [
              0.8888888888888888,
              "#fdca26"
             ],
             [
              1,
              "#f0f921"
             ]
            ],
            "type": "contour"
           }
          ],
          "contourcarpet": [
           {
            "colorbar": {
             "outlinewidth": 0,
             "ticks": ""
            },
            "type": "contourcarpet"
           }
          ],
          "heatmap": [
           {
            "colorbar": {
             "outlinewidth": 0,
             "ticks": ""
            },
            "colorscale": [
             [
              0,
              "#0d0887"
             ],
             [
              0.1111111111111111,
              "#46039f"
             ],
             [
              0.2222222222222222,
              "#7201a8"
             ],
             [
              0.3333333333333333,
              "#9c179e"
             ],
             [
              0.4444444444444444,
              "#bd3786"
             ],
             [
              0.5555555555555556,
              "#d8576b"
             ],
             [
              0.6666666666666666,
              "#ed7953"
             ],
             [
              0.7777777777777778,
              "#fb9f3a"
             ],
             [
              0.8888888888888888,
              "#fdca26"
             ],
             [
              1,
              "#f0f921"
             ]
            ],
            "type": "heatmap"
           }
          ],
          "heatmapgl": [
           {
            "colorbar": {
             "outlinewidth": 0,
             "ticks": ""
            },
            "colorscale": [
             [
              0,
              "#0d0887"
             ],
             [
              0.1111111111111111,
              "#46039f"
             ],
             [
              0.2222222222222222,
              "#7201a8"
             ],
             [
              0.3333333333333333,
              "#9c179e"
             ],
             [
              0.4444444444444444,
              "#bd3786"
             ],
             [
              0.5555555555555556,
              "#d8576b"
             ],
             [
              0.6666666666666666,
              "#ed7953"
             ],
             [
              0.7777777777777778,
              "#fb9f3a"
             ],
             [
              0.8888888888888888,
              "#fdca26"
             ],
             [
              1,
              "#f0f921"
             ]
            ],
            "type": "heatmapgl"
           }
          ],
          "histogram": [
           {
            "marker": {
             "pattern": {
              "fillmode": "overlay",
              "size": 10,
              "solidity": 0.2
             }
            },
            "type": "histogram"
           }
          ],
          "histogram2d": [
           {
            "colorbar": {
             "outlinewidth": 0,
             "ticks": ""
            },
            "colorscale": [
             [
              0,
              "#0d0887"
             ],
             [
              0.1111111111111111,
              "#46039f"
             ],
             [
              0.2222222222222222,
              "#7201a8"
             ],
             [
              0.3333333333333333,
              "#9c179e"
             ],
             [
              0.4444444444444444,
              "#bd3786"
             ],
             [
              0.5555555555555556,
              "#d8576b"
             ],
             [
              0.6666666666666666,
              "#ed7953"
             ],
             [
              0.7777777777777778,
              "#fb9f3a"
             ],
             [
              0.8888888888888888,
              "#fdca26"
             ],
             [
              1,
              "#f0f921"
             ]
            ],
            "type": "histogram2d"
           }
          ],
          "histogram2dcontour": [
           {
            "colorbar": {
             "outlinewidth": 0,
             "ticks": ""
            },
            "colorscale": [
             [
              0,
              "#0d0887"
             ],
             [
              0.1111111111111111,
              "#46039f"
             ],
             [
              0.2222222222222222,
              "#7201a8"
             ],
             [
              0.3333333333333333,
              "#9c179e"
             ],
             [
              0.4444444444444444,
              "#bd3786"
             ],
             [
              0.5555555555555556,
              "#d8576b"
             ],
             [
              0.6666666666666666,
              "#ed7953"
             ],
             [
              0.7777777777777778,
              "#fb9f3a"
             ],
             [
              0.8888888888888888,
              "#fdca26"
             ],
             [
              1,
              "#f0f921"
             ]
            ],
            "type": "histogram2dcontour"
           }
          ],
          "mesh3d": [
           {
            "colorbar": {
             "outlinewidth": 0,
             "ticks": ""
            },
            "type": "mesh3d"
           }
          ],
          "parcoords": [
           {
            "line": {
             "colorbar": {
              "outlinewidth": 0,
              "ticks": ""
             }
            },
            "type": "parcoords"
           }
          ],
          "pie": [
           {
            "automargin": true,
            "type": "pie"
           }
          ],
          "scatter": [
           {
            "fillpattern": {
             "fillmode": "overlay",
             "size": 10,
             "solidity": 0.2
            },
            "type": "scatter"
           }
          ],
          "scatter3d": [
           {
            "line": {
             "colorbar": {
              "outlinewidth": 0,
              "ticks": ""
             }
            },
            "marker": {
             "colorbar": {
              "outlinewidth": 0,
              "ticks": ""
             }
            },
            "type": "scatter3d"
           }
          ],
          "scattercarpet": [
           {
            "marker": {
             "colorbar": {
              "outlinewidth": 0,
              "ticks": ""
             }
            },
            "type": "scattercarpet"
           }
          ],
          "scattergeo": [
           {
            "marker": {
             "colorbar": {
              "outlinewidth": 0,
              "ticks": ""
             }
            },
            "type": "scattergeo"
           }
          ],
          "scattergl": [
           {
            "marker": {
             "colorbar": {
              "outlinewidth": 0,
              "ticks": ""
             }
            },
            "type": "scattergl"
           }
          ],
          "scattermapbox": [
           {
            "marker": {
             "colorbar": {
              "outlinewidth": 0,
              "ticks": ""
             }
            },
            "type": "scattermapbox"
           }
          ],
          "scatterpolar": [
           {
            "marker": {
             "colorbar": {
              "outlinewidth": 0,
              "ticks": ""
             }
            },
            "type": "scatterpolar"
           }
          ],
          "scatterpolargl": [
           {
            "marker": {
             "colorbar": {
              "outlinewidth": 0,
              "ticks": ""
             }
            },
            "type": "scatterpolargl"
           }
          ],
          "scatterternary": [
           {
            "marker": {
             "colorbar": {
              "outlinewidth": 0,
              "ticks": ""
             }
            },
            "type": "scatterternary"
           }
          ],
          "surface": [
           {
            "colorbar": {
             "outlinewidth": 0,
             "ticks": ""
            },
            "colorscale": [
             [
              0,
              "#0d0887"
             ],
             [
              0.1111111111111111,
              "#46039f"
             ],
             [
              0.2222222222222222,
              "#7201a8"
             ],
             [
              0.3333333333333333,
              "#9c179e"
             ],
             [
              0.4444444444444444,
              "#bd3786"
             ],
             [
              0.5555555555555556,
              "#d8576b"
             ],
             [
              0.6666666666666666,
              "#ed7953"
             ],
             [
              0.7777777777777778,
              "#fb9f3a"
             ],
             [
              0.8888888888888888,
              "#fdca26"
             ],
             [
              1,
              "#f0f921"
             ]
            ],
            "type": "surface"
           }
          ],
          "table": [
           {
            "cells": {
             "fill": {
              "color": "#EBF0F8"
             },
             "line": {
              "color": "white"
             }
            },
            "header": {
             "fill": {
              "color": "#C8D4E3"
             },
             "line": {
              "color": "white"
             }
            },
            "type": "table"
           }
          ]
         },
         "layout": {
          "annotationdefaults": {
           "arrowcolor": "#2a3f5f",
           "arrowhead": 0,
           "arrowwidth": 1
          },
          "autotypenumbers": "strict",
          "coloraxis": {
           "colorbar": {
            "outlinewidth": 0,
            "ticks": ""
           }
          },
          "colorscale": {
           "diverging": [
            [
             0,
             "#8e0152"
            ],
            [
             0.1,
             "#c51b7d"
            ],
            [
             0.2,
             "#de77ae"
            ],
            [
             0.3,
             "#f1b6da"
            ],
            [
             0.4,
             "#fde0ef"
            ],
            [
             0.5,
             "#f7f7f7"
            ],
            [
             0.6,
             "#e6f5d0"
            ],
            [
             0.7,
             "#b8e186"
            ],
            [
             0.8,
             "#7fbc41"
            ],
            [
             0.9,
             "#4d9221"
            ],
            [
             1,
             "#276419"
            ]
           ],
           "sequential": [
            [
             0,
             "#0d0887"
            ],
            [
             0.1111111111111111,
             "#46039f"
            ],
            [
             0.2222222222222222,
             "#7201a8"
            ],
            [
             0.3333333333333333,
             "#9c179e"
            ],
            [
             0.4444444444444444,
             "#bd3786"
            ],
            [
             0.5555555555555556,
             "#d8576b"
            ],
            [
             0.6666666666666666,
             "#ed7953"
            ],
            [
             0.7777777777777778,
             "#fb9f3a"
            ],
            [
             0.8888888888888888,
             "#fdca26"
            ],
            [
             1,
             "#f0f921"
            ]
           ],
           "sequentialminus": [
            [
             0,
             "#0d0887"
            ],
            [
             0.1111111111111111,
             "#46039f"
            ],
            [
             0.2222222222222222,
             "#7201a8"
            ],
            [
             0.3333333333333333,
             "#9c179e"
            ],
            [
             0.4444444444444444,
             "#bd3786"
            ],
            [
             0.5555555555555556,
             "#d8576b"
            ],
            [
             0.6666666666666666,
             "#ed7953"
            ],
            [
             0.7777777777777778,
             "#fb9f3a"
            ],
            [
             0.8888888888888888,
             "#fdca26"
            ],
            [
             1,
             "#f0f921"
            ]
           ]
          },
          "colorway": [
           "#636efa",
           "#EF553B",
           "#00cc96",
           "#ab63fa",
           "#FFA15A",
           "#19d3f3",
           "#FF6692",
           "#B6E880",
           "#FF97FF",
           "#FECB52"
          ],
          "font": {
           "color": "#2a3f5f"
          },
          "geo": {
           "bgcolor": "white",
           "lakecolor": "white",
           "landcolor": "#E5ECF6",
           "showlakes": true,
           "showland": true,
           "subunitcolor": "white"
          },
          "hoverlabel": {
           "align": "left"
          },
          "hovermode": "closest",
          "mapbox": {
           "style": "light"
          },
          "paper_bgcolor": "white",
          "plot_bgcolor": "#E5ECF6",
          "polar": {
           "angularaxis": {
            "gridcolor": "white",
            "linecolor": "white",
            "ticks": ""
           },
           "bgcolor": "#E5ECF6",
           "radialaxis": {
            "gridcolor": "white",
            "linecolor": "white",
            "ticks": ""
           }
          },
          "scene": {
           "xaxis": {
            "backgroundcolor": "#E5ECF6",
            "gridcolor": "white",
            "gridwidth": 2,
            "linecolor": "white",
            "showbackground": true,
            "ticks": "",
            "zerolinecolor": "white"
           },
           "yaxis": {
            "backgroundcolor": "#E5ECF6",
            "gridcolor": "white",
            "gridwidth": 2,
            "linecolor": "white",
            "showbackground": true,
            "ticks": "",
            "zerolinecolor": "white"
           },
           "zaxis": {
            "backgroundcolor": "#E5ECF6",
            "gridcolor": "white",
            "gridwidth": 2,
            "linecolor": "white",
            "showbackground": true,
            "ticks": "",
            "zerolinecolor": "white"
           }
          },
          "shapedefaults": {
           "line": {
            "color": "#2a3f5f"
           }
          },
          "ternary": {
           "aaxis": {
            "gridcolor": "white",
            "linecolor": "white",
            "ticks": ""
           },
           "baxis": {
            "gridcolor": "white",
            "linecolor": "white",
            "ticks": ""
           },
           "bgcolor": "#E5ECF6",
           "caxis": {
            "gridcolor": "white",
            "linecolor": "white",
            "ticks": ""
           }
          },
          "title": {
           "x": 0.05
          },
          "xaxis": {
           "automargin": true,
           "gridcolor": "white",
           "linecolor": "white",
           "ticks": "",
           "title": {
            "standoff": 15
           },
           "zerolinecolor": "white",
           "zerolinewidth": 2
          },
          "yaxis": {
           "automargin": true,
           "gridcolor": "white",
           "linecolor": "white",
           "ticks": "",
           "title": {
            "standoff": 15
           },
           "zerolinecolor": "white",
           "zerolinewidth": 2
          }
         }
        },
        "title": {
         "text": "Max Verstappen wins around the World"
        },
        "width": 1000
       }
      }
     },
     "metadata": {},
     "output_type": "display_data"
    }
   ],
   "source": [
    "import plotly.express as px\n",
    "\n",
    "file_path = 'f1_data.csv'\n",
    "red_bull_df = pd.read_csv(file_path)\n",
    "\n",
    "# Filter rows for Max Verstappen wins\n",
    "max_wins_df = red_bull_df[(red_bull_df['driver'] == 'Max Verstappen') & (red_bull_df['points'] == 25)]\n",
    "\n",
    "# Count the number of wins for each location\n",
    "wins_count = max_wins_df.groupby(['circuit_lat', 'circuit_lng']).size().reset_index(name='wins_count')\n",
    "\n",
    "# Create a map using Plotly Express\n",
    "fig = px.scatter_geo(wins_count, \n",
    "                     lat='circuit_lat', \n",
    "                     lon='circuit_lng', \n",
    "                     text='wins_count',\n",
    "                     color='wins_count',  # Color based on the number of wins\n",
    "                     color_continuous_scale='viridis',  # Change the color scale to 'viridis'\n",
    "                     title='Max Verstappen wins around the World',\n",
    "                     labels={'wins_count': 'Wins Count'},\n",
    "                     size='wins_count',  # Adjust the marker size based on the wins count\n",
    "                     size_max=40,  # Increase the maximum marker size\n",
    "                     projection='natural earth')\n",
    "\n",
    "# Update layout to increase the size of the entire plot\n",
    "fig.update_layout(width=1000, height=600)\n",
    "\n",
    "# Show the interactive map\n",
    "fig.show()\n"
   ]
  },
  {
   "cell_type": "code",
   "execution_count": 47,
   "metadata": {},
   "outputs": [
    {
     "data": {
      "application/vnd.plotly.v1+json": {
       "config": {
        "plotlyServerURL": "https://plot.ly"
       },
       "data": [
        {
         "alignmentgroup": "True",
         "hovertemplate": "Grid Starting Position=%{x}<br>Number of Wins=%{marker.color}<extra></extra>",
         "legendgroup": "",
         "marker": {
          "color": [
           13,
           6,
           4,
           4,
           1,
           1,
           1
          ],
          "coloraxis": "coloraxis",
          "pattern": {
           "shape": ""
          }
         },
         "name": "",
         "offsetgroup": "",
         "orientation": "v",
         "showlegend": false,
         "textposition": "auto",
         "type": "bar",
         "x": [
          1,
          2,
          4,
          3,
          10,
          7,
          6
         ],
         "xaxis": "x",
         "y": [
          13,
          6,
          4,
          4,
          1,
          1,
          1
         ],
         "yaxis": "y"
        }
       ],
       "layout": {
        "barmode": "relative",
        "coloraxis": {
         "colorbar": {
          "title": {
           "text": "Number of Wins"
          }
         },
         "colorscale": [
          [
           0,
           "#440154"
          ],
          [
           0.1111111111111111,
           "#482878"
          ],
          [
           0.2222222222222222,
           "#3e4989"
          ],
          [
           0.3333333333333333,
           "#31688e"
          ],
          [
           0.4444444444444444,
           "#26828e"
          ],
          [
           0.5555555555555556,
           "#1f9e89"
          ],
          [
           0.6666666666666666,
           "#35b779"
          ],
          [
           0.7777777777777778,
           "#6ece58"
          ],
          [
           0.8888888888888888,
           "#b5de2b"
          ],
          [
           1,
           "#fde725"
          ]
         ]
        },
        "height": 500,
        "legend": {
         "tracegroupgap": 0
        },
        "template": {
         "data": {
          "bar": [
           {
            "error_x": {
             "color": "#2a3f5f"
            },
            "error_y": {
             "color": "#2a3f5f"
            },
            "marker": {
             "line": {
              "color": "#E5ECF6",
              "width": 0.5
             },
             "pattern": {
              "fillmode": "overlay",
              "size": 10,
              "solidity": 0.2
             }
            },
            "type": "bar"
           }
          ],
          "barpolar": [
           {
            "marker": {
             "line": {
              "color": "#E5ECF6",
              "width": 0.5
             },
             "pattern": {
              "fillmode": "overlay",
              "size": 10,
              "solidity": 0.2
             }
            },
            "type": "barpolar"
           }
          ],
          "carpet": [
           {
            "aaxis": {
             "endlinecolor": "#2a3f5f",
             "gridcolor": "white",
             "linecolor": "white",
             "minorgridcolor": "white",
             "startlinecolor": "#2a3f5f"
            },
            "baxis": {
             "endlinecolor": "#2a3f5f",
             "gridcolor": "white",
             "linecolor": "white",
             "minorgridcolor": "white",
             "startlinecolor": "#2a3f5f"
            },
            "type": "carpet"
           }
          ],
          "choropleth": [
           {
            "colorbar": {
             "outlinewidth": 0,
             "ticks": ""
            },
            "type": "choropleth"
           }
          ],
          "contour": [
           {
            "colorbar": {
             "outlinewidth": 0,
             "ticks": ""
            },
            "colorscale": [
             [
              0,
              "#0d0887"
             ],
             [
              0.1111111111111111,
              "#46039f"
             ],
             [
              0.2222222222222222,
              "#7201a8"
             ],
             [
              0.3333333333333333,
              "#9c179e"
             ],
             [
              0.4444444444444444,
              "#bd3786"
             ],
             [
              0.5555555555555556,
              "#d8576b"
             ],
             [
              0.6666666666666666,
              "#ed7953"
             ],
             [
              0.7777777777777778,
              "#fb9f3a"
             ],
             [
              0.8888888888888888,
              "#fdca26"
             ],
             [
              1,
              "#f0f921"
             ]
            ],
            "type": "contour"
           }
          ],
          "contourcarpet": [
           {
            "colorbar": {
             "outlinewidth": 0,
             "ticks": ""
            },
            "type": "contourcarpet"
           }
          ],
          "heatmap": [
           {
            "colorbar": {
             "outlinewidth": 0,
             "ticks": ""
            },
            "colorscale": [
             [
              0,
              "#0d0887"
             ],
             [
              0.1111111111111111,
              "#46039f"
             ],
             [
              0.2222222222222222,
              "#7201a8"
             ],
             [
              0.3333333333333333,
              "#9c179e"
             ],
             [
              0.4444444444444444,
              "#bd3786"
             ],
             [
              0.5555555555555556,
              "#d8576b"
             ],
             [
              0.6666666666666666,
              "#ed7953"
             ],
             [
              0.7777777777777778,
              "#fb9f3a"
             ],
             [
              0.8888888888888888,
              "#fdca26"
             ],
             [
              1,
              "#f0f921"
             ]
            ],
            "type": "heatmap"
           }
          ],
          "heatmapgl": [
           {
            "colorbar": {
             "outlinewidth": 0,
             "ticks": ""
            },
            "colorscale": [
             [
              0,
              "#0d0887"
             ],
             [
              0.1111111111111111,
              "#46039f"
             ],
             [
              0.2222222222222222,
              "#7201a8"
             ],
             [
              0.3333333333333333,
              "#9c179e"
             ],
             [
              0.4444444444444444,
              "#bd3786"
             ],
             [
              0.5555555555555556,
              "#d8576b"
             ],
             [
              0.6666666666666666,
              "#ed7953"
             ],
             [
              0.7777777777777778,
              "#fb9f3a"
             ],
             [
              0.8888888888888888,
              "#fdca26"
             ],
             [
              1,
              "#f0f921"
             ]
            ],
            "type": "heatmapgl"
           }
          ],
          "histogram": [
           {
            "marker": {
             "pattern": {
              "fillmode": "overlay",
              "size": 10,
              "solidity": 0.2
             }
            },
            "type": "histogram"
           }
          ],
          "histogram2d": [
           {
            "colorbar": {
             "outlinewidth": 0,
             "ticks": ""
            },
            "colorscale": [
             [
              0,
              "#0d0887"
             ],
             [
              0.1111111111111111,
              "#46039f"
             ],
             [
              0.2222222222222222,
              "#7201a8"
             ],
             [
              0.3333333333333333,
              "#9c179e"
             ],
             [
              0.4444444444444444,
              "#bd3786"
             ],
             [
              0.5555555555555556,
              "#d8576b"
             ],
             [
              0.6666666666666666,
              "#ed7953"
             ],
             [
              0.7777777777777778,
              "#fb9f3a"
             ],
             [
              0.8888888888888888,
              "#fdca26"
             ],
             [
              1,
              "#f0f921"
             ]
            ],
            "type": "histogram2d"
           }
          ],
          "histogram2dcontour": [
           {
            "colorbar": {
             "outlinewidth": 0,
             "ticks": ""
            },
            "colorscale": [
             [
              0,
              "#0d0887"
             ],
             [
              0.1111111111111111,
              "#46039f"
             ],
             [
              0.2222222222222222,
              "#7201a8"
             ],
             [
              0.3333333333333333,
              "#9c179e"
             ],
             [
              0.4444444444444444,
              "#bd3786"
             ],
             [
              0.5555555555555556,
              "#d8576b"
             ],
             [
              0.6666666666666666,
              "#ed7953"
             ],
             [
              0.7777777777777778,
              "#fb9f3a"
             ],
             [
              0.8888888888888888,
              "#fdca26"
             ],
             [
              1,
              "#f0f921"
             ]
            ],
            "type": "histogram2dcontour"
           }
          ],
          "mesh3d": [
           {
            "colorbar": {
             "outlinewidth": 0,
             "ticks": ""
            },
            "type": "mesh3d"
           }
          ],
          "parcoords": [
           {
            "line": {
             "colorbar": {
              "outlinewidth": 0,
              "ticks": ""
             }
            },
            "type": "parcoords"
           }
          ],
          "pie": [
           {
            "automargin": true,
            "type": "pie"
           }
          ],
          "scatter": [
           {
            "fillpattern": {
             "fillmode": "overlay",
             "size": 10,
             "solidity": 0.2
            },
            "type": "scatter"
           }
          ],
          "scatter3d": [
           {
            "line": {
             "colorbar": {
              "outlinewidth": 0,
              "ticks": ""
             }
            },
            "marker": {
             "colorbar": {
              "outlinewidth": 0,
              "ticks": ""
             }
            },
            "type": "scatter3d"
           }
          ],
          "scattercarpet": [
           {
            "marker": {
             "colorbar": {
              "outlinewidth": 0,
              "ticks": ""
             }
            },
            "type": "scattercarpet"
           }
          ],
          "scattergeo": [
           {
            "marker": {
             "colorbar": {
              "outlinewidth": 0,
              "ticks": ""
             }
            },
            "type": "scattergeo"
           }
          ],
          "scattergl": [
           {
            "marker": {
             "colorbar": {
              "outlinewidth": 0,
              "ticks": ""
             }
            },
            "type": "scattergl"
           }
          ],
          "scattermapbox": [
           {
            "marker": {
             "colorbar": {
              "outlinewidth": 0,
              "ticks": ""
             }
            },
            "type": "scattermapbox"
           }
          ],
          "scatterpolar": [
           {
            "marker": {
             "colorbar": {
              "outlinewidth": 0,
              "ticks": ""
             }
            },
            "type": "scatterpolar"
           }
          ],
          "scatterpolargl": [
           {
            "marker": {
             "colorbar": {
              "outlinewidth": 0,
              "ticks": ""
             }
            },
            "type": "scatterpolargl"
           }
          ],
          "scatterternary": [
           {
            "marker": {
             "colorbar": {
              "outlinewidth": 0,
              "ticks": ""
             }
            },
            "type": "scatterternary"
           }
          ],
          "surface": [
           {
            "colorbar": {
             "outlinewidth": 0,
             "ticks": ""
            },
            "colorscale": [
             [
              0,
              "#0d0887"
             ],
             [
              0.1111111111111111,
              "#46039f"
             ],
             [
              0.2222222222222222,
              "#7201a8"
             ],
             [
              0.3333333333333333,
              "#9c179e"
             ],
             [
              0.4444444444444444,
              "#bd3786"
             ],
             [
              0.5555555555555556,
              "#d8576b"
             ],
             [
              0.6666666666666666,
              "#ed7953"
             ],
             [
              0.7777777777777778,
              "#fb9f3a"
             ],
             [
              0.8888888888888888,
              "#fdca26"
             ],
             [
              1,
              "#f0f921"
             ]
            ],
            "type": "surface"
           }
          ],
          "table": [
           {
            "cells": {
             "fill": {
              "color": "#EBF0F8"
             },
             "line": {
              "color": "white"
             }
            },
            "header": {
             "fill": {
              "color": "#C8D4E3"
             },
             "line": {
              "color": "white"
             }
            },
            "type": "table"
           }
          ]
         },
         "layout": {
          "annotationdefaults": {
           "arrowcolor": "#2a3f5f",
           "arrowhead": 0,
           "arrowwidth": 1
          },
          "autotypenumbers": "strict",
          "coloraxis": {
           "colorbar": {
            "outlinewidth": 0,
            "ticks": ""
           }
          },
          "colorscale": {
           "diverging": [
            [
             0,
             "#8e0152"
            ],
            [
             0.1,
             "#c51b7d"
            ],
            [
             0.2,
             "#de77ae"
            ],
            [
             0.3,
             "#f1b6da"
            ],
            [
             0.4,
             "#fde0ef"
            ],
            [
             0.5,
             "#f7f7f7"
            ],
            [
             0.6,
             "#e6f5d0"
            ],
            [
             0.7,
             "#b8e186"
            ],
            [
             0.8,
             "#7fbc41"
            ],
            [
             0.9,
             "#4d9221"
            ],
            [
             1,
             "#276419"
            ]
           ],
           "sequential": [
            [
             0,
             "#0d0887"
            ],
            [
             0.1111111111111111,
             "#46039f"
            ],
            [
             0.2222222222222222,
             "#7201a8"
            ],
            [
             0.3333333333333333,
             "#9c179e"
            ],
            [
             0.4444444444444444,
             "#bd3786"
            ],
            [
             0.5555555555555556,
             "#d8576b"
            ],
            [
             0.6666666666666666,
             "#ed7953"
            ],
            [
             0.7777777777777778,
             "#fb9f3a"
            ],
            [
             0.8888888888888888,
             "#fdca26"
            ],
            [
             1,
             "#f0f921"
            ]
           ],
           "sequentialminus": [
            [
             0,
             "#0d0887"
            ],
            [
             0.1111111111111111,
             "#46039f"
            ],
            [
             0.2222222222222222,
             "#7201a8"
            ],
            [
             0.3333333333333333,
             "#9c179e"
            ],
            [
             0.4444444444444444,
             "#bd3786"
            ],
            [
             0.5555555555555556,
             "#d8576b"
            ],
            [
             0.6666666666666666,
             "#ed7953"
            ],
            [
             0.7777777777777778,
             "#fb9f3a"
            ],
            [
             0.8888888888888888,
             "#fdca26"
            ],
            [
             1,
             "#f0f921"
            ]
           ]
          },
          "colorway": [
           "#636efa",
           "#EF553B",
           "#00cc96",
           "#ab63fa",
           "#FFA15A",
           "#19d3f3",
           "#FF6692",
           "#B6E880",
           "#FF97FF",
           "#FECB52"
          ],
          "font": {
           "color": "#2a3f5f"
          },
          "geo": {
           "bgcolor": "white",
           "lakecolor": "white",
           "landcolor": "#E5ECF6",
           "showlakes": true,
           "showland": true,
           "subunitcolor": "white"
          },
          "hoverlabel": {
           "align": "left"
          },
          "hovermode": "closest",
          "mapbox": {
           "style": "light"
          },
          "paper_bgcolor": "white",
          "plot_bgcolor": "#E5ECF6",
          "polar": {
           "angularaxis": {
            "gridcolor": "white",
            "linecolor": "white",
            "ticks": ""
           },
           "bgcolor": "#E5ECF6",
           "radialaxis": {
            "gridcolor": "white",
            "linecolor": "white",
            "ticks": ""
           }
          },
          "scene": {
           "xaxis": {
            "backgroundcolor": "#E5ECF6",
            "gridcolor": "white",
            "gridwidth": 2,
            "linecolor": "white",
            "showbackground": true,
            "ticks": "",
            "zerolinecolor": "white"
           },
           "yaxis": {
            "backgroundcolor": "#E5ECF6",
            "gridcolor": "white",
            "gridwidth": 2,
            "linecolor": "white",
            "showbackground": true,
            "ticks": "",
            "zerolinecolor": "white"
           },
           "zaxis": {
            "backgroundcolor": "#E5ECF6",
            "gridcolor": "white",
            "gridwidth": 2,
            "linecolor": "white",
            "showbackground": true,
            "ticks": "",
            "zerolinecolor": "white"
           }
          },
          "shapedefaults": {
           "line": {
            "color": "#2a3f5f"
           }
          },
          "ternary": {
           "aaxis": {
            "gridcolor": "white",
            "linecolor": "white",
            "ticks": ""
           },
           "baxis": {
            "gridcolor": "white",
            "linecolor": "white",
            "ticks": ""
           },
           "bgcolor": "#E5ECF6",
           "caxis": {
            "gridcolor": "white",
            "linecolor": "white",
            "ticks": ""
           }
          },
          "title": {
           "x": 0.05
          },
          "xaxis": {
           "automargin": true,
           "gridcolor": "white",
           "linecolor": "white",
           "ticks": "",
           "title": {
            "standoff": 15
           },
           "zerolinecolor": "white",
           "zerolinewidth": 2
          },
          "yaxis": {
           "automargin": true,
           "gridcolor": "white",
           "linecolor": "white",
           "ticks": "",
           "title": {
            "standoff": 15
           },
           "zerolinecolor": "white",
           "zerolinewidth": 2
          }
         }
        },
        "title": {
         "text": "Max Verstappen Wins by Starting Position"
        },
        "width": 800,
        "xaxis": {
         "anchor": "y",
         "domain": [
          0,
          1
         ],
         "title": {
          "text": "Grid Starting Position"
         }
        },
        "yaxis": {
         "anchor": "x",
         "domain": [
          0,
          1
         ],
         "title": {
          "text": "Number of Wins"
         }
        }
       }
      }
     },
     "metadata": {},
     "output_type": "display_data"
    }
   ],
   "source": [
    "import plotly.express as px\n",
    "\n",
    "# Assuming you have a CSV file named 'your_dataset.csv' containing the necessary data\n",
    "file_path = 'f1_data.csv'\n",
    "red_bull_df = pd.read_csv(file_path)\n",
    "\n",
    "# Filter rows for Max Verstappen wins\n",
    "max_wins_df = red_bull_df[(red_bull_df['driver'] == 'Max Verstappen') & (red_bull_df['points'] == 25)]\n",
    "\n",
    "# Count the number of wins for each starting position\n",
    "wins_by_starting_position = max_wins_df['grid_starting_position'].value_counts().reset_index()\n",
    "wins_by_starting_position.columns = ['Starting Position', 'Wins']\n",
    "\n",
    "# Create a bar chart using Plotly Express\n",
    "fig = px.bar(wins_by_starting_position, \n",
    "             x='Starting Position', \n",
    "             y='Wins',\n",
    "             title='Max Verstappen Wins by Starting Position',\n",
    "             labels={'Wins': 'Number of Wins', 'Starting Position': 'Grid Starting Position'},\n",
    "             color='Wins',  # Color bars based on the number of wins\n",
    "             color_continuous_scale='viridis',  # Change the color scale to 'viridis'\n",
    "             width=800, height=500)\n",
    "\n",
    "# Show the interactive chart\n",
    "fig.show()\n"
   ]
  },
  {
   "cell_type": "code",
   "execution_count": 48,
   "metadata": {},
   "outputs": [
    {
     "name": "stdout",
     "output_type": "stream",
     "text": [
      "                   race_name   race_date     status\n",
      "22649      Monaco Grand Prix  2015-05-24   Accident\n",
      "23039      Monaco Grand Prix  2016-05-29   Accident\n",
      "23655   Singapore Grand Prix  2017-09-17   Accident\n",
      "23852  Azerbaijan Grand Prix  2018-04-29  Collision\n",
      "24459     Belgian Grand Prix  2019-09-01   Accident\n",
      "24798      Tuscan Grand Prix  2020-09-13  Collision\n",
      "24938      Sakhir Grand Prix  2020-12-06   Accident\n",
      "25077  Azerbaijan Grand Prix  2021-06-06   Accident\n",
      "25159     British Grand Prix  2021-07-18  Collision\n",
      "25237     Italian Grand Prix  2021-09-12  Collision\n"
     ]
    }
   ],
   "source": [
    "# Filter data for Max Verstappen's accidents and collisions in 2015\n",
    "max_accidents_2015 = df[(df['driver'] == 'Max Verstappen') & \n",
    "                        (df['status'].isin(['Accident', 'Collision'])) & \n",
    "                        (df['year'] >= 2015)]\n",
    "\n",
    "# Display the relevant information for accidents and collisions in 2015\n",
    "print(max_accidents_2015[['race_name', 'race_date', 'status']])\n"
   ]
  },
  {
   "cell_type": "code",
   "execution_count": 49,
   "metadata": {},
   "outputs": [
    {
     "name": "stdout",
     "output_type": "stream",
     "text": [
      "Total number of races: 175\n",
      "Retirements due to accidents or collisions: 10\n",
      "Retirement Rate: 5.71%\n"
     ]
    }
   ],
   "source": [
    "\n",
    "# Filter data for Max Verstappen's races in 2015 onwards\n",
    "max_races_2015 = df[(df['driver'] == 'Max Verstappen') & (df['year'] >= 2015)]\n",
    "\n",
    "# Filter data for Max Verstappen's retirements due to accidents or collisions in 2015 onwards\n",
    "max_retirements_2015 = df[(df['driver'] == 'Max Verstappen') & \n",
    "                           (df['status'].isin(['Accident', 'Collision'])) & \n",
    "                           (df['year'] >= 2015)]\n",
    "\n",
    "# Calculate the retirement rate\n",
    "total_races = len(max_races_2015)\n",
    "retirements_due_to_accidents_collisions = len(max_retirements_2015)\n",
    "\n",
    "retirement_rate = retirements_due_to_accidents_collisions / total_races\n",
    "\n",
    "print(f\"Total number of races: {total_races}\")\n",
    "print(f\"Retirements due to accidents or collisions: {retirements_due_to_accidents_collisions}\")\n",
    "print(f\"Retirement Rate: {retirement_rate:.2%}\")"
   ]
  },
  {
   "cell_type": "code",
   "execution_count": 52,
   "metadata": {},
   "outputs": [
    {
     "name": "stdout",
     "output_type": "stream",
     "text": [
      "Track with the most accidents or collisions since 2015:\n",
      "Track Name: Baku City Circuit\n",
      "Number of Accidents or Collisions: 2\n"
     ]
    },
    {
     "data": {
      "text/html": [
       "<div>\n",
       "<style scoped>\n",
       "    .dataframe tbody tr th:only-of-type {\n",
       "        vertical-align: middle;\n",
       "    }\n",
       "\n",
       "    .dataframe tbody tr th {\n",
       "        vertical-align: top;\n",
       "    }\n",
       "\n",
       "    .dataframe thead th {\n",
       "        text-align: right;\n",
       "    }\n",
       "</style>\n",
       "<table border=\"1\" class=\"dataframe\">\n",
       "  <thead>\n",
       "    <tr style=\"text-align: right;\">\n",
       "      <th></th>\n",
       "      <th>circuit_name</th>\n",
       "      <th>status</th>\n",
       "    </tr>\n",
       "  </thead>\n",
       "  <tbody>\n",
       "    <tr>\n",
       "      <th>3</th>\n",
       "      <td>Baku City Circuit</td>\n",
       "      <td>2</td>\n",
       "    </tr>\n",
       "    <tr>\n",
       "      <th>4</th>\n",
       "      <td>Circuit de Monaco</td>\n",
       "      <td>2</td>\n",
       "    </tr>\n",
       "  </tbody>\n",
       "</table>\n",
       "</div>"
      ],
      "text/plain": [
       "        circuit_name  status\n",
       "3  Baku City Circuit       2\n",
       "4  Circuit de Monaco       2"
      ]
     },
     "execution_count": 52,
     "metadata": {},
     "output_type": "execute_result"
    }
   ],
   "source": [
    "# Filter data for Max Verstappen's accidents and collisions since 2015\n",
    "max_accidents_collisions_since_2015 = df[(df['driver'] == 'Max Verstappen') & \n",
    "                                          (df['status'].isin(['Accident', 'Collision'])) & \n",
    "                                          (df['year'] >= 2015)]\n",
    "\n",
    "# Group by circuit and count the number of accidents or collisions\n",
    "accidents_collisions_by_track = max_accidents_collisions_since_2015.groupby('circuit_name')['status'].count().reset_index()\n",
    "\n",
    "# Find the track with the most accidents or collisions\n",
    "most_dangerous_track = accidents_collisions_by_track.loc[accidents_collisions_by_track['status'].idxmax()]\n",
    "\n",
    "print(\"Track with the most accidents or collisions since 2015:\")\n",
    "print(f\"Track Name: {most_dangerous_track['circuit_name']}\")\n",
    "print(f\"Number of Accidents or Collisions: {most_dangerous_track['status']}\")\n",
    "\n",
    "accidents_collisions_by_track.sort_values(by='status', ascending=False).head(2)\n"
   ]
  },
  {
   "cell_type": "code",
   "execution_count": null,
   "metadata": {},
   "outputs": [],
   "source": []
  }
 ],
 "metadata": {
  "kernelspec": {
   "display_name": "pda1",
   "language": "python",
   "name": "python3"
  },
  "language_info": {
   "codemirror_mode": {
    "name": "ipython",
    "version": 3
   },
   "file_extension": ".py",
   "mimetype": "text/x-python",
   "name": "python",
   "nbconvert_exporter": "python",
   "pygments_lexer": "ipython3",
   "version": "3.11.5"
  }
 },
 "nbformat": 4,
 "nbformat_minor": 2
}
